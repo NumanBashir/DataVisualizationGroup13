{
 "cells": [
  {
   "attachments": {},
   "cell_type": "markdown",
   "metadata": {},
   "source": [
    "# Introduction"
   ]
  },
  {
   "attachments": {},
   "cell_type": "markdown",
   "metadata": {},
   "source": [
    "Hopefully, this short tutorial can show you a lot of different commands that will help you gain the most insights into your dataset. "
   ]
  },
  {
   "cell_type": "code",
   "execution_count": 9,
   "metadata": {
    "collapsed": true
   },
   "outputs": [],
   "source": [
    "import pandas as pd\n",
    "from src.utils import load_data_from_google_drive"
   ]
  },
  {
   "attachments": {},
   "cell_type": "markdown",
   "metadata": {},
   "source": [
    "# Loading in Data"
   ]
  },
  {
   "attachments": {},
   "cell_type": "markdown",
   "metadata": {},
   "source": [
    "The first step in any ML problem is identifying what format your data is in, and then loading it into whatever framework you're using. For Kaggle compeitions, a lot of data can be found in CSV files, so that's the example we're going to use. "
   ]
  },
  {
   "attachments": {},
   "cell_type": "markdown",
   "metadata": {},
   "source": [
    "We're going to be looking at a sports dataset that shows the results from NCAA basketball games from 1985 to 2016. This dataset is in a CSV file, and the function we're going to use to read in the file is called **pd.read_csv()**. This function returns a **dataframe** variable. The dataframe is the golden jewel data structure for Pandas. It is defined as \"a two-dimensional size-mutable, potentially heterogeneous tabular data structure with labeled axes (rows and columns)\"."
   ]
  },
  {
   "attachments": {},
   "cell_type": "markdown",
   "metadata": {},
   "source": [
    "Just think of it as a table for now. "
   ]
  },
  {
   "cell_type": "code",
   "execution_count": 10,
   "metadata": {
    "collapsed": false
   },
   "outputs": [],
   "source": [
    "df = load_data_from_google_drive(url='https://drive.google.com/file/d/184JcLbSpArA_uq0DgAv2k892KChJVPHt/view?usp=share_link')"
   ]
  },
  {
   "cell_type": "code",
   "execution_count": 11,
   "metadata": {},
   "outputs": [
    {
     "data": {
      "text/html": [
       "<div>\n",
       "<style scoped>\n",
       "    .dataframe tbody tr th:only-of-type {\n",
       "        vertical-align: middle;\n",
       "    }\n",
       "\n",
       "    .dataframe tbody tr th {\n",
       "        vertical-align: top;\n",
       "    }\n",
       "\n",
       "    .dataframe thead th {\n",
       "        text-align: right;\n",
       "    }\n",
       "</style>\n",
       "<table border=\"1\" class=\"dataframe\">\n",
       "  <thead>\n",
       "    <tr style=\"text-align: right;\">\n",
       "      <th></th>\n",
       "      <th>Season</th>\n",
       "      <th>Daynum</th>\n",
       "      <th>Wteam</th>\n",
       "      <th>Wscore</th>\n",
       "      <th>Lteam</th>\n",
       "      <th>Lscore</th>\n",
       "      <th>Wloc</th>\n",
       "      <th>Numot</th>\n",
       "    </tr>\n",
       "  </thead>\n",
       "  <tbody>\n",
       "    <tr>\n",
       "      <th>0</th>\n",
       "      <td>1985</td>\n",
       "      <td>20</td>\n",
       "      <td>1228</td>\n",
       "      <td>81</td>\n",
       "      <td>1328</td>\n",
       "      <td>64</td>\n",
       "      <td>N</td>\n",
       "      <td>0</td>\n",
       "    </tr>\n",
       "    <tr>\n",
       "      <th>1</th>\n",
       "      <td>1985</td>\n",
       "      <td>25</td>\n",
       "      <td>1106</td>\n",
       "      <td>77</td>\n",
       "      <td>1354</td>\n",
       "      <td>70</td>\n",
       "      <td>H</td>\n",
       "      <td>0</td>\n",
       "    </tr>\n",
       "    <tr>\n",
       "      <th>2</th>\n",
       "      <td>1985</td>\n",
       "      <td>25</td>\n",
       "      <td>1112</td>\n",
       "      <td>63</td>\n",
       "      <td>1223</td>\n",
       "      <td>56</td>\n",
       "      <td>H</td>\n",
       "      <td>0</td>\n",
       "    </tr>\n",
       "    <tr>\n",
       "      <th>3</th>\n",
       "      <td>1985</td>\n",
       "      <td>25</td>\n",
       "      <td>1165</td>\n",
       "      <td>70</td>\n",
       "      <td>1432</td>\n",
       "      <td>54</td>\n",
       "      <td>H</td>\n",
       "      <td>0</td>\n",
       "    </tr>\n",
       "    <tr>\n",
       "      <th>4</th>\n",
       "      <td>1985</td>\n",
       "      <td>25</td>\n",
       "      <td>1192</td>\n",
       "      <td>86</td>\n",
       "      <td>1447</td>\n",
       "      <td>74</td>\n",
       "      <td>H</td>\n",
       "      <td>0</td>\n",
       "    </tr>\n",
       "    <tr>\n",
       "      <th>...</th>\n",
       "      <td>...</td>\n",
       "      <td>...</td>\n",
       "      <td>...</td>\n",
       "      <td>...</td>\n",
       "      <td>...</td>\n",
       "      <td>...</td>\n",
       "      <td>...</td>\n",
       "      <td>...</td>\n",
       "    </tr>\n",
       "    <tr>\n",
       "      <th>145284</th>\n",
       "      <td>2016</td>\n",
       "      <td>132</td>\n",
       "      <td>1114</td>\n",
       "      <td>70</td>\n",
       "      <td>1419</td>\n",
       "      <td>50</td>\n",
       "      <td>N</td>\n",
       "      <td>0</td>\n",
       "    </tr>\n",
       "    <tr>\n",
       "      <th>145285</th>\n",
       "      <td>2016</td>\n",
       "      <td>132</td>\n",
       "      <td>1163</td>\n",
       "      <td>72</td>\n",
       "      <td>1272</td>\n",
       "      <td>58</td>\n",
       "      <td>N</td>\n",
       "      <td>0</td>\n",
       "    </tr>\n",
       "    <tr>\n",
       "      <th>145286</th>\n",
       "      <td>2016</td>\n",
       "      <td>132</td>\n",
       "      <td>1246</td>\n",
       "      <td>82</td>\n",
       "      <td>1401</td>\n",
       "      <td>77</td>\n",
       "      <td>N</td>\n",
       "      <td>1</td>\n",
       "    </tr>\n",
       "    <tr>\n",
       "      <th>145287</th>\n",
       "      <td>2016</td>\n",
       "      <td>132</td>\n",
       "      <td>1277</td>\n",
       "      <td>66</td>\n",
       "      <td>1345</td>\n",
       "      <td>62</td>\n",
       "      <td>N</td>\n",
       "      <td>0</td>\n",
       "    </tr>\n",
       "    <tr>\n",
       "      <th>145288</th>\n",
       "      <td>2016</td>\n",
       "      <td>132</td>\n",
       "      <td>1386</td>\n",
       "      <td>87</td>\n",
       "      <td>1433</td>\n",
       "      <td>74</td>\n",
       "      <td>N</td>\n",
       "      <td>0</td>\n",
       "    </tr>\n",
       "  </tbody>\n",
       "</table>\n",
       "<p>145289 rows × 8 columns</p>\n",
       "</div>"
      ],
      "text/plain": [
       "        Season  Daynum  Wteam  Wscore  Lteam  Lscore Wloc  Numot\n",
       "0         1985      20   1228      81   1328      64    N      0\n",
       "1         1985      25   1106      77   1354      70    H      0\n",
       "2         1985      25   1112      63   1223      56    H      0\n",
       "3         1985      25   1165      70   1432      54    H      0\n",
       "4         1985      25   1192      86   1447      74    H      0\n",
       "...        ...     ...    ...     ...    ...     ...  ...    ...\n",
       "145284    2016     132   1114      70   1419      50    N      0\n",
       "145285    2016     132   1163      72   1272      58    N      0\n",
       "145286    2016     132   1246      82   1401      77    N      1\n",
       "145287    2016     132   1277      66   1345      62    N      0\n",
       "145288    2016     132   1386      87   1433      74    N      0\n",
       "\n",
       "[145289 rows x 8 columns]"
      ]
     },
     "execution_count": 11,
     "metadata": {},
     "output_type": "execute_result"
    }
   ],
   "source": [
    "df"
   ]
  },
  {
   "attachments": {},
   "cell_type": "markdown",
   "metadata": {},
   "source": [
    "# The Basics"
   ]
  },
  {
   "attachments": {},
   "cell_type": "markdown",
   "metadata": {},
   "source": [
    "Now that we have our dataframe in our variable df, let's look at what it contains. We can use the function **head()** to see the first couple rows of the dataframe (or the function **tail()** to see the last few rows)."
   ]
  },
  {
   "cell_type": "code",
   "execution_count": 12,
   "metadata": {
    "collapsed": false
   },
   "outputs": [
    {
     "data": {
      "text/html": [
       "<div>\n",
       "<style scoped>\n",
       "    .dataframe tbody tr th:only-of-type {\n",
       "        vertical-align: middle;\n",
       "    }\n",
       "\n",
       "    .dataframe tbody tr th {\n",
       "        vertical-align: top;\n",
       "    }\n",
       "\n",
       "    .dataframe thead th {\n",
       "        text-align: right;\n",
       "    }\n",
       "</style>\n",
       "<table border=\"1\" class=\"dataframe\">\n",
       "  <thead>\n",
       "    <tr style=\"text-align: right;\">\n",
       "      <th></th>\n",
       "      <th>Season</th>\n",
       "      <th>Daynum</th>\n",
       "      <th>Wteam</th>\n",
       "      <th>Wscore</th>\n",
       "      <th>Lteam</th>\n",
       "      <th>Lscore</th>\n",
       "      <th>Wloc</th>\n",
       "      <th>Numot</th>\n",
       "    </tr>\n",
       "  </thead>\n",
       "  <tbody>\n",
       "    <tr>\n",
       "      <th>0</th>\n",
       "      <td>1985</td>\n",
       "      <td>20</td>\n",
       "      <td>1228</td>\n",
       "      <td>81</td>\n",
       "      <td>1328</td>\n",
       "      <td>64</td>\n",
       "      <td>N</td>\n",
       "      <td>0</td>\n",
       "    </tr>\n",
       "    <tr>\n",
       "      <th>1</th>\n",
       "      <td>1985</td>\n",
       "      <td>25</td>\n",
       "      <td>1106</td>\n",
       "      <td>77</td>\n",
       "      <td>1354</td>\n",
       "      <td>70</td>\n",
       "      <td>H</td>\n",
       "      <td>0</td>\n",
       "    </tr>\n",
       "    <tr>\n",
       "      <th>2</th>\n",
       "      <td>1985</td>\n",
       "      <td>25</td>\n",
       "      <td>1112</td>\n",
       "      <td>63</td>\n",
       "      <td>1223</td>\n",
       "      <td>56</td>\n",
       "      <td>H</td>\n",
       "      <td>0</td>\n",
       "    </tr>\n",
       "    <tr>\n",
       "      <th>3</th>\n",
       "      <td>1985</td>\n",
       "      <td>25</td>\n",
       "      <td>1165</td>\n",
       "      <td>70</td>\n",
       "      <td>1432</td>\n",
       "      <td>54</td>\n",
       "      <td>H</td>\n",
       "      <td>0</td>\n",
       "    </tr>\n",
       "    <tr>\n",
       "      <th>4</th>\n",
       "      <td>1985</td>\n",
       "      <td>25</td>\n",
       "      <td>1192</td>\n",
       "      <td>86</td>\n",
       "      <td>1447</td>\n",
       "      <td>74</td>\n",
       "      <td>H</td>\n",
       "      <td>0</td>\n",
       "    </tr>\n",
       "  </tbody>\n",
       "</table>\n",
       "</div>"
      ],
      "text/plain": [
       "   Season  Daynum  Wteam  Wscore  Lteam  Lscore Wloc  Numot\n",
       "0    1985      20   1228      81   1328      64    N      0\n",
       "1    1985      25   1106      77   1354      70    H      0\n",
       "2    1985      25   1112      63   1223      56    H      0\n",
       "3    1985      25   1165      70   1432      54    H      0\n",
       "4    1985      25   1192      86   1447      74    H      0"
      ]
     },
     "execution_count": 12,
     "metadata": {},
     "output_type": "execute_result"
    }
   ],
   "source": [
    "df.head()"
   ]
  },
  {
   "cell_type": "code",
   "execution_count": 13,
   "metadata": {
    "collapsed": false
   },
   "outputs": [
    {
     "data": {
      "text/html": [
       "<div>\n",
       "<style scoped>\n",
       "    .dataframe tbody tr th:only-of-type {\n",
       "        vertical-align: middle;\n",
       "    }\n",
       "\n",
       "    .dataframe tbody tr th {\n",
       "        vertical-align: top;\n",
       "    }\n",
       "\n",
       "    .dataframe thead th {\n",
       "        text-align: right;\n",
       "    }\n",
       "</style>\n",
       "<table border=\"1\" class=\"dataframe\">\n",
       "  <thead>\n",
       "    <tr style=\"text-align: right;\">\n",
       "      <th></th>\n",
       "      <th>Season</th>\n",
       "      <th>Daynum</th>\n",
       "      <th>Wteam</th>\n",
       "      <th>Wscore</th>\n",
       "      <th>Lteam</th>\n",
       "      <th>Lscore</th>\n",
       "      <th>Wloc</th>\n",
       "      <th>Numot</th>\n",
       "    </tr>\n",
       "  </thead>\n",
       "  <tbody>\n",
       "    <tr>\n",
       "      <th>145284</th>\n",
       "      <td>2016</td>\n",
       "      <td>132</td>\n",
       "      <td>1114</td>\n",
       "      <td>70</td>\n",
       "      <td>1419</td>\n",
       "      <td>50</td>\n",
       "      <td>N</td>\n",
       "      <td>0</td>\n",
       "    </tr>\n",
       "    <tr>\n",
       "      <th>145285</th>\n",
       "      <td>2016</td>\n",
       "      <td>132</td>\n",
       "      <td>1163</td>\n",
       "      <td>72</td>\n",
       "      <td>1272</td>\n",
       "      <td>58</td>\n",
       "      <td>N</td>\n",
       "      <td>0</td>\n",
       "    </tr>\n",
       "    <tr>\n",
       "      <th>145286</th>\n",
       "      <td>2016</td>\n",
       "      <td>132</td>\n",
       "      <td>1246</td>\n",
       "      <td>82</td>\n",
       "      <td>1401</td>\n",
       "      <td>77</td>\n",
       "      <td>N</td>\n",
       "      <td>1</td>\n",
       "    </tr>\n",
       "    <tr>\n",
       "      <th>145287</th>\n",
       "      <td>2016</td>\n",
       "      <td>132</td>\n",
       "      <td>1277</td>\n",
       "      <td>66</td>\n",
       "      <td>1345</td>\n",
       "      <td>62</td>\n",
       "      <td>N</td>\n",
       "      <td>0</td>\n",
       "    </tr>\n",
       "    <tr>\n",
       "      <th>145288</th>\n",
       "      <td>2016</td>\n",
       "      <td>132</td>\n",
       "      <td>1386</td>\n",
       "      <td>87</td>\n",
       "      <td>1433</td>\n",
       "      <td>74</td>\n",
       "      <td>N</td>\n",
       "      <td>0</td>\n",
       "    </tr>\n",
       "  </tbody>\n",
       "</table>\n",
       "</div>"
      ],
      "text/plain": [
       "        Season  Daynum  Wteam  Wscore  Lteam  Lscore Wloc  Numot\n",
       "145284    2016     132   1114      70   1419      50    N      0\n",
       "145285    2016     132   1163      72   1272      58    N      0\n",
       "145286    2016     132   1246      82   1401      77    N      1\n",
       "145287    2016     132   1277      66   1345      62    N      0\n",
       "145288    2016     132   1386      87   1433      74    N      0"
      ]
     },
     "execution_count": 13,
     "metadata": {},
     "output_type": "execute_result"
    }
   ],
   "source": [
    "df.tail()"
   ]
  },
  {
   "attachments": {},
   "cell_type": "markdown",
   "metadata": {},
   "source": [
    "We can see the dimensions of the dataframe using the the **shape** attribute"
   ]
  },
  {
   "cell_type": "code",
   "execution_count": 14,
   "metadata": {
    "collapsed": false
   },
   "outputs": [
    {
     "data": {
      "text/plain": [
       "(145289, 8)"
      ]
     },
     "execution_count": 14,
     "metadata": {},
     "output_type": "execute_result"
    }
   ],
   "source": [
    "df.shape"
   ]
  },
  {
   "attachments": {},
   "cell_type": "markdown",
   "metadata": {
    "collapsed": true
   },
   "source": [
    "We can also extract all the column names as a list, by using the **columns** attribute and can extract the rows with the **index** attribute"
   ]
  },
  {
   "cell_type": "code",
   "execution_count": 15,
   "metadata": {
    "collapsed": false
   },
   "outputs": [
    {
     "data": {
      "text/plain": [
       "['Season', 'Daynum', 'Wteam', 'Wscore', 'Lteam', 'Lscore', 'Wloc', 'Numot']"
      ]
     },
     "execution_count": 15,
     "metadata": {},
     "output_type": "execute_result"
    }
   ],
   "source": [
    "df.columns.tolist()"
   ]
  },
  {
   "attachments": {},
   "cell_type": "markdown",
   "metadata": {},
   "source": [
    "In order to get a better idea of the type of data that we are dealing with, we can call the **describe()** function to see statistics like mean, min, etc about each column of the dataset. "
   ]
  },
  {
   "cell_type": "code",
   "execution_count": 16,
   "metadata": {
    "collapsed": false
   },
   "outputs": [
    {
     "data": {
      "text/html": [
       "<div>\n",
       "<style scoped>\n",
       "    .dataframe tbody tr th:only-of-type {\n",
       "        vertical-align: middle;\n",
       "    }\n",
       "\n",
       "    .dataframe tbody tr th {\n",
       "        vertical-align: top;\n",
       "    }\n",
       "\n",
       "    .dataframe thead th {\n",
       "        text-align: right;\n",
       "    }\n",
       "</style>\n",
       "<table border=\"1\" class=\"dataframe\">\n",
       "  <thead>\n",
       "    <tr style=\"text-align: right;\">\n",
       "      <th></th>\n",
       "      <th>Season</th>\n",
       "      <th>Daynum</th>\n",
       "      <th>Wteam</th>\n",
       "      <th>Wscore</th>\n",
       "      <th>Lteam</th>\n",
       "      <th>Lscore</th>\n",
       "      <th>Numot</th>\n",
       "    </tr>\n",
       "  </thead>\n",
       "  <tbody>\n",
       "    <tr>\n",
       "      <th>count</th>\n",
       "      <td>145289.000000</td>\n",
       "      <td>145289.000000</td>\n",
       "      <td>145289.000000</td>\n",
       "      <td>145289.000000</td>\n",
       "      <td>145289.000000</td>\n",
       "      <td>145289.000000</td>\n",
       "      <td>145289.000000</td>\n",
       "    </tr>\n",
       "    <tr>\n",
       "      <th>mean</th>\n",
       "      <td>2001.574834</td>\n",
       "      <td>75.223816</td>\n",
       "      <td>1286.720646</td>\n",
       "      <td>76.600321</td>\n",
       "      <td>1282.864064</td>\n",
       "      <td>64.497009</td>\n",
       "      <td>0.044387</td>\n",
       "    </tr>\n",
       "    <tr>\n",
       "      <th>std</th>\n",
       "      <td>9.233342</td>\n",
       "      <td>33.287418</td>\n",
       "      <td>104.570275</td>\n",
       "      <td>12.173033</td>\n",
       "      <td>104.829234</td>\n",
       "      <td>11.380625</td>\n",
       "      <td>0.247819</td>\n",
       "    </tr>\n",
       "    <tr>\n",
       "      <th>min</th>\n",
       "      <td>1985.000000</td>\n",
       "      <td>0.000000</td>\n",
       "      <td>1101.000000</td>\n",
       "      <td>34.000000</td>\n",
       "      <td>1101.000000</td>\n",
       "      <td>20.000000</td>\n",
       "      <td>0.000000</td>\n",
       "    </tr>\n",
       "    <tr>\n",
       "      <th>25%</th>\n",
       "      <td>1994.000000</td>\n",
       "      <td>47.000000</td>\n",
       "      <td>1198.000000</td>\n",
       "      <td>68.000000</td>\n",
       "      <td>1191.000000</td>\n",
       "      <td>57.000000</td>\n",
       "      <td>0.000000</td>\n",
       "    </tr>\n",
       "    <tr>\n",
       "      <th>50%</th>\n",
       "      <td>2002.000000</td>\n",
       "      <td>78.000000</td>\n",
       "      <td>1284.000000</td>\n",
       "      <td>76.000000</td>\n",
       "      <td>1280.000000</td>\n",
       "      <td>64.000000</td>\n",
       "      <td>0.000000</td>\n",
       "    </tr>\n",
       "    <tr>\n",
       "      <th>75%</th>\n",
       "      <td>2010.000000</td>\n",
       "      <td>103.000000</td>\n",
       "      <td>1379.000000</td>\n",
       "      <td>84.000000</td>\n",
       "      <td>1375.000000</td>\n",
       "      <td>72.000000</td>\n",
       "      <td>0.000000</td>\n",
       "    </tr>\n",
       "    <tr>\n",
       "      <th>max</th>\n",
       "      <td>2016.000000</td>\n",
       "      <td>132.000000</td>\n",
       "      <td>1464.000000</td>\n",
       "      <td>186.000000</td>\n",
       "      <td>1464.000000</td>\n",
       "      <td>150.000000</td>\n",
       "      <td>6.000000</td>\n",
       "    </tr>\n",
       "  </tbody>\n",
       "</table>\n",
       "</div>"
      ],
      "text/plain": [
       "              Season         Daynum          Wteam         Wscore   \n",
       "count  145289.000000  145289.000000  145289.000000  145289.000000  \\\n",
       "mean     2001.574834      75.223816    1286.720646      76.600321   \n",
       "std         9.233342      33.287418     104.570275      12.173033   \n",
       "min      1985.000000       0.000000    1101.000000      34.000000   \n",
       "25%      1994.000000      47.000000    1198.000000      68.000000   \n",
       "50%      2002.000000      78.000000    1284.000000      76.000000   \n",
       "75%      2010.000000     103.000000    1379.000000      84.000000   \n",
       "max      2016.000000     132.000000    1464.000000     186.000000   \n",
       "\n",
       "               Lteam         Lscore          Numot  \n",
       "count  145289.000000  145289.000000  145289.000000  \n",
       "mean     1282.864064      64.497009       0.044387  \n",
       "std       104.829234      11.380625       0.247819  \n",
       "min      1101.000000      20.000000       0.000000  \n",
       "25%      1191.000000      57.000000       0.000000  \n",
       "50%      1280.000000      64.000000       0.000000  \n",
       "75%      1375.000000      72.000000       0.000000  \n",
       "max      1464.000000     150.000000       6.000000  "
      ]
     },
     "execution_count": 16,
     "metadata": {},
     "output_type": "execute_result"
    }
   ],
   "source": [
    "df.describe()"
   ]
  },
  {
   "attachments": {},
   "cell_type": "markdown",
   "metadata": {},
   "source": [
    "Okay, so now let's looking at information that we want to extract from the dataframe. Let's say I wanted to know the max value of a certain column. The function **max()** will show you the maximum values of all columns"
   ]
  },
  {
   "cell_type": "code",
   "execution_count": 17,
   "metadata": {
    "collapsed": false
   },
   "outputs": [
    {
     "data": {
      "text/plain": [
       "Season    2016\n",
       "Daynum     132\n",
       "Wteam     1464\n",
       "Wscore     186\n",
       "Lteam     1464\n",
       "Lscore     150\n",
       "Wloc         N\n",
       "Numot        6\n",
       "dtype: object"
      ]
     },
     "execution_count": 17,
     "metadata": {},
     "output_type": "execute_result"
    }
   ],
   "source": [
    "df.max()"
   ]
  },
  {
   "attachments": {},
   "cell_type": "markdown",
   "metadata": {},
   "source": [
    "Then, if you'd like to specifically get the max value for a particular column, you pass in the name of the column using the bracket indexing operator"
   ]
  },
  {
   "cell_type": "code",
   "execution_count": 18,
   "metadata": {
    "collapsed": false
   },
   "outputs": [
    {
     "data": {
      "text/plain": [
       "186"
      ]
     },
     "execution_count": 18,
     "metadata": {},
     "output_type": "execute_result"
    }
   ],
   "source": [
    "df['Wscore'].max()"
   ]
  },
  {
   "attachments": {},
   "cell_type": "markdown",
   "metadata": {},
   "source": [
    "If you'd like to find the mean of the Losing teams' score. "
   ]
  },
  {
   "cell_type": "code",
   "execution_count": 19,
   "metadata": {
    "collapsed": false
   },
   "outputs": [
    {
     "data": {
      "text/plain": [
       "64.49700940883343"
      ]
     },
     "execution_count": 19,
     "metadata": {},
     "output_type": "execute_result"
    }
   ],
   "source": [
    "df['Lscore'].mean()"
   ]
  },
  {
   "attachments": {},
   "cell_type": "markdown",
   "metadata": {},
   "source": [
    "But what if that's not enough? Let's say we want to actually see the game(row) where this max score happened. We can call the **argmax()** function to identify the row index"
   ]
  },
  {
   "cell_type": "code",
   "execution_count": 20,
   "metadata": {
    "collapsed": false
   },
   "outputs": [
    {
     "data": {
      "text/plain": [
       "24970"
      ]
     },
     "execution_count": 20,
     "metadata": {},
     "output_type": "execute_result"
    }
   ],
   "source": [
    "df['Wscore'].argmax()"
   ]
  },
  {
   "attachments": {},
   "cell_type": "markdown",
   "metadata": {},
   "source": [
    "One of the most useful functions that you can call on certain columns in a dataframe is the **value_counts()** function. It shows how many times each item appears in the column. This particular command shows the number of games in each season"
   ]
  },
  {
   "cell_type": "code",
   "execution_count": 21,
   "metadata": {
    "collapsed": false
   },
   "outputs": [
    {
     "data": {
      "text/plain": [
       "Season\n",
       "2016    5369\n",
       "2014    5362\n",
       "2015    5354\n",
       "2013    5320\n",
       "2010    5263\n",
       "2012    5253\n",
       "2009    5249\n",
       "2011    5246\n",
       "2008    5163\n",
       "2007    5043\n",
       "2006    4757\n",
       "2005    4675\n",
       "2003    4616\n",
       "2004    4571\n",
       "2002    4555\n",
       "2000    4519\n",
       "2001    4467\n",
       "1999    4222\n",
       "1998    4167\n",
       "1997    4155\n",
       "1992    4127\n",
       "1991    4123\n",
       "1996    4122\n",
       "1995    4077\n",
       "1994    4060\n",
       "1990    4045\n",
       "1989    4037\n",
       "1993    3982\n",
       "1988    3955\n",
       "1987    3915\n",
       "1986    3783\n",
       "1985    3737\n",
       "Name: count, dtype: int64"
      ]
     },
     "execution_count": 21,
     "metadata": {},
     "output_type": "execute_result"
    }
   ],
   "source": [
    "df['Season'].value_counts()"
   ]
  },
  {
   "attachments": {},
   "cell_type": "markdown",
   "metadata": {},
   "source": [
    "**Q**: How many unique seasons are there in the dataset? Use the nunique() function."
   ]
  },
  {
   "cell_type": "code",
   "execution_count": 28,
   "metadata": {},
   "outputs": [
    {
     "name": "stdout",
     "output_type": "stream",
     "text": [
      "Number of unique seasons: 32\n"
     ]
    }
   ],
   "source": [
    "# Write your code here\n",
    "unique_seasons = df['Season'].nunique()\n",
    "print(\"Number of unique seasons:\", unique_seasons)\n",
    "\n"
   ]
  },
  {
   "attachments": {},
   "cell_type": "markdown",
   "metadata": {},
   "source": [
    "**Q**: Find the team with the most wins. Use the value_counts() function on the Wteam column."
   ]
  },
  {
   "cell_type": "code",
   "execution_count": 29,
   "metadata": {},
   "outputs": [
    {
     "name": "stdout",
     "output_type": "stream",
     "text": [
      "Team with the most wins: 1181\n"
     ]
    }
   ],
   "source": [
    "# Write your code here\n",
    "most_wins_team = df['Wteam'].value_counts().idxmax()\n",
    "print(\"Team with the most wins:\", most_wins_team)\n"
   ]
  },
  {
   "attachments": {},
   "cell_type": "markdown",
   "metadata": {},
   "source": [
    "# Acessing Values"
   ]
  },
  {
   "attachments": {},
   "cell_type": "markdown",
   "metadata": {},
   "source": [
    "Then, in order to get attributes about the game, we need to use the **iloc[]** function. Iloc is definitely one of the more important functions. The main idea is that you want to use it whenever you have the integer index of a certain row that you want to access. As per Pandas documentation, iloc is an \"integer-location based indexing for selection by position.\""
   ]
  },
  {
   "cell_type": "code",
   "execution_count": 30,
   "metadata": {
    "collapsed": false
   },
   "outputs": [
    {
     "data": {
      "text/html": [
       "<div>\n",
       "<style scoped>\n",
       "    .dataframe tbody tr th:only-of-type {\n",
       "        vertical-align: middle;\n",
       "    }\n",
       "\n",
       "    .dataframe tbody tr th {\n",
       "        vertical-align: top;\n",
       "    }\n",
       "\n",
       "    .dataframe thead th {\n",
       "        text-align: right;\n",
       "    }\n",
       "</style>\n",
       "<table border=\"1\" class=\"dataframe\">\n",
       "  <thead>\n",
       "    <tr style=\"text-align: right;\">\n",
       "      <th></th>\n",
       "      <th>Season</th>\n",
       "      <th>Daynum</th>\n",
       "      <th>Wteam</th>\n",
       "      <th>Wscore</th>\n",
       "      <th>Lteam</th>\n",
       "      <th>Lscore</th>\n",
       "      <th>Wloc</th>\n",
       "      <th>Numot</th>\n",
       "    </tr>\n",
       "  </thead>\n",
       "  <tbody>\n",
       "    <tr>\n",
       "      <th>24970</th>\n",
       "      <td>1991</td>\n",
       "      <td>68</td>\n",
       "      <td>1258</td>\n",
       "      <td>186</td>\n",
       "      <td>1109</td>\n",
       "      <td>140</td>\n",
       "      <td>H</td>\n",
       "      <td>0</td>\n",
       "    </tr>\n",
       "  </tbody>\n",
       "</table>\n",
       "</div>"
      ],
      "text/plain": [
       "       Season  Daynum  Wteam  Wscore  Lteam  Lscore Wloc  Numot\n",
       "24970    1991      68   1258     186   1109     140    H      0"
      ]
     },
     "execution_count": 30,
     "metadata": {},
     "output_type": "execute_result"
    }
   ],
   "source": [
    "df.iloc[[df['Wscore'].argmax()]]"
   ]
  },
  {
   "attachments": {},
   "cell_type": "markdown",
   "metadata": {},
   "source": [
    "Let's take this a step further. Let's say you want to know the game with the highest scoring winning team (this is what we just calculated), but you then want to know how many points the losing team scored. "
   ]
  },
  {
   "cell_type": "code",
   "execution_count": 31,
   "metadata": {
    "collapsed": false
   },
   "outputs": [
    {
     "data": {
      "text/plain": [
       "24970    140\n",
       "Name: Lscore, dtype: int64"
      ]
     },
     "execution_count": 31,
     "metadata": {},
     "output_type": "execute_result"
    }
   ],
   "source": [
    "df.iloc[[df['Wscore'].argmax()]]['Lscore']"
   ]
  },
  {
   "attachments": {},
   "cell_type": "markdown",
   "metadata": {},
   "source": [
    "When you see data displayed in the above format, you're dealing with a Pandas **Series** object, not a dataframe object."
   ]
  },
  {
   "cell_type": "code",
   "execution_count": 32,
   "metadata": {
    "collapsed": false
   },
   "outputs": [
    {
     "data": {
      "text/plain": [
       "pandas.core.series.Series"
      ]
     },
     "execution_count": 32,
     "metadata": {},
     "output_type": "execute_result"
    }
   ],
   "source": [
    "type(df.iloc[[df['Wscore'].argmax()]]['Lscore'])"
   ]
  },
  {
   "cell_type": "code",
   "execution_count": 33,
   "metadata": {
    "collapsed": false
   },
   "outputs": [
    {
     "data": {
      "text/plain": [
       "pandas.core.frame.DataFrame"
      ]
     },
     "execution_count": 33,
     "metadata": {},
     "output_type": "execute_result"
    }
   ],
   "source": [
    "type(df.iloc[[df['Wscore'].argmax()]])"
   ]
  },
  {
   "attachments": {},
   "cell_type": "markdown",
   "metadata": {},
   "source": [
    "The following is a summary of the 3 data structures in Pandas (Haven't ever really used Panels yet)\n",
    "\n",
    "![](DataStructures.png)"
   ]
  },
  {
   "attachments": {},
   "cell_type": "markdown",
   "metadata": {},
   "source": [
    "When you want to access values in a Series, you'll want to just treat the Series like a Python dictionary, so you'd access the value according to its key (which is normally an integer index)"
   ]
  },
  {
   "cell_type": "code",
   "execution_count": 34,
   "metadata": {
    "collapsed": false
   },
   "outputs": [
    {
     "data": {
      "text/plain": [
       "140"
      ]
     },
     "execution_count": 34,
     "metadata": {},
     "output_type": "execute_result"
    }
   ],
   "source": [
    "df.iloc[[df['Wscore'].argmax()]]['Lscore'][24970]"
   ]
  },
  {
   "attachments": {},
   "cell_type": "markdown",
   "metadata": {},
   "source": [
    "The other really important function in Pandas is the **loc** function. Contrary to iloc, which is an integer based indexing, loc is a \"Purely label-location based indexer for selection by label\". Since all the games are ordered from 0 to 145288, iloc and loc are going to be pretty interchangable in this type of dataset"
   ]
  },
  {
   "cell_type": "code",
   "execution_count": 35,
   "metadata": {
    "collapsed": false
   },
   "outputs": [
    {
     "data": {
      "text/html": [
       "<div>\n",
       "<style scoped>\n",
       "    .dataframe tbody tr th:only-of-type {\n",
       "        vertical-align: middle;\n",
       "    }\n",
       "\n",
       "    .dataframe tbody tr th {\n",
       "        vertical-align: top;\n",
       "    }\n",
       "\n",
       "    .dataframe thead th {\n",
       "        text-align: right;\n",
       "    }\n",
       "</style>\n",
       "<table border=\"1\" class=\"dataframe\">\n",
       "  <thead>\n",
       "    <tr style=\"text-align: right;\">\n",
       "      <th></th>\n",
       "      <th>Season</th>\n",
       "      <th>Daynum</th>\n",
       "      <th>Wteam</th>\n",
       "      <th>Wscore</th>\n",
       "      <th>Lteam</th>\n",
       "      <th>Lscore</th>\n",
       "      <th>Wloc</th>\n",
       "      <th>Numot</th>\n",
       "    </tr>\n",
       "  </thead>\n",
       "  <tbody>\n",
       "    <tr>\n",
       "      <th>0</th>\n",
       "      <td>1985</td>\n",
       "      <td>20</td>\n",
       "      <td>1228</td>\n",
       "      <td>81</td>\n",
       "      <td>1328</td>\n",
       "      <td>64</td>\n",
       "      <td>N</td>\n",
       "      <td>0</td>\n",
       "    </tr>\n",
       "    <tr>\n",
       "      <th>1</th>\n",
       "      <td>1985</td>\n",
       "      <td>25</td>\n",
       "      <td>1106</td>\n",
       "      <td>77</td>\n",
       "      <td>1354</td>\n",
       "      <td>70</td>\n",
       "      <td>H</td>\n",
       "      <td>0</td>\n",
       "    </tr>\n",
       "    <tr>\n",
       "      <th>2</th>\n",
       "      <td>1985</td>\n",
       "      <td>25</td>\n",
       "      <td>1112</td>\n",
       "      <td>63</td>\n",
       "      <td>1223</td>\n",
       "      <td>56</td>\n",
       "      <td>H</td>\n",
       "      <td>0</td>\n",
       "    </tr>\n",
       "  </tbody>\n",
       "</table>\n",
       "</div>"
      ],
      "text/plain": [
       "   Season  Daynum  Wteam  Wscore  Lteam  Lscore Wloc  Numot\n",
       "0    1985      20   1228      81   1328      64    N      0\n",
       "1    1985      25   1106      77   1354      70    H      0\n",
       "2    1985      25   1112      63   1223      56    H      0"
      ]
     },
     "execution_count": 35,
     "metadata": {},
     "output_type": "execute_result"
    }
   ],
   "source": [
    "df.iloc[:3]"
   ]
  },
  {
   "cell_type": "code",
   "execution_count": 36,
   "metadata": {
    "collapsed": false
   },
   "outputs": [
    {
     "data": {
      "text/html": [
       "<div>\n",
       "<style scoped>\n",
       "    .dataframe tbody tr th:only-of-type {\n",
       "        vertical-align: middle;\n",
       "    }\n",
       "\n",
       "    .dataframe tbody tr th {\n",
       "        vertical-align: top;\n",
       "    }\n",
       "\n",
       "    .dataframe thead th {\n",
       "        text-align: right;\n",
       "    }\n",
       "</style>\n",
       "<table border=\"1\" class=\"dataframe\">\n",
       "  <thead>\n",
       "    <tr style=\"text-align: right;\">\n",
       "      <th></th>\n",
       "      <th>Season</th>\n",
       "      <th>Daynum</th>\n",
       "      <th>Wteam</th>\n",
       "      <th>Wscore</th>\n",
       "      <th>Lteam</th>\n",
       "      <th>Lscore</th>\n",
       "      <th>Wloc</th>\n",
       "      <th>Numot</th>\n",
       "    </tr>\n",
       "  </thead>\n",
       "  <tbody>\n",
       "    <tr>\n",
       "      <th>0</th>\n",
       "      <td>1985</td>\n",
       "      <td>20</td>\n",
       "      <td>1228</td>\n",
       "      <td>81</td>\n",
       "      <td>1328</td>\n",
       "      <td>64</td>\n",
       "      <td>N</td>\n",
       "      <td>0</td>\n",
       "    </tr>\n",
       "    <tr>\n",
       "      <th>1</th>\n",
       "      <td>1985</td>\n",
       "      <td>25</td>\n",
       "      <td>1106</td>\n",
       "      <td>77</td>\n",
       "      <td>1354</td>\n",
       "      <td>70</td>\n",
       "      <td>H</td>\n",
       "      <td>0</td>\n",
       "    </tr>\n",
       "    <tr>\n",
       "      <th>2</th>\n",
       "      <td>1985</td>\n",
       "      <td>25</td>\n",
       "      <td>1112</td>\n",
       "      <td>63</td>\n",
       "      <td>1223</td>\n",
       "      <td>56</td>\n",
       "      <td>H</td>\n",
       "      <td>0</td>\n",
       "    </tr>\n",
       "    <tr>\n",
       "      <th>3</th>\n",
       "      <td>1985</td>\n",
       "      <td>25</td>\n",
       "      <td>1165</td>\n",
       "      <td>70</td>\n",
       "      <td>1432</td>\n",
       "      <td>54</td>\n",
       "      <td>H</td>\n",
       "      <td>0</td>\n",
       "    </tr>\n",
       "  </tbody>\n",
       "</table>\n",
       "</div>"
      ],
      "text/plain": [
       "   Season  Daynum  Wteam  Wscore  Lteam  Lscore Wloc  Numot\n",
       "0    1985      20   1228      81   1328      64    N      0\n",
       "1    1985      25   1106      77   1354      70    H      0\n",
       "2    1985      25   1112      63   1223      56    H      0\n",
       "3    1985      25   1165      70   1432      54    H      0"
      ]
     },
     "execution_count": 36,
     "metadata": {},
     "output_type": "execute_result"
    }
   ],
   "source": [
    "df.loc[:3]"
   ]
  },
  {
   "attachments": {},
   "cell_type": "markdown",
   "metadata": {},
   "source": [
    "Notice the slight difference in that iloc is exclusive of the second number, while loc is inclusive. "
   ]
  },
  {
   "attachments": {},
   "cell_type": "markdown",
   "metadata": {},
   "source": [
    "Below is an example of how you can use loc to acheive the same task as we did previously with iloc"
   ]
  },
  {
   "cell_type": "code",
   "execution_count": 37,
   "metadata": {
    "collapsed": false
   },
   "outputs": [
    {
     "data": {
      "text/plain": [
       "140"
      ]
     },
     "execution_count": 37,
     "metadata": {},
     "output_type": "execute_result"
    }
   ],
   "source": [
    "df.loc[df['Wscore'].argmax(), 'Lscore']"
   ]
  },
  {
   "attachments": {},
   "cell_type": "markdown",
   "metadata": {},
   "source": [
    "A faster version uses the **at()** function. At() is really useful wheneever you know the row label and the column label of the particular value that you want to get. "
   ]
  },
  {
   "cell_type": "code",
   "execution_count": 38,
   "metadata": {
    "collapsed": false
   },
   "outputs": [
    {
     "data": {
      "text/plain": [
       "140"
      ]
     },
     "execution_count": 38,
     "metadata": {},
     "output_type": "execute_result"
    }
   ],
   "source": [
    "df.at[df['Wscore'].argmax(), 'Lscore']"
   ]
  },
  {
   "attachments": {},
   "cell_type": "markdown",
   "metadata": {},
   "source": [
    "If you'd like to see more discussion on how loc and iloc are different, check out this great Stack Overflow post: http://stackoverflow.com/questions/31593201/pandas-iloc-vs-ix-vs-loc-explanation. Just remember that **iloc looks at position** and **loc looks at labels**. Loc becomes very important when your row labels aren't integers. "
   ]
  },
  {
   "attachments": {},
   "cell_type": "markdown",
   "metadata": {},
   "source": [
    "# Sorting"
   ]
  },
  {
   "attachments": {},
   "cell_type": "markdown",
   "metadata": {},
   "source": [
    "Let's say that we want to sort the dataframe in increasing order for the scores of the losing team"
   ]
  },
  {
   "cell_type": "code",
   "execution_count": 39,
   "metadata": {
    "collapsed": false,
    "scrolled": true
   },
   "outputs": [
    {
     "data": {
      "text/html": [
       "<div>\n",
       "<style scoped>\n",
       "    .dataframe tbody tr th:only-of-type {\n",
       "        vertical-align: middle;\n",
       "    }\n",
       "\n",
       "    .dataframe tbody tr th {\n",
       "        vertical-align: top;\n",
       "    }\n",
       "\n",
       "    .dataframe thead th {\n",
       "        text-align: right;\n",
       "    }\n",
       "</style>\n",
       "<table border=\"1\" class=\"dataframe\">\n",
       "  <thead>\n",
       "    <tr style=\"text-align: right;\">\n",
       "      <th></th>\n",
       "      <th>Season</th>\n",
       "      <th>Daynum</th>\n",
       "      <th>Wteam</th>\n",
       "      <th>Wscore</th>\n",
       "      <th>Lteam</th>\n",
       "      <th>Lscore</th>\n",
       "      <th>Wloc</th>\n",
       "      <th>Numot</th>\n",
       "    </tr>\n",
       "  </thead>\n",
       "  <tbody>\n",
       "    <tr>\n",
       "      <th>100027</th>\n",
       "      <td>2008</td>\n",
       "      <td>66</td>\n",
       "      <td>1203</td>\n",
       "      <td>49</td>\n",
       "      <td>1387</td>\n",
       "      <td>20</td>\n",
       "      <td>H</td>\n",
       "      <td>0</td>\n",
       "    </tr>\n",
       "    <tr>\n",
       "      <th>49310</th>\n",
       "      <td>1997</td>\n",
       "      <td>66</td>\n",
       "      <td>1157</td>\n",
       "      <td>61</td>\n",
       "      <td>1204</td>\n",
       "      <td>21</td>\n",
       "      <td>H</td>\n",
       "      <td>0</td>\n",
       "    </tr>\n",
       "    <tr>\n",
       "      <th>89021</th>\n",
       "      <td>2006</td>\n",
       "      <td>44</td>\n",
       "      <td>1284</td>\n",
       "      <td>41</td>\n",
       "      <td>1343</td>\n",
       "      <td>21</td>\n",
       "      <td>A</td>\n",
       "      <td>0</td>\n",
       "    </tr>\n",
       "    <tr>\n",
       "      <th>85042</th>\n",
       "      <td>2005</td>\n",
       "      <td>66</td>\n",
       "      <td>1131</td>\n",
       "      <td>73</td>\n",
       "      <td>1216</td>\n",
       "      <td>22</td>\n",
       "      <td>H</td>\n",
       "      <td>0</td>\n",
       "    </tr>\n",
       "    <tr>\n",
       "      <th>103660</th>\n",
       "      <td>2009</td>\n",
       "      <td>26</td>\n",
       "      <td>1326</td>\n",
       "      <td>59</td>\n",
       "      <td>1359</td>\n",
       "      <td>22</td>\n",
       "      <td>H</td>\n",
       "      <td>0</td>\n",
       "    </tr>\n",
       "  </tbody>\n",
       "</table>\n",
       "</div>"
      ],
      "text/plain": [
       "        Season  Daynum  Wteam  Wscore  Lteam  Lscore Wloc  Numot\n",
       "100027    2008      66   1203      49   1387      20    H      0\n",
       "49310     1997      66   1157      61   1204      21    H      0\n",
       "89021     2006      44   1284      41   1343      21    A      0\n",
       "85042     2005      66   1131      73   1216      22    H      0\n",
       "103660    2009      26   1326      59   1359      22    H      0"
      ]
     },
     "execution_count": 39,
     "metadata": {},
     "output_type": "execute_result"
    }
   ],
   "source": [
    "df.sort_values('Lscore').head()"
   ]
  },
  {
   "attachments": {},
   "cell_type": "markdown",
   "metadata": {},
   "source": [
    "**Q**: Make three dataframes that are sorted by season, winning team, and winning score respectively. Then, Using iloc, select the rows from index 100 to 200 and the columns for season, winning team, and winning score, respectively. "
   ]
  },
  {
   "cell_type": "code",
   "execution_count": 40,
   "metadata": {},
   "outputs": [
    {
     "name": "stdout",
     "output_type": "stream",
     "text": [
      "Sorted by Season:\n",
      "      Season  Daynum  Wteam  Wscore  Lteam  Lscore Wloc  Numot\n",
      "0       1985      20   1228      81   1328      64    N      0\n",
      "2484    1985      99   1275      73   1132      63    H      0\n",
      "2485    1985      99   1306      62   1171      59    H      0\n",
      "2486    1985      99   1318      99   1145      91    H      0\n",
      "2487    1985      99   1337      75   1109      56    H      0\n",
      "\n",
      "Sorted by Winning Team:\n",
      "        Season  Daynum  Wteam  Wscore  Lteam  Lscore Wloc  Numot\n",
      "140642    2016      25   1101      72   1197      62    N      0\n",
      "136740    2015      62   1101      87   1146      70    H      0\n",
      "143283    2016      89   1101      80   1249      71    H      0\n",
      "143476    2016      92   1101      79   1223      72    H      0\n",
      "141972    2016      61   1101      62   1146      61    A      0\n",
      "\n",
      "Sorted by Winning Score:\n",
      "        Season  Daynum  Wteam  Wscore  Lteam  Lscore Wloc  Numot\n",
      "128582    2013     116   1264      34   1193      31    H      0\n",
      "69336     2001     126   1206      35   1423      33    N      0\n",
      "5364      1986      77   1229      35   1166      34    A      0\n",
      "20246     1990      47   1374      36   1426      31    H      0\n",
      "118590    2011     130   1336      36   1458      33    N      0\n",
      "\n",
      "Selected Rows and Columns:\n",
      "      Season  Wteam  Wscore\n",
      "2525    1985   1406      68\n",
      "2526    1985   1410      83\n",
      "2527    1985   1423      58\n",
      "2528    1985   1429      86\n",
      "2529    1985   1440      50\n",
      "...      ...    ...     ...\n",
      "2447    1985   1212      63\n",
      "2448    1985   1216      64\n",
      "2449    1985   1233      77\n",
      "2450    1985   1249      80\n",
      "2425    1985   1449      72\n",
      "\n",
      "[101 rows x 3 columns]\n"
     ]
    }
   ],
   "source": [
    "# Write your code here\n",
    "# Sort by season\n",
    "df_sorted_by_season = df.sort_values('Season')\n",
    "\n",
    "# Sort by winning team\n",
    "df_sorted_by_winning_team = df.sort_values('Wteam')\n",
    "\n",
    "# Sort by winning score\n",
    "df_sorted_by_winning_score = df.sort_values('Wscore')\n",
    "\n",
    "# Select rows from index 100 to 200 and columns for season, winning team, and winning score\n",
    "selected_rows_columns = df_sorted_by_season.iloc[100:201, [0, 2, 3]]\n",
    "\n",
    "# Display the results\n",
    "print(\"Sorted by Season:\")\n",
    "print(df_sorted_by_season.head())\n",
    "\n",
    "print(\"\\nSorted by Winning Team:\")\n",
    "print(df_sorted_by_winning_team.head())\n",
    "\n",
    "print(\"\\nSorted by Winning Score:\")\n",
    "print(df_sorted_by_winning_score.head())\n",
    "\n",
    "print(\"\\nSelected Rows and Columns:\")\n",
    "print(selected_rows_columns)\n"
   ]
  },
  {
   "attachments": {},
   "cell_type": "markdown",
   "metadata": {},
   "source": [
    "**Q**: From these three subsets you obtained above, find the season and winning team for the game with the highest winning score."
   ]
  },
  {
   "cell_type": "code",
   "execution_count": 41,
   "metadata": {},
   "outputs": [
    {
     "name": "stdout",
     "output_type": "stream",
     "text": [
      "Season and Winning Team for the Game with the Highest Winning Score:\n",
      "Season: 1991\n",
      "Winning Team: 1258\n"
     ]
    }
   ],
   "source": [
    "# Write your code here\n",
    "# Find the game with the highest winning score\n",
    "highest_winning_score_game = df_sorted_by_winning_score.iloc[-1]\n",
    "\n",
    "# Extract season and winning team from the result\n",
    "season_highest_score = highest_winning_score_game['Season']\n",
    "winning_team_highest_score = highest_winning_score_game['Wteam']\n",
    "\n",
    "# Display the results\n",
    "print(\"Season and Winning Team for the Game with the Highest Winning Score:\")\n",
    "print(\"Season:\", season_highest_score)\n",
    "print(\"Winning Team:\", winning_team_highest_score)\n"
   ]
  },
  {
   "attachments": {},
   "cell_type": "markdown",
   "metadata": {},
   "source": [
    "# Filtering Rows Conditionally"
   ]
  },
  {
   "attachments": {},
   "cell_type": "markdown",
   "metadata": {},
   "source": [
    "Now, let's say we want to find all of the rows that satisy a particular condition. For example, I want to find all of the games where the winning team scored more than 150 points. The idea behind this command is you want to access the column 'Wscore' of the dataframe df (df['Wscore']), find which entries are above 150 (df['Wscore'] > 150), and then returns only those specific rows in a dataframe format (df[df['Wscore'] > 150])."
   ]
  },
  {
   "cell_type": "code",
   "execution_count": 42,
   "metadata": {
    "collapsed": false
   },
   "outputs": [
    {
     "data": {
      "text/html": [
       "<div>\n",
       "<style scoped>\n",
       "    .dataframe tbody tr th:only-of-type {\n",
       "        vertical-align: middle;\n",
       "    }\n",
       "\n",
       "    .dataframe tbody tr th {\n",
       "        vertical-align: top;\n",
       "    }\n",
       "\n",
       "    .dataframe thead th {\n",
       "        text-align: right;\n",
       "    }\n",
       "</style>\n",
       "<table border=\"1\" class=\"dataframe\">\n",
       "  <thead>\n",
       "    <tr style=\"text-align: right;\">\n",
       "      <th></th>\n",
       "      <th>Season</th>\n",
       "      <th>Daynum</th>\n",
       "      <th>Wteam</th>\n",
       "      <th>Wscore</th>\n",
       "      <th>Lteam</th>\n",
       "      <th>Lscore</th>\n",
       "      <th>Wloc</th>\n",
       "      <th>Numot</th>\n",
       "    </tr>\n",
       "  </thead>\n",
       "  <tbody>\n",
       "    <tr>\n",
       "      <th>5269</th>\n",
       "      <td>1986</td>\n",
       "      <td>75</td>\n",
       "      <td>1258</td>\n",
       "      <td>151</td>\n",
       "      <td>1109</td>\n",
       "      <td>107</td>\n",
       "      <td>H</td>\n",
       "      <td>0</td>\n",
       "    </tr>\n",
       "    <tr>\n",
       "      <th>12046</th>\n",
       "      <td>1988</td>\n",
       "      <td>40</td>\n",
       "      <td>1328</td>\n",
       "      <td>152</td>\n",
       "      <td>1147</td>\n",
       "      <td>84</td>\n",
       "      <td>H</td>\n",
       "      <td>0</td>\n",
       "    </tr>\n",
       "    <tr>\n",
       "      <th>12355</th>\n",
       "      <td>1988</td>\n",
       "      <td>52</td>\n",
       "      <td>1328</td>\n",
       "      <td>151</td>\n",
       "      <td>1173</td>\n",
       "      <td>99</td>\n",
       "      <td>N</td>\n",
       "      <td>0</td>\n",
       "    </tr>\n",
       "    <tr>\n",
       "      <th>16040</th>\n",
       "      <td>1989</td>\n",
       "      <td>40</td>\n",
       "      <td>1328</td>\n",
       "      <td>152</td>\n",
       "      <td>1331</td>\n",
       "      <td>122</td>\n",
       "      <td>H</td>\n",
       "      <td>0</td>\n",
       "    </tr>\n",
       "    <tr>\n",
       "      <th>16853</th>\n",
       "      <td>1989</td>\n",
       "      <td>68</td>\n",
       "      <td>1258</td>\n",
       "      <td>162</td>\n",
       "      <td>1109</td>\n",
       "      <td>144</td>\n",
       "      <td>A</td>\n",
       "      <td>0</td>\n",
       "    </tr>\n",
       "    <tr>\n",
       "      <th>17867</th>\n",
       "      <td>1989</td>\n",
       "      <td>92</td>\n",
       "      <td>1258</td>\n",
       "      <td>181</td>\n",
       "      <td>1109</td>\n",
       "      <td>150</td>\n",
       "      <td>H</td>\n",
       "      <td>0</td>\n",
       "    </tr>\n",
       "    <tr>\n",
       "      <th>19653</th>\n",
       "      <td>1990</td>\n",
       "      <td>30</td>\n",
       "      <td>1328</td>\n",
       "      <td>173</td>\n",
       "      <td>1109</td>\n",
       "      <td>101</td>\n",
       "      <td>H</td>\n",
       "      <td>0</td>\n",
       "    </tr>\n",
       "    <tr>\n",
       "      <th>19971</th>\n",
       "      <td>1990</td>\n",
       "      <td>38</td>\n",
       "      <td>1258</td>\n",
       "      <td>152</td>\n",
       "      <td>1109</td>\n",
       "      <td>137</td>\n",
       "      <td>A</td>\n",
       "      <td>0</td>\n",
       "    </tr>\n",
       "    <tr>\n",
       "      <th>20022</th>\n",
       "      <td>1990</td>\n",
       "      <td>40</td>\n",
       "      <td>1116</td>\n",
       "      <td>166</td>\n",
       "      <td>1109</td>\n",
       "      <td>101</td>\n",
       "      <td>H</td>\n",
       "      <td>0</td>\n",
       "    </tr>\n",
       "    <tr>\n",
       "      <th>22145</th>\n",
       "      <td>1990</td>\n",
       "      <td>97</td>\n",
       "      <td>1258</td>\n",
       "      <td>157</td>\n",
       "      <td>1362</td>\n",
       "      <td>115</td>\n",
       "      <td>H</td>\n",
       "      <td>0</td>\n",
       "    </tr>\n",
       "    <tr>\n",
       "      <th>23582</th>\n",
       "      <td>1991</td>\n",
       "      <td>26</td>\n",
       "      <td>1318</td>\n",
       "      <td>152</td>\n",
       "      <td>1258</td>\n",
       "      <td>123</td>\n",
       "      <td>N</td>\n",
       "      <td>0</td>\n",
       "    </tr>\n",
       "    <tr>\n",
       "      <th>24341</th>\n",
       "      <td>1991</td>\n",
       "      <td>47</td>\n",
       "      <td>1328</td>\n",
       "      <td>172</td>\n",
       "      <td>1258</td>\n",
       "      <td>112</td>\n",
       "      <td>H</td>\n",
       "      <td>0</td>\n",
       "    </tr>\n",
       "    <tr>\n",
       "      <th>24970</th>\n",
       "      <td>1991</td>\n",
       "      <td>68</td>\n",
       "      <td>1258</td>\n",
       "      <td>186</td>\n",
       "      <td>1109</td>\n",
       "      <td>140</td>\n",
       "      <td>H</td>\n",
       "      <td>0</td>\n",
       "    </tr>\n",
       "    <tr>\n",
       "      <th>25656</th>\n",
       "      <td>1991</td>\n",
       "      <td>84</td>\n",
       "      <td>1106</td>\n",
       "      <td>151</td>\n",
       "      <td>1212</td>\n",
       "      <td>97</td>\n",
       "      <td>H</td>\n",
       "      <td>0</td>\n",
       "    </tr>\n",
       "    <tr>\n",
       "      <th>28687</th>\n",
       "      <td>1992</td>\n",
       "      <td>54</td>\n",
       "      <td>1261</td>\n",
       "      <td>159</td>\n",
       "      <td>1319</td>\n",
       "      <td>86</td>\n",
       "      <td>H</td>\n",
       "      <td>0</td>\n",
       "    </tr>\n",
       "    <tr>\n",
       "      <th>35023</th>\n",
       "      <td>1993</td>\n",
       "      <td>112</td>\n",
       "      <td>1380</td>\n",
       "      <td>155</td>\n",
       "      <td>1341</td>\n",
       "      <td>91</td>\n",
       "      <td>A</td>\n",
       "      <td>0</td>\n",
       "    </tr>\n",
       "    <tr>\n",
       "      <th>40060</th>\n",
       "      <td>1995</td>\n",
       "      <td>32</td>\n",
       "      <td>1375</td>\n",
       "      <td>156</td>\n",
       "      <td>1341</td>\n",
       "      <td>114</td>\n",
       "      <td>H</td>\n",
       "      <td>0</td>\n",
       "    </tr>\n",
       "    <tr>\n",
       "      <th>52600</th>\n",
       "      <td>1998</td>\n",
       "      <td>33</td>\n",
       "      <td>1395</td>\n",
       "      <td>153</td>\n",
       "      <td>1410</td>\n",
       "      <td>87</td>\n",
       "      <td>H</td>\n",
       "      <td>0</td>\n",
       "    </tr>\n",
       "  </tbody>\n",
       "</table>\n",
       "</div>"
      ],
      "text/plain": [
       "       Season  Daynum  Wteam  Wscore  Lteam  Lscore Wloc  Numot\n",
       "5269     1986      75   1258     151   1109     107    H      0\n",
       "12046    1988      40   1328     152   1147      84    H      0\n",
       "12355    1988      52   1328     151   1173      99    N      0\n",
       "16040    1989      40   1328     152   1331     122    H      0\n",
       "16853    1989      68   1258     162   1109     144    A      0\n",
       "17867    1989      92   1258     181   1109     150    H      0\n",
       "19653    1990      30   1328     173   1109     101    H      0\n",
       "19971    1990      38   1258     152   1109     137    A      0\n",
       "20022    1990      40   1116     166   1109     101    H      0\n",
       "22145    1990      97   1258     157   1362     115    H      0\n",
       "23582    1991      26   1318     152   1258     123    N      0\n",
       "24341    1991      47   1328     172   1258     112    H      0\n",
       "24970    1991      68   1258     186   1109     140    H      0\n",
       "25656    1991      84   1106     151   1212      97    H      0\n",
       "28687    1992      54   1261     159   1319      86    H      0\n",
       "35023    1993     112   1380     155   1341      91    A      0\n",
       "40060    1995      32   1375     156   1341     114    H      0\n",
       "52600    1998      33   1395     153   1410      87    H      0"
      ]
     },
     "execution_count": 42,
     "metadata": {},
     "output_type": "execute_result"
    }
   ],
   "source": [
    "df[df['Wscore'] > 150]"
   ]
  },
  {
   "attachments": {},
   "cell_type": "markdown",
   "metadata": {},
   "source": [
    "This also works if you have multiple conditions. Let's say we want to find out when the winning team scores more than 150 points and when the losing team scores below 100. "
   ]
  },
  {
   "cell_type": "code",
   "execution_count": 43,
   "metadata": {
    "collapsed": false
   },
   "outputs": [
    {
     "data": {
      "text/html": [
       "<div>\n",
       "<style scoped>\n",
       "    .dataframe tbody tr th:only-of-type {\n",
       "        vertical-align: middle;\n",
       "    }\n",
       "\n",
       "    .dataframe tbody tr th {\n",
       "        vertical-align: top;\n",
       "    }\n",
       "\n",
       "    .dataframe thead th {\n",
       "        text-align: right;\n",
       "    }\n",
       "</style>\n",
       "<table border=\"1\" class=\"dataframe\">\n",
       "  <thead>\n",
       "    <tr style=\"text-align: right;\">\n",
       "      <th></th>\n",
       "      <th>Season</th>\n",
       "      <th>Daynum</th>\n",
       "      <th>Wteam</th>\n",
       "      <th>Wscore</th>\n",
       "      <th>Lteam</th>\n",
       "      <th>Lscore</th>\n",
       "      <th>Wloc</th>\n",
       "      <th>Numot</th>\n",
       "    </tr>\n",
       "  </thead>\n",
       "  <tbody>\n",
       "    <tr>\n",
       "      <th>12046</th>\n",
       "      <td>1988</td>\n",
       "      <td>40</td>\n",
       "      <td>1328</td>\n",
       "      <td>152</td>\n",
       "      <td>1147</td>\n",
       "      <td>84</td>\n",
       "      <td>H</td>\n",
       "      <td>0</td>\n",
       "    </tr>\n",
       "    <tr>\n",
       "      <th>12355</th>\n",
       "      <td>1988</td>\n",
       "      <td>52</td>\n",
       "      <td>1328</td>\n",
       "      <td>151</td>\n",
       "      <td>1173</td>\n",
       "      <td>99</td>\n",
       "      <td>N</td>\n",
       "      <td>0</td>\n",
       "    </tr>\n",
       "    <tr>\n",
       "      <th>25656</th>\n",
       "      <td>1991</td>\n",
       "      <td>84</td>\n",
       "      <td>1106</td>\n",
       "      <td>151</td>\n",
       "      <td>1212</td>\n",
       "      <td>97</td>\n",
       "      <td>H</td>\n",
       "      <td>0</td>\n",
       "    </tr>\n",
       "    <tr>\n",
       "      <th>28687</th>\n",
       "      <td>1992</td>\n",
       "      <td>54</td>\n",
       "      <td>1261</td>\n",
       "      <td>159</td>\n",
       "      <td>1319</td>\n",
       "      <td>86</td>\n",
       "      <td>H</td>\n",
       "      <td>0</td>\n",
       "    </tr>\n",
       "    <tr>\n",
       "      <th>35023</th>\n",
       "      <td>1993</td>\n",
       "      <td>112</td>\n",
       "      <td>1380</td>\n",
       "      <td>155</td>\n",
       "      <td>1341</td>\n",
       "      <td>91</td>\n",
       "      <td>A</td>\n",
       "      <td>0</td>\n",
       "    </tr>\n",
       "    <tr>\n",
       "      <th>52600</th>\n",
       "      <td>1998</td>\n",
       "      <td>33</td>\n",
       "      <td>1395</td>\n",
       "      <td>153</td>\n",
       "      <td>1410</td>\n",
       "      <td>87</td>\n",
       "      <td>H</td>\n",
       "      <td>0</td>\n",
       "    </tr>\n",
       "  </tbody>\n",
       "</table>\n",
       "</div>"
      ],
      "text/plain": [
       "       Season  Daynum  Wteam  Wscore  Lteam  Lscore Wloc  Numot\n",
       "12046    1988      40   1328     152   1147      84    H      0\n",
       "12355    1988      52   1328     151   1173      99    N      0\n",
       "25656    1991      84   1106     151   1212      97    H      0\n",
       "28687    1992      54   1261     159   1319      86    H      0\n",
       "35023    1993     112   1380     155   1341      91    A      0\n",
       "52600    1998      33   1395     153   1410      87    H      0"
      ]
     },
     "execution_count": 43,
     "metadata": {},
     "output_type": "execute_result"
    }
   ],
   "source": [
    "df[(df['Wscore'] > 150) & (df['Lscore'] < 100)]"
   ]
  },
  {
   "attachments": {},
   "cell_type": "markdown",
   "metadata": {},
   "source": [
    "**Q**: Create a new column in the DataFrame called 'ScoreDifference' which is the absolute difference between the winning score and the losing score. Filter the DataFrame to only include games where the 'ScoreDifference' is greater than the average 'ScoreDifference' for all games."
   ]
  },
  {
   "cell_type": "code",
   "execution_count": 44,
   "metadata": {},
   "outputs": [
    {
     "name": "stdout",
     "output_type": "stream",
     "text": [
      "DataFrame with ScoreDifference greater than Average:\n",
      "    Season  Daynum  Wteam  Wscore  Lteam  Lscore Wloc  Numot  ScoreDifference\n",
      "0     1985      20   1228      81   1328      64    N      0               17\n",
      "3     1985      25   1165      70   1432      54    H      0               16\n",
      "6     1985      25   1228      64   1226      44    N      0               20\n",
      "8     1985      25   1260      98   1133      80    H      0               18\n",
      "10    1985      25   1307     103   1288      71    H      0               32\n"
     ]
    }
   ],
   "source": [
    "# Write your code here\n",
    "# Create a new column 'ScoreDifference'\n",
    "df['ScoreDifference'] = abs(df['Wscore'] - df['Lscore'])\n",
    "\n",
    "# Calculate the average 'ScoreDifference'\n",
    "average_score_difference = df['ScoreDifference'].mean()\n",
    "\n",
    "# Filter the DataFrame\n",
    "filtered_df = df[df['ScoreDifference'] > average_score_difference]\n",
    "\n",
    "# Display the results\n",
    "print(\"DataFrame with ScoreDifference greater than Average:\")\n",
    "print(filtered_df.head())\n"
   ]
  },
  {
   "attachments": {},
   "cell_type": "markdown",
   "metadata": {},
   "source": [
    "**Q**: From this filtered DataFrame, find the season and teams involved in the game with the highest 'ScoreDifference'."
   ]
  },
  {
   "cell_type": "code",
   "execution_count": 45,
   "metadata": {},
   "outputs": [
    {
     "name": "stdout",
     "output_type": "stream",
     "text": [
      "Season and Teams for the Game with the Highest ScoreDifference:\n",
      "Season: 1996\n",
      "Winning Team: 1409\n",
      "Losing Team: 1341\n"
     ]
    }
   ],
   "source": [
    "# Write your code here\n",
    "# Find the game with the highest 'ScoreDifference' in the filtered DataFrame\n",
    "highest_score_difference_game = filtered_df.loc[filtered_df['ScoreDifference'].idxmax()]\n",
    "\n",
    "# Extract season, winning team, and losing team from the result\n",
    "season_highest_score_difference = highest_score_difference_game['Season']\n",
    "winning_team_highest_score_difference = highest_score_difference_game['Wteam']\n",
    "losing_team_highest_score_difference = highest_score_difference_game['Lteam']\n",
    "\n",
    "# Display the results\n",
    "print(\"Season and Teams for the Game with the Highest ScoreDifference:\")\n",
    "print(\"Season:\", season_highest_score_difference)\n",
    "print(\"Winning Team:\", winning_team_highest_score_difference)\n",
    "print(\"Losing Team:\", losing_team_highest_score_difference)\n"
   ]
  },
  {
   "attachments": {},
   "cell_type": "markdown",
   "metadata": {},
   "source": [
    "# Grouping"
   ]
  },
  {
   "attachments": {},
   "cell_type": "markdown",
   "metadata": {},
   "source": [
    "Another important function in Pandas is **groupby()**. This is a function that allows you to group entries by certain attributes (e.g Grouping entries by Wteam number) and then perform operations on them. The following function groups all the entries (games) with the same Wteam number and finds the mean for each group. "
   ]
  },
  {
   "cell_type": "code",
   "execution_count": 46,
   "metadata": {
    "collapsed": false
   },
   "outputs": [
    {
     "data": {
      "text/plain": [
       "Wteam\n",
       "1101    78.111111\n",
       "1102    69.893204\n",
       "1103    75.839768\n",
       "1104    75.825944\n",
       "1105    74.960894\n",
       "Name: Wscore, dtype: float64"
      ]
     },
     "execution_count": 46,
     "metadata": {},
     "output_type": "execute_result"
    }
   ],
   "source": [
    "df.groupby('Wteam')['Wscore'].mean().head()"
   ]
  },
  {
   "attachments": {},
   "cell_type": "markdown",
   "metadata": {},
   "source": [
    "This next command groups all the games with the same Wteam number and finds where how many times that specific team won at home, on the road, or at a neutral site"
   ]
  },
  {
   "cell_type": "code",
   "execution_count": 47,
   "metadata": {
    "collapsed": false,
    "scrolled": false
   },
   "outputs": [
    {
     "data": {
      "text/plain": [
       "Wteam  Wloc\n",
       "1101   H        12\n",
       "       N         3\n",
       "       A         3\n",
       "1102   H       204\n",
       "       A        73\n",
       "       N        32\n",
       "1103   H       324\n",
       "       A       153\n",
       "       N        41\n",
       "Name: count, dtype: int64"
      ]
     },
     "execution_count": 47,
     "metadata": {},
     "output_type": "execute_result"
    }
   ],
   "source": [
    "df.groupby('Wteam')['Wloc'].value_counts().head(9)"
   ]
  },
  {
   "attachments": {},
   "cell_type": "markdown",
   "metadata": {},
   "source": [
    "Each dataframe has a **values** attribute which is useful because it basically displays your dataframe in a numpy array style format"
   ]
  },
  {
   "cell_type": "code",
   "execution_count": 48,
   "metadata": {
    "collapsed": false
   },
   "outputs": [
    {
     "data": {
      "text/plain": [
       "array([[1985, 20, 1228, ..., 'N', 0, 17],\n",
       "       [1985, 25, 1106, ..., 'H', 0, 7],\n",
       "       [1985, 25, 1112, ..., 'H', 0, 7],\n",
       "       ...,\n",
       "       [2016, 132, 1246, ..., 'N', 1, 5],\n",
       "       [2016, 132, 1277, ..., 'N', 0, 4],\n",
       "       [2016, 132, 1386, ..., 'N', 0, 13]], dtype=object)"
      ]
     },
     "execution_count": 48,
     "metadata": {},
     "output_type": "execute_result"
    }
   ],
   "source": [
    "df.values"
   ]
  },
  {
   "attachments": {},
   "cell_type": "markdown",
   "metadata": {},
   "source": [
    "Now, you can simply just access elements like you would in an array. "
   ]
  },
  {
   "cell_type": "code",
   "execution_count": 49,
   "metadata": {
    "collapsed": false
   },
   "outputs": [
    {
     "data": {
      "text/plain": [
       "1985"
      ]
     },
     "execution_count": 49,
     "metadata": {},
     "output_type": "execute_result"
    }
   ],
   "source": [
    "df.values[0][0]"
   ]
  },
  {
   "attachments": {},
   "cell_type": "markdown",
   "metadata": {},
   "source": [
    "**Q**: Group the DataFrame by season and find the average winning score for each season."
   ]
  },
  {
   "cell_type": "code",
   "execution_count": 50,
   "metadata": {},
   "outputs": [
    {
     "name": "stdout",
     "output_type": "stream",
     "text": [
      "Average Winning Score for Each Season:\n",
      "Season\n",
      "1985    74.723040\n",
      "1986    74.813640\n",
      "1987    77.993870\n",
      "1988    79.773704\n",
      "1989    81.728511\n",
      "1990    80.846477\n",
      "1991    82.733932\n",
      "1992    79.992004\n",
      "1993    79.508790\n",
      "1994    81.160345\n",
      "1995    80.096149\n",
      "1996    78.205483\n",
      "1997    76.300842\n",
      "1998    77.229902\n",
      "1999    76.043581\n",
      "2000    76.310467\n",
      "2001    77.088650\n",
      "2002    76.963557\n",
      "2003    75.795061\n",
      "2004    74.971122\n",
      "2005    74.693690\n",
      "2006    74.587555\n",
      "2007    74.829467\n",
      "2008    74.962425\n",
      "2009    74.033721\n",
      "2010    74.652480\n",
      "2011    74.374190\n",
      "2012    73.379973\n",
      "2013    72.840789\n",
      "2014    76.101268\n",
      "2015    72.680799\n",
      "2016    78.295958\n",
      "Name: Wscore, dtype: float64\n"
     ]
    }
   ],
   "source": [
    "# Write your code here\n",
    "# Group the DataFrame by season and calculate the average winning score\n",
    "average_winning_score_by_season = df.groupby('Season')['Wscore'].mean()\n",
    "\n",
    "# Display the results\n",
    "print(\"Average Winning Score for Each Season:\")\n",
    "print(average_winning_score_by_season)\n"
   ]
  },
  {
   "attachments": {},
   "cell_type": "markdown",
   "metadata": {},
   "source": [
    "**Q**: Group the DataFrame by winning team and find the maximum winning score for each team across all seasons."
   ]
  },
  {
   "cell_type": "code",
   "execution_count": 51,
   "metadata": {},
   "outputs": [
    {
     "name": "stdout",
     "output_type": "stream",
     "text": [
      "Maximum Winning Score for Each Team Across All Seasons:\n",
      "Wteam\n",
      "1101     95\n",
      "1102    111\n",
      "1103    109\n",
      "1104    114\n",
      "1105    114\n",
      "       ... \n",
      "1460    136\n",
      "1461    112\n",
      "1462    125\n",
      "1463    105\n",
      "1464    115\n",
      "Name: Wscore, Length: 364, dtype: int64\n"
     ]
    }
   ],
   "source": [
    "# Write your code here\n",
    "# Group the DataFrame by winning team and find the maximum winning score\n",
    "max_winning_score_by_team = df.groupby('Wteam')['Wscore'].max()\n",
    "\n",
    "# Display the results\n",
    "print(\"Maximum Winning Score for Each Team Across All Seasons:\")\n",
    "print(max_winning_score_by_team)\n",
    "\n"
   ]
  },
  {
   "attachments": {},
   "cell_type": "markdown",
   "metadata": {},
   "source": [
    "**Q**: Group the DataFrame by both season and winning team. Find the team with the highest average winning score for each season."
   ]
  },
  {
   "cell_type": "code",
   "execution_count": 52,
   "metadata": {},
   "outputs": [
    {
     "name": "stdout",
     "output_type": "stream",
     "text": [
      "Team with the Highest Average Winning Score for Each Season:\n",
      "Season 1985: Team 1328 with average winning score 92.8\n",
      "Season 1986: Team 1109 with average winning score 91.2\n",
      "Season 1987: Team 1380 with average winning score 95.875\n",
      "Season 1988: Team 1258 with average winning score 111.75\n",
      "Season 1989: Team 1258 with average winning score 117.3157894736842\n",
      "Season 1990: Team 1258 with average winning score 126.34782608695652\n",
      "Season 1991: Team 1380 with average winning score 112.3125\n",
      "Season 1992: Team 1380 with average winning score 99.64285714285714\n",
      "Season 1993: Team 1380 with average winning score 101.875\n",
      "Season 1994: Team 1380 with average winning score 106.58333333333333\n",
      "Season 1995: Team 1206 with average winning score 102.83333333333333\n",
      "Season 1996: Team 1206 with average winning score 103.6\n",
      "Season 1997: Team 1254 with average winning score 94.14285714285714\n",
      "Season 1998: Team 1395 with average winning score 101.15384615384616\n",
      "Season 1999: Team 1317 with average winning score 95.75\n",
      "Season 2000: Team 1395 with average winning score 95.6470588235294\n",
      "Season 2001: Team 1395 with average winning score 99.3157894736842\n",
      "Season 2002: Team 1242 with average winning score 92.88888888888889\n",
      "Season 2003: Team 1395 with average winning score 88.22222222222223\n",
      "Season 2004: Team 1194 with average winning score 92.14285714285714\n",
      "Season 2005: Team 1311 with average winning score 91.33333333333333\n",
      "Season 2006: Team 1190 with average winning score 89.53333333333333\n",
      "Season 2007: Team 1440 with average winning score 99.4\n",
      "Season 2008: Team 1440 with average winning score 94.5\n",
      "Season 2009: Team 1377 with average winning score 96.2\n",
      "Season 2010: Team 1440 with average winning score 95.0\n",
      "Season 2011: Team 1449 with average winning score 90.1304347826087\n",
      "Season 2012: Team 1370 with average winning score 87.4\n",
      "Season 2013: Team 1377 with average winning score 86.5\n",
      "Season 2014: Team 1322 with average winning score 92.6\n",
      "Season 2015: Team 1322 with average winning score 90.73333333333333\n",
      "Season 2016: Team 1146 with average winning score 97.14285714285714\n"
     ]
    }
   ],
   "source": [
    "# Write your code here\n",
    "# Group the DataFrame by both season and winning team, then calculate the average winning score\n",
    "average_winning_score_by_season_team = df.groupby(['Season', 'Wteam'])['Wscore'].mean()\n",
    "\n",
    "# Find the team with the highest average winning score for each season\n",
    "team_highest_avg_score_by_season = average_winning_score_by_season_team.groupby('Season').idxmax()\n",
    "\n",
    "# Display the results\n",
    "print(\"Team with the Highest Average Winning Score for Each Season:\")\n",
    "for season, team_idx in team_highest_avg_score_by_season.items():\n",
    "    team = team_idx[1]\n",
    "    avg_score = average_winning_score_by_season_team.loc[team_idx]\n",
    "    print(f\"Season {season}: Team {team} with average winning score {avg_score}\")\n"
   ]
  },
  {
   "attachments": {},
   "cell_type": "markdown",
   "metadata": {},
   "source": [
    "**Q**: Create a new DataFrame that counts the number of wins for each team in each season. This will involve grouping by both season and winning team, and then using the count() function."
   ]
  },
  {
   "cell_type": "code",
   "execution_count": 53,
   "metadata": {},
   "outputs": [
    {
     "name": "stdout",
     "output_type": "stream",
     "text": [
      "Number of Wins for Each Team in Each Season:\n",
      "   Season  Wteam  Wins\n",
      "0    1985   1102     5\n",
      "1    1985   1103     9\n",
      "2    1985   1104    21\n",
      "3    1985   1106    10\n",
      "4    1985   1108    19\n"
     ]
    }
   ],
   "source": [
    "# Write your code here\n",
    "# Group the DataFrame by both season and winning team, then count the number of wins\n",
    "wins_by_team_season = df.groupby(['Season', 'Wteam']).size().reset_index(name='Wins')\n",
    "\n",
    "# Display the new DataFrame\n",
    "print(\"Number of Wins for Each Team in Each Season:\")\n",
    "print(wins_by_team_season.head())\n"
   ]
  },
  {
   "attachments": {},
   "cell_type": "markdown",
   "metadata": {},
   "source": [
    "**Q**: For each season, find the team with the most wins. This will involve creating a DataFrame similar to the one in task 5, and then using the idxmax() function for each season."
   ]
  },
  {
   "cell_type": "code",
   "execution_count": 54,
   "metadata": {},
   "outputs": [
    {
     "name": "stdout",
     "output_type": "stream",
     "text": [
      "Team with the Most Wins for Each Season:\n",
      "Season 1985: Team 1385 with 27 wins\n",
      "Season 1986: Team 1181 with 32 wins\n",
      "Season 1987: Team 1424 with 33 wins\n",
      "Season 1988: Team 1112 with 31 wins\n",
      "Season 1989: Team 1328 with 28 wins\n",
      "Season 1990: Team 1247 with 29 wins\n",
      "Season 1991: Team 1116 with 30 wins\n",
      "Season 1992: Team 1181 with 28 wins\n",
      "Season 1993: Team 1231 with 28 wins\n",
      "Season 1994: Team 1163 with 27 wins\n",
      "Season 1995: Team 1116 with 26 wins\n",
      "Season 1996: Team 1269 with 31 wins\n",
      "Season 1997: Team 1242 with 31 wins\n",
      "Season 1998: Team 1242 with 33 wins\n",
      "Season 1999: Team 1181 with 32 wins\n",
      "Season 2000: Team 1409 with 29 wins\n",
      "Season 2001: Team 1181 with 29 wins\n",
      "Season 2002: Team 1153 with 30 wins\n",
      "Season 2003: Team 1166 with 29 wins\n",
      "Season 2004: Team 1390 with 29 wins\n",
      "Season 2005: Team 1228 with 32 wins\n",
      "Season 2006: Team 1181 with 30 wins\n",
      "Season 2007: Team 1242 with 30 wins\n",
      "Season 2008: Team 1272 with 33 wins\n",
      "Season 2009: Team 1272 with 31 wins\n",
      "Season 2010: Team 1242 with 32 wins\n",
      "Season 2011: Team 1242 with 32 wins\n",
      "Season 2012: Team 1246 with 32 wins\n",
      "Season 2013: Team 1211 with 30 wins\n",
      "Season 2014: Team 1455 with 33 wins\n",
      "Season 2015: Team 1246 with 34 wins\n",
      "Season 2016: Team 1242 with 29 wins\n"
     ]
    }
   ],
   "source": [
    "# Write your code here\n",
    "# Create a DataFrame counting the number of wins for each team in each season\n",
    "wins_by_team_season = df.groupby(['Season', 'Wteam']).size().reset_index(name='Wins')\n",
    "\n",
    "# Find the team with the most wins for each season\n",
    "team_with_most_wins_by_season = wins_by_team_season.groupby('Season')['Wins'].idxmax()\n",
    "\n",
    "# Display the results\n",
    "print(\"Team with the Most Wins for Each Season:\")\n",
    "for season, team_idx in team_with_most_wins_by_season.items():\n",
    "    team = wins_by_team_season.loc[team_idx, 'Wteam']\n",
    "    wins = wins_by_team_season.loc[team_idx, 'Wins']\n",
    "    print(f\"Season {season}: Team {team} with {wins} wins\")\n"
   ]
  },
  {
   "attachments": {},
   "cell_type": "markdown",
   "metadata": {},
   "source": [
    "**Q**: Group the DataFrame by losing team and find the average losing score for each team across all seasons. Compare this with the average winning score for each team from task 3. Are there teams that have a higher average losing score than winning score?"
   ]
  },
  {
   "cell_type": "code",
   "execution_count": 55,
   "metadata": {},
   "outputs": [
    {
     "name": "stdout",
     "output_type": "stream",
     "text": [
      "Teams with Higher Average Losing Score than Winning Score:\n",
      "Series([], Name: Lscore, dtype: float64)\n"
     ]
    }
   ],
   "source": [
    "# Write your code here\n",
    "# Group the DataFrame by losing team and calculate the average losing score\n",
    "average_losing_score_by_team = df.groupby('Lteam')['Lscore'].mean()\n",
    "\n",
    "# Compare with the average winning score from task 3\n",
    "average_winning_score_by_team = df.groupby('Wteam')['Wscore'].mean()\n",
    "\n",
    "# Identify teams with a higher average losing score than winning score\n",
    "teams_with_higher_losing_score = average_losing_score_by_team[average_losing_score_by_team > average_winning_score_by_team]\n",
    "\n",
    "# Display the results\n",
    "print(\"Teams with Higher Average Losing Score than Winning Score:\")\n",
    "print(teams_with_higher_losing_score)\n"
   ]
  },
  {
   "attachments": {},
   "cell_type": "markdown",
   "metadata": {},
   "source": [
    "# Dataframe Iteration"
   ]
  },
  {
   "attachments": {},
   "cell_type": "markdown",
   "metadata": {},
   "source": [
    "In order to iterate through dataframes, we can use the **iterrows()** function. Below is an example of what the first two rows look like. Each row in iterrows is a Series object"
   ]
  },
  {
   "cell_type": "code",
   "execution_count": 56,
   "metadata": {
    "collapsed": false
   },
   "outputs": [
    {
     "name": "stdout",
     "output_type": "stream",
     "text": [
      "Season             1985\n",
      "Daynum               20\n",
      "Wteam              1228\n",
      "Wscore               81\n",
      "Lteam              1328\n",
      "Lscore               64\n",
      "Wloc                  N\n",
      "Numot                 0\n",
      "ScoreDifference      17\n",
      "Name: 0, dtype: object\n",
      "Season             1985\n",
      "Daynum               25\n",
      "Wteam              1106\n",
      "Wscore               77\n",
      "Lteam              1354\n",
      "Lscore               70\n",
      "Wloc                  H\n",
      "Numot                 0\n",
      "ScoreDifference       7\n",
      "Name: 1, dtype: object\n"
     ]
    }
   ],
   "source": [
    "for index, row in df.iterrows():\n",
    "    print(row)\n",
    "    if index == 1:\n",
    "        break"
   ]
  },
  {
   "attachments": {},
   "cell_type": "markdown",
   "metadata": {},
   "source": [
    "**Q**: Create a new column 'HighScoringGame' that is 'Yes' if the winning score is greater than 100 and 'No' otherwise. This will require iterating over the rows of the DataFrame and checking the value of the winning score for each row."
   ]
  },
  {
   "cell_type": "code",
   "execution_count": 57,
   "metadata": {},
   "outputs": [
    {
     "name": "stdout",
     "output_type": "stream",
     "text": [
      "   Season  Daynum  Wteam  Wscore  Lteam  Lscore Wloc  Numot  ScoreDifference   \n",
      "0    1985      20   1228      81   1328      64    N      0               17  \\\n",
      "1    1985      25   1106      77   1354      70    H      0                7   \n",
      "2    1985      25   1112      63   1223      56    H      0                7   \n",
      "3    1985      25   1165      70   1432      54    H      0               16   \n",
      "4    1985      25   1192      86   1447      74    H      0               12   \n",
      "\n",
      "  HighScoringGame  \n",
      "0              No  \n",
      "1              No  \n",
      "2              No  \n",
      "3              No  \n",
      "4              No  \n"
     ]
    }
   ],
   "source": [
    "# Write your code here\n",
    "# Iterate over the rows and create the 'HighScoringGame' column\n",
    "df['HighScoringGame'] = ['Yes' if row['Wscore'] > 100 else 'No' for _, row in df.iterrows()]\n",
    "\n",
    "# Display the DataFrame with the new column\n",
    "print(df.head())\n"
   ]
  },
  {
   "attachments": {},
   "cell_type": "markdown",
   "metadata": {},
   "source": [
    "**Q**: Calculate the total number of games played by each team, whether they won or lost. This will require iterating over the rows of the DataFrame and updating a dictionary that keeps track of the number of games for each team."
   ]
  },
  {
   "cell_type": "code",
   "execution_count": 58,
   "metadata": {},
   "outputs": [
    {
     "name": "stdout",
     "output_type": "stream",
     "text": [
      "Team 1228: 992 games\n",
      "Team 1328: 968 games\n",
      "Team 1106: 855 games\n",
      "Team 1354: 906 games\n",
      "Team 1112: 981 games\n",
      "Team 1223: 363 games\n",
      "Team 1165: 833 games\n",
      "Team 1432: 69 games\n",
      "Team 1192: 908 games\n",
      "Team 1447: 903 games\n",
      "Team 1218: 931 games\n",
      "Team 1337: 922 games\n",
      "Team 1226: 847 games\n",
      "Team 1242: 993 games\n",
      "Team 1268: 969 games\n",
      "Team 1260: 914 games\n",
      "Team 1133: 949 games\n",
      "Team 1305: 922 games\n",
      "Team 1424: 974 games\n",
      "Team 1307: 969 games\n",
      "Team 1288: 925 games\n",
      "Team 1344: 951 games\n",
      "Team 1438: 952 games\n",
      "Team 1374: 916 games\n",
      "Team 1411: 903 games\n",
      "Team 1412: 962 games\n",
      "Team 1397: 963 games\n",
      "Team 1417: 966 games\n",
      "Team 1225: 880 games\n",
      "Team 1116: 980 games\n",
      "Team 1368: 808 games\n",
      "Team 1120: 936 games\n",
      "Team 1391: 879 games\n",
      "Team 1135: 847 games\n",
      "Team 1306: 898 games\n",
      "Team 1143: 947 games\n",
      "Team 1388: 897 games\n",
      "Team 1153: 970 games\n",
      "Team 1184: 863 games\n",
      "Team 1159: 887 games\n",
      "Team 1171: 829 games\n",
      "Team 1216: 930 games\n",
      "Team 1173: 960 games\n",
      "Team 1134: 200 games\n",
      "Team 1177: 942 games\n",
      "Team 1296: 879 games\n",
      "Team 1193: 942 games\n",
      "Team 1265: 934 games\n",
      "Team 1196: 981 games\n",
      "Team 1416: 881 games\n",
      "Team 1206: 938 games\n",
      "Team 1137: 912 games\n",
      "Team 1210: 972 games\n",
      "Team 1149: 824 games\n",
      "Team 1211: 921 games\n",
      "Team 1102: 840 games\n",
      "Team 1234: 968 games\n",
      "Team 1114: 910 games\n",
      "Team 1332: 927 games\n",
      "Team 1243: 927 games\n",
      "Team 1317: 883 games\n",
      "Team 1257: 994 games\n",
      "Team 1231: 969 games\n",
      "Team 1277: 966 games\n",
      "Team 1145: 934 games\n",
      "Team 1278: 948 games\n",
      "Team 1453: 912 games\n",
      "Team 1286: 851 games\n",
      "Team 1186: 849 games\n",
      "Team 1301: 979 games\n",
      "Team 1144: 850 games\n",
      "Team 1325: 942 games\n",
      "Team 1384: 887 games\n",
      "Team 1326: 968 games\n",
      "Team 1248: 896 games\n",
      "Team 1287: 857 games\n",
      "Team 1339: 879 games\n",
      "Team 1334: 899 games\n",
      "Team 1365: 907 games\n",
      "Team 1375: 896 games\n",
      "Team 1126: 906 games\n",
      "Team 1403: 939 games\n",
      "Team 1152: 865 games\n",
      "Team 1423: 931 games\n",
      "Team 1347: 858 games\n",
      "Team 1429: 930 games\n",
      "Team 1428: 931 games\n",
      "Team 1437: 983 games\n",
      "Team 1436: 911 games\n",
      "Team 1172: 879 games\n",
      "Team 1439: 946 games\n",
      "Team 1330: 963 games\n",
      "Team 1443: 942 games\n",
      "Team 1121: 175 games\n",
      "Team 1455: 947 games\n",
      "Team 1249: 873 games\n",
      "Team 1241: 942 games\n",
      "Team 1440: 825 games\n",
      "Team 1314: 1010 games\n",
      "Team 1200: 922 games\n",
      "Team 1323: 950 games\n",
      "Team 1264: 928 games\n",
      "Team 1458: 951 games\n",
      "Team 1104: 975 games\n",
      "Team 1160: 928 games\n",
      "Team 1414: 922 games\n",
      "Team 1181: 1013 games\n",
      "Team 1387: 956 games\n",
      "Team 1183: 871 games\n",
      "Team 1247: 943 games\n",
      "Team 1284: 932 games\n",
      "Team 1402: 847 games\n",
      "Team 1276: 959 games\n",
      "Team 1178: 920 games\n",
      "Team 1364: 890 games\n",
      "Team 1338: 962 games\n",
      "Team 1290: 875 games\n",
      "Team 1376: 945 games\n",
      "Team 1378: 936 games\n",
      "Team 1202: 856 games\n",
      "Team 1396: 979 games\n",
      "Team 1180: 930 games\n",
      "Team 1398: 870 games\n",
      "Team 1399: 860 games\n",
      "Team 1155: 950 games\n",
      "Team 1258: 898 games\n",
      "Team 1448: 947 games\n",
      "Team 1464: 856 games\n",
      "Team 1124: 906 games\n",
      "Team 1341: 857 games\n",
      "Team 1130: 951 games\n",
      "Team 1254: 898 games\n",
      "Team 1204: 862 games\n",
      "Team 1151: 899 games\n",
      "Team 1233: 957 games\n",
      "Team 1220: 933 games\n",
      "Team 1246: 999 games\n",
      "Team 1405: 921 games\n",
      "Team 1280: 946 games\n",
      "Team 1238: 920 games\n",
      "Team 1308: 935 games\n",
      "Team 1431: 937 games\n",
      "Team 1253: 915 games\n",
      "Team 1363: 889 games\n",
      "Team 1348: 938 games\n",
      "Team 1373: 950 games\n",
      "Team 1379: 896 games\n",
      "Team 1270: 861 games\n",
      "Team 1409: 966 games\n",
      "Team 1331: 809 games\n",
      "Team 1444: 916 games\n",
      "Team 1434: 902 games\n",
      "Team 1451: 866 games\n",
      "Team 1139: 923 games\n",
      "Team 1442: 840 games\n",
      "Team 1154: 820 games\n",
      "Team 1456: 891 games\n",
      "Team 1229: 951 games\n",
      "Team 1227: 917 games\n",
      "Team 1259: 913 games\n",
      "Team 1406: 926 games\n",
      "Team 1261: 956 games\n",
      "Team 1272: 992 games\n",
      "Team 1117: 891 games\n",
      "Team 1273: 896 games\n",
      "Team 1163: 977 games\n",
      "Team 1318: 942 games\n",
      "Team 1360: 889 games\n",
      "Team 1393: 993 games\n",
      "Team 1419: 894 games\n",
      "Team 1418: 912 games\n",
      "Team 1281: 977 games\n",
      "Team 1161: 905 games\n",
      "Team 1109: 169 games\n",
      "Team 1309: 840 games\n",
      "Team 1298: 894 games\n",
      "Team 1321: 912 games\n",
      "Team 1285: 865 games\n",
      "Team 1271: 887 games\n",
      "Team 1353: 939 games\n",
      "Team 1351: 929 games\n",
      "Team 1359: 874 games\n",
      "Team 1267: 909 games\n",
      "Team 1361: 915 games\n",
      "Team 1386: 958 games\n",
      "Team 1400: 982 games\n",
      "Team 1322: 854 games\n",
      "Team 1433: 975 games\n",
      "Team 1187: 861 games\n",
      "Team 1245: 927 games\n",
      "Team 1111: 876 games\n",
      "Team 1150: 942 games\n",
      "Team 1119: 868 games\n",
      "Team 1141: 872 games\n",
      "Team 1221: 929 games\n",
      "Team 1122: 903 games\n",
      "Team 1185: 900 games\n",
      "Team 1199: 949 games\n",
      "Team 1201: 947 games\n",
      "Team 1212: 837 games\n",
      "Team 1197: 896 games\n",
      "Team 1140: 965 games\n",
      "Team 1292: 888 games\n",
      "Team 1162: 831 games\n",
      "Team 1319: 843 games\n",
      "Team 1239: 891 games\n",
      "Team 1320: 913 games\n",
      "Team 1371: 946 games\n",
      "Team 1349: 888 games\n",
      "Team 1222: 930 games\n",
      "Team 1382: 914 games\n",
      "Team 1383: 898 games\n",
      "Team 1385: 954 games\n",
      "Team 1390: 932 games\n",
      "Team 1425: 944 games\n",
      "Team 1435: 961 games\n",
      "Team 1463: 838 games\n",
      "Team 1441: 854 games\n",
      "Team 1449: 938 games\n",
      "Team 1123: 906 games\n",
      "Team 1103: 910 games\n",
      "Team 1129: 907 games\n",
      "Team 1209: 891 games\n",
      "Team 1156: 900 games\n",
      "Team 1336: 926 games\n",
      "Team 1174: 913 games\n",
      "Team 1343: 832 games\n",
      "Team 1232: 913 games\n",
      "Team 1203: 933 games\n",
      "Team 1110: 910 games\n",
      "Team 1335: 880 games\n",
      "Team 1283: 952 games\n",
      "Team 1235: 950 games\n",
      "Team 1166: 957 games\n",
      "Team 1311: 839 games\n",
      "Team 1256: 925 games\n",
      "Team 1147: 698 games\n",
      "Team 1250: 898 games\n",
      "Team 1266: 951 games\n",
      "Team 1452: 945 games\n",
      "Team 1269: 946 games\n",
      "Team 1208: 954 games\n",
      "Team 1310: 949 games\n",
      "Team 1329: 941 games\n",
      "Team 1333: 911 games\n",
      "Team 1345: 966 games\n",
      "Team 1263: 898 games\n",
      "Team 1352: 925 games\n",
      "Team 1380: 862 games\n",
      "Team 1446: 48 games\n",
      "Team 1427: 858 games\n",
      "Team 1113: 937 games\n",
      "Team 1408: 808 games\n",
      "Team 1410: 831 games\n",
      "Team 1350: 959 games\n",
      "Team 1450: 913 games\n",
      "Team 1462: 954 games\n",
      "Team 1131: 945 games\n",
      "Team 1190: 891 games\n",
      "Team 1168: 891 games\n",
      "Team 1179: 914 games\n",
      "Team 1304: 953 games\n",
      "Team 1224: 907 games\n",
      "Team 1356: 953 games\n",
      "Team 1426: 859 games\n",
      "Team 1215: 147 games\n",
      "Team 1132: 895 games\n",
      "Team 1217: 828 games\n",
      "Team 1389: 928 games\n",
      "Team 1395: 943 games\n",
      "Team 1461: 914 games\n",
      "Team 1279: 927 games\n",
      "Team 1275: 932 games\n",
      "Team 1293: 886 games\n",
      "Team 1191: 928 games\n",
      "Team 1299: 870 games\n",
      "Team 1401: 940 games\n",
      "Team 1175: 890 games\n",
      "Team 1327: 22 games\n",
      "Team 1207: 923 games\n",
      "Team 1108: 866 games\n",
      "Team 1182: 924 games\n",
      "Team 1274: 915 games\n",
      "Team 1362: 867 games\n",
      "Team 1164: 893 games\n",
      "Team 1118: 27 games\n",
      "Team 1420: 845 games\n",
      "Team 1457: 801 games\n",
      "Team 1148: 844 games\n",
      "Team 1372: 795 games\n",
      "Team 1157: 784 games\n",
      "Team 1421: 799 games\n",
      "Team 1358: 806 games\n",
      "Team 1460: 827 games\n",
      "Team 1198: 812 games\n",
      "Team 1291: 815 games\n",
      "Team 1381: 735 games\n",
      "Team 1251: 755 games\n",
      "Team 1282: 745 games\n",
      "Team 1169: 724 games\n",
      "Team 1302: 200 games\n",
      "Team 1454: 737 games\n",
      "Team 1170: 660 games\n",
      "Team 1138: 728 games\n",
      "Team 1158: 720 games\n",
      "Team 1422: 719 games\n",
      "Team 1369: 682 games\n",
      "Team 1404: 643 games\n",
      "Team 1194: 647 games\n",
      "Team 1407: 639 games\n",
      "Team 1142: 597 games\n",
      "Team 1214: 627 games\n",
      "Team 1459: 575 games\n",
      "Team 1240: 568 games\n",
      "Team 1313: 563 games\n",
      "Team 1115: 520 games\n",
      "Team 1176: 526 games\n",
      "Team 1346: 522 games\n",
      "Team 1237: 519 games\n",
      "Team 1340: 497 games\n",
      "Team 1107: 512 games\n",
      "Team 1357: 500 games\n",
      "Team 1324: 506 games\n",
      "Team 1189: 481 games\n",
      "Team 1125: 506 games\n",
      "Team 1105: 447 games\n",
      "Team 1392: 493 games\n",
      "Team 1219: 466 games\n",
      "Team 1127: 442 games\n",
      "Team 1289: 48 games\n",
      "Team 1415: 418 games\n",
      "Team 1236: 400 games\n",
      "Team 1394: 390 games\n",
      "Team 1205: 405 games\n",
      "Team 1128: 106 games\n",
      "Team 1252: 401 games\n",
      "Team 1366: 384 games\n",
      "Team 1294: 336 games\n",
      "Team 1255: 344 games\n",
      "Team 1430: 325 games\n",
      "Team 1413: 348 games\n",
      "Team 1355: 327 games\n",
      "Team 1244: 322 games\n",
      "Team 1295: 308 games\n",
      "Team 1316: 327 games\n",
      "Team 1445: 107 games\n",
      "Team 1312: 276 games\n",
      "Team 1146: 267 games\n",
      "Team 1167: 260 games\n",
      "Team 1300: 252 games\n",
      "Team 1367: 267 games\n",
      "Team 1342: 260 games\n",
      "Team 1195: 273 games\n",
      "Team 1188: 207 games\n",
      "Team 1377: 210 games\n",
      "Team 1315: 217 games\n",
      "Team 1136: 240 games\n",
      "Team 1370: 222 games\n",
      "Team 1303: 129 games\n",
      "Team 1297: 113 games\n",
      "Team 1213: 84 games\n",
      "Team 1262: 83 games\n",
      "Team 1101: 76 games\n",
      "Team 1230: 64 games\n"
     ]
    }
   ],
   "source": [
    "# Write your code here\n",
    "# Initialize a dictionary to keep track of the number of games for each team\n",
    "team_games_count = {}\n",
    "\n",
    "# Iterate over the rows and update the dictionary\n",
    "for index, row in df.iterrows():\n",
    "    # Update winning team count\n",
    "    if row['Wteam'] in team_games_count:\n",
    "        team_games_count[row['Wteam']] += 1\n",
    "    else:\n",
    "        team_games_count[row['Wteam']] = 1\n",
    "    \n",
    "    # Update losing team count\n",
    "    if row['Lteam'] in team_games_count:\n",
    "        team_games_count[row['Lteam']] += 1\n",
    "    else:\n",
    "        team_games_count[row['Lteam']] = 1\n",
    "\n",
    "# Display the total number of games played by each team\n",
    "for team, games_count in team_games_count.items():\n",
    "    print(f\"Team {team}: {games_count} games\")\n"
   ]
  },
  {
   "attachments": {},
   "cell_type": "markdown",
   "metadata": {},
   "source": [
    "**Q**: For each season, find the game with the highest score difference (winning score - losing score). This will require iterating over the rows of the DataFrame, keeping track of the highest score difference for each season, and updating it if a game with a higher score difference is found."
   ]
  },
  {
   "cell_type": "code",
   "execution_count": 59,
   "metadata": {},
   "outputs": [
    {
     "name": "stdout",
     "output_type": "stream",
     "text": [
      "Season 1985: Game with the highest score difference is at index 236 with difference 60\n",
      "Season 1986: Game with the highest score difference is at index 4731 with difference 84\n",
      "Season 1987: Game with the highest score difference is at index 8240 with difference 73\n",
      "Season 1988: Game with the highest score difference is at index 12046 with difference 68\n",
      "Season 1989: Game with the highest score difference is at index 16677 with difference 70\n",
      "Season 1990: Game with the highest score difference is at index 19502 with difference 76\n",
      "Season 1991: Game with the highest score difference is at index 25161 with difference 68\n",
      "Season 1992: Game with the highest score difference is at index 27997 with difference 82\n",
      "Season 1993: Game with the highest score difference is at index 33858 with difference 81\n",
      "Season 1994: Game with the highest score difference is at index 36404 with difference 69\n",
      "Season 1995: Game with the highest score difference is at index 39858 with difference 74\n",
      "Season 1996: Game with the highest score difference is at index 44653 with difference 91\n",
      "Season 1997: Game with the highest score difference is at index 49033 with difference 80\n",
      "Season 1998: Game with the highest score difference is at index 52600 with difference 66\n",
      "Season 1999: Game with the highest score difference is at index 57618 with difference 75\n",
      "Season 2000: Game with the highest score difference is at index 60616 with difference 75\n",
      "Season 2001: Game with the highest score difference is at index 65999 with difference 75\n",
      "Season 2002: Game with the highest score difference is at index 70737 with difference 59\n",
      "Season 2003: Game with the highest score difference is at index 74791 with difference 72\n",
      "Season 2004: Game with the highest score difference is at index 79181 with difference 70\n",
      "Season 2005: Game with the highest score difference is at index 83372 with difference 64\n",
      "Season 2006: Game with the highest score difference is at index 89542 with difference 72\n",
      "Season 2007: Game with the highest score difference is at index 94507 with difference 74\n",
      "Season 2008: Game with the highest score difference is at index 97737 with difference 70\n",
      "Season 2009: Game with the highest score difference is at index 103723 with difference 68\n",
      "Season 2010: Game with the highest score difference is at index 108405 with difference 75\n",
      "Season 2011: Game with the highest score difference is at index 114015 with difference 69\n",
      "Season 2012: Game with the highest score difference is at index 118699 with difference 62\n",
      "Season 2013: Game with the highest score difference is at index 124057 with difference 58\n",
      "Season 2014: Game with the highest score difference is at index 131373 with difference 74\n",
      "Season 2015: Game with the highest score difference is at index 134590 with difference 69\n",
      "Season 2016: Game with the highest score difference is at index 140040 with difference 73\n"
     ]
    }
   ],
   "source": [
    "# Write your code here\n",
    "# Initialize a dictionary to keep track of the highest score difference for each season\n",
    "highest_score_difference_by_season = {}\n",
    "\n",
    "# Iterate over the rows and update the dictionary\n",
    "for index, row in df.iterrows():\n",
    "    season = row['Season']\n",
    "    score_difference = row['ScoreDifference']\n",
    "    \n",
    "    # Update the highest score difference for each season\n",
    "    if season in highest_score_difference_by_season:\n",
    "        current_max_difference = highest_score_difference_by_season[season]\n",
    "        if score_difference > current_max_difference:\n",
    "            highest_score_difference_by_season[season] = score_difference\n",
    "    else:\n",
    "        highest_score_difference_by_season[season] = score_difference\n",
    "\n",
    "# Display the game with the highest score difference for each season\n",
    "for season, max_difference in highest_score_difference_by_season.items():\n",
    "    game_index = df[(df['Season'] == season) & (df['ScoreDifference'] == max_difference)].index[0]\n",
    "    print(f\"Season {season}: Game with the highest score difference is at index {game_index} with difference {max_difference}\")\n",
    "\n"
   ]
  },
  {
   "attachments": {},
   "cell_type": "markdown",
   "metadata": {},
   "source": [
    "Remember, iterating over a DataFrame should generally be avoided if a vectorized operation can be used instead, as vectorized operations are usually much faster. However, these tasks are designed to give practice with DataFrame iteration for cases where it might be necessary."
   ]
  },
  {
   "attachments": {},
   "cell_type": "markdown",
   "metadata": {},
   "source": [
    "Vectorized Operation Example: Create a new column 'HighScoringGame' in the DataFrame using a vectorized operation. This column should contain 'Yes' if the winning score is greater than 100 and 'No' otherwise. Use the np.where function from the numpy library for this task."
   ]
  },
  {
   "cell_type": "code",
   "execution_count": 60,
   "metadata": {},
   "outputs": [],
   "source": [
    "import numpy as np\n",
    "df['HighScoringGame'] = np.where(df['Wscore'] > 100, 'Yes', 'No')"
   ]
  },
  {
   "attachments": {},
   "cell_type": "markdown",
   "metadata": {},
   "source": [
    "**Q**: Vectorized Operation: Calculate the total number of games played by each team, whether they won or lost. Instead of iterating over the DataFrame, use the value_counts() function on the winning team and losing team columns separately, and then add the two Series together."
   ]
  },
  {
   "cell_type": "code",
   "execution_count": 61,
   "metadata": {},
   "outputs": [
    {
     "name": "stdout",
     "output_type": "stream",
     "text": [
      "Total Number of Games Played by Each Team:\n",
      "1101     76\n",
      "1102    840\n",
      "1103    910\n",
      "1104    975\n",
      "1105    447\n",
      "Name: count, dtype: int64\n"
     ]
    }
   ],
   "source": [
    "# Write your code here\n",
    "# Calculate the total number of games played by each team using vectorized operations\n",
    "wins_count = df['Wteam'].value_counts()\n",
    "losses_count = df['Lteam'].value_counts()\n",
    "\n",
    "# Add the two Series together to get the total number of games played by each team\n",
    "total_games_by_team = wins_count.add(losses_count, fill_value=0)\n",
    "\n",
    "# Display the results\n",
    "print(\"Total Number of Games Played by Each Team:\")\n",
    "print(total_games_by_team.head())\n"
   ]
  },
  {
   "attachments": {},
   "cell_type": "markdown",
   "metadata": {},
   "source": [
    "**Q**: For each season, find the game with the highest score difference (winning score - losing score). Instead of iterating over the DataFrame, create a new column 'ScoreDifference' using vectorized subtraction, then use the groupby() function and idxmax() function to find the game with the highest score difference for each season."
   ]
  },
  {
   "cell_type": "code",
   "execution_count": 62,
   "metadata": {},
   "outputs": [
    {
     "name": "stdout",
     "output_type": "stream",
     "text": [
      "Game with the Highest Score Difference for Each Season:\n",
      "Season 1985: Game with the highest score difference is at index 236 with difference 60\n",
      "Season 1986: Game with the highest score difference is at index 4731 with difference 84\n",
      "Season 1987: Game with the highest score difference is at index 8240 with difference 73\n",
      "Season 1988: Game with the highest score difference is at index 12046 with difference 68\n",
      "Season 1989: Game with the highest score difference is at index 16677 with difference 70\n",
      "Season 1990: Game with the highest score difference is at index 19502 with difference 76\n",
      "Season 1991: Game with the highest score difference is at index 25161 with difference 68\n",
      "Season 1992: Game with the highest score difference is at index 27997 with difference 82\n",
      "Season 1993: Game with the highest score difference is at index 33858 with difference 81\n",
      "Season 1994: Game with the highest score difference is at index 36404 with difference 69\n",
      "Season 1995: Game with the highest score difference is at index 39858 with difference 74\n",
      "Season 1996: Game with the highest score difference is at index 44653 with difference 91\n",
      "Season 1997: Game with the highest score difference is at index 49033 with difference 80\n",
      "Season 1998: Game with the highest score difference is at index 52600 with difference 66\n",
      "Season 1999: Game with the highest score difference is at index 57618 with difference 75\n",
      "Season 2000: Game with the highest score difference is at index 60616 with difference 75\n",
      "Season 2001: Game with the highest score difference is at index 65999 with difference 75\n",
      "Season 2002: Game with the highest score difference is at index 70737 with difference 59\n",
      "Season 2003: Game with the highest score difference is at index 74791 with difference 72\n",
      "Season 2004: Game with the highest score difference is at index 79181 with difference 70\n",
      "Season 2005: Game with the highest score difference is at index 83372 with difference 64\n",
      "Season 2006: Game with the highest score difference is at index 89542 with difference 72\n",
      "Season 2007: Game with the highest score difference is at index 94507 with difference 74\n",
      "Season 2008: Game with the highest score difference is at index 97737 with difference 70\n",
      "Season 2009: Game with the highest score difference is at index 103723 with difference 68\n",
      "Season 2010: Game with the highest score difference is at index 108405 with difference 75\n",
      "Season 2011: Game with the highest score difference is at index 114015 with difference 69\n",
      "Season 2012: Game with the highest score difference is at index 118699 with difference 62\n",
      "Season 2013: Game with the highest score difference is at index 124057 with difference 58\n",
      "Season 2014: Game with the highest score difference is at index 131373 with difference 74\n",
      "Season 2015: Game with the highest score difference is at index 134590 with difference 69\n",
      "Season 2016: Game with the highest score difference is at index 140040 with difference 73\n"
     ]
    }
   ],
   "source": [
    "# Write your code here\n",
    "# Create a new column 'ScoreDifference' using vectorized subtraction\n",
    "df['ScoreDifference'] = df['Wscore'] - df['Lscore']\n",
    "\n",
    "# Find the game with the highest score difference for each season\n",
    "max_score_difference_by_season = df.groupby('Season')['ScoreDifference'].idxmax()\n",
    "\n",
    "# Display the results\n",
    "print(\"Game with the Highest Score Difference for Each Season:\")\n",
    "for season, game_index in max_score_difference_by_season.items():\n",
    "    print(f\"Season {season}: Game with the highest score difference is at index {game_index} with difference {df.loc[game_index, 'ScoreDifference']}\")\n"
   ]
  },
  {
   "attachments": {},
   "cell_type": "markdown",
   "metadata": {},
   "source": [
    "# Extracting Rows and Columns"
   ]
  },
  {
   "attachments": {},
   "cell_type": "markdown",
   "metadata": {},
   "source": [
    "The bracket indexing operator is one way to extract certain columns from a dataframe."
   ]
  },
  {
   "cell_type": "code",
   "execution_count": 63,
   "metadata": {
    "collapsed": false,
    "scrolled": true
   },
   "outputs": [
    {
     "data": {
      "text/html": [
       "<div>\n",
       "<style scoped>\n",
       "    .dataframe tbody tr th:only-of-type {\n",
       "        vertical-align: middle;\n",
       "    }\n",
       "\n",
       "    .dataframe tbody tr th {\n",
       "        vertical-align: top;\n",
       "    }\n",
       "\n",
       "    .dataframe thead th {\n",
       "        text-align: right;\n",
       "    }\n",
       "</style>\n",
       "<table border=\"1\" class=\"dataframe\">\n",
       "  <thead>\n",
       "    <tr style=\"text-align: right;\">\n",
       "      <th></th>\n",
       "      <th>Wscore</th>\n",
       "      <th>Lscore</th>\n",
       "    </tr>\n",
       "  </thead>\n",
       "  <tbody>\n",
       "    <tr>\n",
       "      <th>0</th>\n",
       "      <td>81</td>\n",
       "      <td>64</td>\n",
       "    </tr>\n",
       "    <tr>\n",
       "      <th>1</th>\n",
       "      <td>77</td>\n",
       "      <td>70</td>\n",
       "    </tr>\n",
       "    <tr>\n",
       "      <th>2</th>\n",
       "      <td>63</td>\n",
       "      <td>56</td>\n",
       "    </tr>\n",
       "    <tr>\n",
       "      <th>3</th>\n",
       "      <td>70</td>\n",
       "      <td>54</td>\n",
       "    </tr>\n",
       "    <tr>\n",
       "      <th>4</th>\n",
       "      <td>86</td>\n",
       "      <td>74</td>\n",
       "    </tr>\n",
       "  </tbody>\n",
       "</table>\n",
       "</div>"
      ],
      "text/plain": [
       "   Wscore  Lscore\n",
       "0      81      64\n",
       "1      77      70\n",
       "2      63      56\n",
       "3      70      54\n",
       "4      86      74"
      ]
     },
     "execution_count": 63,
     "metadata": {},
     "output_type": "execute_result"
    }
   ],
   "source": [
    "df[['Wscore', 'Lscore']].head()"
   ]
  },
  {
   "attachments": {},
   "cell_type": "markdown",
   "metadata": {},
   "source": [
    "Notice that you can acheive the same result by using the loc function. Loc is a veryyyy versatile function that can help you in a lot of accessing and extracting tasks. "
   ]
  },
  {
   "cell_type": "code",
   "execution_count": 64,
   "metadata": {
    "collapsed": false
   },
   "outputs": [
    {
     "data": {
      "text/html": [
       "<div>\n",
       "<style scoped>\n",
       "    .dataframe tbody tr th:only-of-type {\n",
       "        vertical-align: middle;\n",
       "    }\n",
       "\n",
       "    .dataframe tbody tr th {\n",
       "        vertical-align: top;\n",
       "    }\n",
       "\n",
       "    .dataframe thead th {\n",
       "        text-align: right;\n",
       "    }\n",
       "</style>\n",
       "<table border=\"1\" class=\"dataframe\">\n",
       "  <thead>\n",
       "    <tr style=\"text-align: right;\">\n",
       "      <th></th>\n",
       "      <th>Wscore</th>\n",
       "      <th>Lscore</th>\n",
       "    </tr>\n",
       "  </thead>\n",
       "  <tbody>\n",
       "    <tr>\n",
       "      <th>0</th>\n",
       "      <td>81</td>\n",
       "      <td>64</td>\n",
       "    </tr>\n",
       "    <tr>\n",
       "      <th>1</th>\n",
       "      <td>77</td>\n",
       "      <td>70</td>\n",
       "    </tr>\n",
       "    <tr>\n",
       "      <th>2</th>\n",
       "      <td>63</td>\n",
       "      <td>56</td>\n",
       "    </tr>\n",
       "    <tr>\n",
       "      <th>3</th>\n",
       "      <td>70</td>\n",
       "      <td>54</td>\n",
       "    </tr>\n",
       "    <tr>\n",
       "      <th>4</th>\n",
       "      <td>86</td>\n",
       "      <td>74</td>\n",
       "    </tr>\n",
       "  </tbody>\n",
       "</table>\n",
       "</div>"
      ],
      "text/plain": [
       "   Wscore  Lscore\n",
       "0      81      64\n",
       "1      77      70\n",
       "2      63      56\n",
       "3      70      54\n",
       "4      86      74"
      ]
     },
     "execution_count": 64,
     "metadata": {},
     "output_type": "execute_result"
    }
   ],
   "source": [
    "df.loc[:, ['Wscore', 'Lscore']].head()"
   ]
  },
  {
   "attachments": {},
   "cell_type": "markdown",
   "metadata": {},
   "source": [
    "Note the difference is the return types when you use brackets and when you use double brackets. "
   ]
  },
  {
   "cell_type": "code",
   "execution_count": 65,
   "metadata": {
    "collapsed": false
   },
   "outputs": [
    {
     "data": {
      "text/plain": [
       "pandas.core.series.Series"
      ]
     },
     "execution_count": 65,
     "metadata": {},
     "output_type": "execute_result"
    }
   ],
   "source": [
    "type(df['Wscore'])"
   ]
  },
  {
   "cell_type": "code",
   "execution_count": 66,
   "metadata": {
    "collapsed": false
   },
   "outputs": [
    {
     "data": {
      "text/plain": [
       "pandas.core.frame.DataFrame"
      ]
     },
     "execution_count": 66,
     "metadata": {},
     "output_type": "execute_result"
    }
   ],
   "source": [
    "type(df[['Wscore']])"
   ]
  },
  {
   "attachments": {},
   "cell_type": "markdown",
   "metadata": {},
   "source": [
    "You've seen before that you can access columns through df['col name']. You can access rows by using slicing operations. "
   ]
  },
  {
   "cell_type": "code",
   "execution_count": 69,
   "metadata": {
    "collapsed": false
   },
   "outputs": [
    {
     "data": {
      "text/html": [
       "<div>\n",
       "<style scoped>\n",
       "    .dataframe tbody tr th:only-of-type {\n",
       "        vertical-align: middle;\n",
       "    }\n",
       "\n",
       "    .dataframe tbody tr th {\n",
       "        vertical-align: top;\n",
       "    }\n",
       "\n",
       "    .dataframe thead th {\n",
       "        text-align: right;\n",
       "    }\n",
       "</style>\n",
       "<table border=\"1\" class=\"dataframe\">\n",
       "  <thead>\n",
       "    <tr style=\"text-align: right;\">\n",
       "      <th></th>\n",
       "      <th>Season</th>\n",
       "      <th>Daynum</th>\n",
       "      <th>Wteam</th>\n",
       "      <th>Wscore</th>\n",
       "      <th>Lteam</th>\n",
       "      <th>Lscore</th>\n",
       "      <th>Wloc</th>\n",
       "      <th>Numot</th>\n",
       "      <th>ScoreDifference</th>\n",
       "      <th>HighScoringGame</th>\n",
       "    </tr>\n",
       "  </thead>\n",
       "  <tbody>\n",
       "    <tr>\n",
       "      <th>0</th>\n",
       "      <td>1985</td>\n",
       "      <td>20</td>\n",
       "      <td>1228</td>\n",
       "      <td>81</td>\n",
       "      <td>1328</td>\n",
       "      <td>64</td>\n",
       "      <td>N</td>\n",
       "      <td>0</td>\n",
       "      <td>17</td>\n",
       "      <td>No</td>\n",
       "    </tr>\n",
       "    <tr>\n",
       "      <th>1</th>\n",
       "      <td>1985</td>\n",
       "      <td>25</td>\n",
       "      <td>1106</td>\n",
       "      <td>77</td>\n",
       "      <td>1354</td>\n",
       "      <td>70</td>\n",
       "      <td>H</td>\n",
       "      <td>0</td>\n",
       "      <td>7</td>\n",
       "      <td>No</td>\n",
       "    </tr>\n",
       "    <tr>\n",
       "      <th>2</th>\n",
       "      <td>1985</td>\n",
       "      <td>25</td>\n",
       "      <td>1112</td>\n",
       "      <td>63</td>\n",
       "      <td>1223</td>\n",
       "      <td>56</td>\n",
       "      <td>H</td>\n",
       "      <td>0</td>\n",
       "      <td>7</td>\n",
       "      <td>No</td>\n",
       "    </tr>\n",
       "  </tbody>\n",
       "</table>\n",
       "</div>"
      ],
      "text/plain": [
       "   Season  Daynum  Wteam  Wscore  Lteam  Lscore Wloc  Numot  ScoreDifference   \n",
       "0    1985      20   1228      81   1328      64    N      0               17  \\\n",
       "1    1985      25   1106      77   1354      70    H      0                7   \n",
       "2    1985      25   1112      63   1223      56    H      0                7   \n",
       "\n",
       "  HighScoringGame  \n",
       "0              No  \n",
       "1              No  \n",
       "2              No  "
      ]
     },
     "execution_count": 69,
     "metadata": {},
     "output_type": "execute_result"
    }
   ],
   "source": [
    "df[0:3]"
   ]
  },
  {
   "attachments": {},
   "cell_type": "markdown",
   "metadata": {},
   "source": [
    "Here's an equivalent using iloc"
   ]
  },
  {
   "cell_type": "code",
   "execution_count": 68,
   "metadata": {
    "collapsed": false
   },
   "outputs": [
    {
     "data": {
      "text/html": [
       "<div>\n",
       "<style scoped>\n",
       "    .dataframe tbody tr th:only-of-type {\n",
       "        vertical-align: middle;\n",
       "    }\n",
       "\n",
       "    .dataframe tbody tr th {\n",
       "        vertical-align: top;\n",
       "    }\n",
       "\n",
       "    .dataframe thead th {\n",
       "        text-align: right;\n",
       "    }\n",
       "</style>\n",
       "<table border=\"1\" class=\"dataframe\">\n",
       "  <thead>\n",
       "    <tr style=\"text-align: right;\">\n",
       "      <th></th>\n",
       "      <th>Season</th>\n",
       "      <th>Daynum</th>\n",
       "      <th>Wteam</th>\n",
       "      <th>Wscore</th>\n",
       "      <th>Lteam</th>\n",
       "      <th>Lscore</th>\n",
       "      <th>Wloc</th>\n",
       "      <th>Numot</th>\n",
       "      <th>ScoreDifference</th>\n",
       "      <th>HighScoringGame</th>\n",
       "    </tr>\n",
       "  </thead>\n",
       "  <tbody>\n",
       "    <tr>\n",
       "      <th>0</th>\n",
       "      <td>1985</td>\n",
       "      <td>20</td>\n",
       "      <td>1228</td>\n",
       "      <td>81</td>\n",
       "      <td>1328</td>\n",
       "      <td>64</td>\n",
       "      <td>N</td>\n",
       "      <td>0</td>\n",
       "      <td>17</td>\n",
       "      <td>No</td>\n",
       "    </tr>\n",
       "    <tr>\n",
       "      <th>1</th>\n",
       "      <td>1985</td>\n",
       "      <td>25</td>\n",
       "      <td>1106</td>\n",
       "      <td>77</td>\n",
       "      <td>1354</td>\n",
       "      <td>70</td>\n",
       "      <td>H</td>\n",
       "      <td>0</td>\n",
       "      <td>7</td>\n",
       "      <td>No</td>\n",
       "    </tr>\n",
       "    <tr>\n",
       "      <th>2</th>\n",
       "      <td>1985</td>\n",
       "      <td>25</td>\n",
       "      <td>1112</td>\n",
       "      <td>63</td>\n",
       "      <td>1223</td>\n",
       "      <td>56</td>\n",
       "      <td>H</td>\n",
       "      <td>0</td>\n",
       "      <td>7</td>\n",
       "      <td>No</td>\n",
       "    </tr>\n",
       "  </tbody>\n",
       "</table>\n",
       "</div>"
      ],
      "text/plain": [
       "   Season  Daynum  Wteam  Wscore  Lteam  Lscore Wloc  Numot  ScoreDifference   \n",
       "0    1985      20   1228      81   1328      64    N      0               17  \\\n",
       "1    1985      25   1106      77   1354      70    H      0                7   \n",
       "2    1985      25   1112      63   1223      56    H      0                7   \n",
       "\n",
       "  HighScoringGame  \n",
       "0              No  \n",
       "1              No  \n",
       "2              No  "
      ]
     },
     "execution_count": 68,
     "metadata": {},
     "output_type": "execute_result"
    }
   ],
   "source": [
    "df.iloc[0:3,:]"
   ]
  },
  {
   "attachments": {},
   "cell_type": "markdown",
   "metadata": {},
   "source": [
    "# Data Cleaning"
   ]
  },
  {
   "attachments": {},
   "cell_type": "markdown",
   "metadata": {},
   "source": [
    "One of the big jobs of doing well in Kaggle competitions is that of data cleaning. A lot of times, the CSV file you're given (especially like in the Titanic dataset), you'll have a lot of missing values in the dataset, which you have to identify. The following **isnull** function will figure out if there are any missing values in the dataframe, and will then sum up the total for each column. In this case, we have a pretty clean dataset."
   ]
  },
  {
   "cell_type": "code",
   "execution_count": 67,
   "metadata": {
    "collapsed": false
   },
   "outputs": [
    {
     "data": {
      "text/plain": [
       "Season             0\n",
       "Daynum             0\n",
       "Wteam              0\n",
       "Wscore             0\n",
       "Lteam              0\n",
       "Lscore             0\n",
       "Wloc               0\n",
       "Numot              0\n",
       "ScoreDifference    0\n",
       "HighScoringGame    0\n",
       "dtype: int64"
      ]
     },
     "execution_count": 67,
     "metadata": {},
     "output_type": "execute_result"
    }
   ],
   "source": [
    "df.isnull().sum()"
   ]
  },
  {
   "attachments": {},
   "cell_type": "markdown",
   "metadata": {},
   "source": [
    "If you do end up having missing values in your datasets, be sure to get familiar with these two functions. \n",
    "* **dropna()** - This function allows you to drop all(or some) of the rows that have missing values. \n",
    "* **fillna()** - This function allows you replace the rows that have missing values with the value that you pass in."
   ]
  },
  {
   "attachments": {},
   "cell_type": "markdown",
   "metadata": {},
   "source": [
    "# Other Useful Functions"
   ]
  },
  {
   "attachments": {},
   "cell_type": "markdown",
   "metadata": {},
   "source": [
    "* **drop()** - This function removes the column or row that you pass in (You also have the specify the axis). \n",
    "* **agg()** - The aggregate function lets you compute summary statistics about each group\n",
    "* **apply()** - Lets you apply a specific function to any/all elements in a Dataframe or Series\n",
    "* **get_dummies()** - Helpful for turning categorical data into one hot vectors.\n",
    "* **drop_duplicates()** - Lets you remove identical rows"
   ]
  },
  {
   "attachments": {},
   "cell_type": "markdown",
   "metadata": {
    "collapsed": true
   },
   "source": [
    "# Lots of Other Great Resources"
   ]
  },
  {
   "attachments": {},
   "cell_type": "markdown",
   "metadata": {},
   "source": [
    "Pandas has been around for a while and there are a lot of other good resources if you're still interested on getting the most out of this library. \n",
    "* http://pandas.pydata.org/pandas-docs/stable/10min.html\n",
    "* https://www.datacamp.com/community/tutorials/pandas-tutorial-dataframe-python\n",
    "* http://www.gregreda.com/2013/10/26/intro-to-pandas-data-structures/\n",
    "* https://www.dataquest.io/blog/pandas-python-tutorial/\n",
    "* https://drive.google.com/file/d/0ByIrJAE4KMTtTUtiVExiUGVkRkE/view\n",
    "* https://www.youtube.com/playlist?list=PL5-da3qGB5ICCsgW1MxlZ0Hq8LL5U3u9y"
   ]
  }
 ],
 "metadata": {
  "anaconda-cloud": {},
  "kernelspec": {
   "display_name": "Python 3",
   "language": "python",
   "name": "python3"
  },
  "language_info": {
   "codemirror_mode": {
    "name": "ipython",
    "version": 3
   },
   "file_extension": ".py",
   "mimetype": "text/x-python",
   "name": "python",
   "nbconvert_exporter": "python",
   "pygments_lexer": "ipython3",
   "version": "3.10.11"
  }
 },
 "nbformat": 4,
 "nbformat_minor": 1
}
