{
 "cells": [
  {
   "attachments": {},
   "cell_type": "markdown",
   "metadata": {},
   "source": [
    "# Introduction"
   ]
  },
  {
   "attachments": {},
   "cell_type": "markdown",
   "metadata": {},
   "source": [
    "Hopefully, this short tutorial can show you a lot of different commands that will help you gain the most insights into your dataset. "
   ]
  },
  {
   "cell_type": "code",
   "execution_count": 1,
   "metadata": {
    "collapsed": true
   },
   "outputs": [],
   "source": [
    "import pandas as pd\n",
    "from src.utils import load_data_from_google_drive"
   ]
  },
  {
   "attachments": {},
   "cell_type": "markdown",
   "metadata": {},
   "source": [
    "# Loading in Data"
   ]
  },
  {
   "attachments": {},
   "cell_type": "markdown",
   "metadata": {},
   "source": [
    "The first step in any ML problem is identifying what format your data is in, and then loading it into whatever framework you're using. For Kaggle compeitions, a lot of data can be found in CSV files, so that's the example we're going to use. "
   ]
  },
  {
   "attachments": {},
   "cell_type": "markdown",
   "metadata": {},
   "source": [
    "We're going to be looking at a sports dataset that shows the results from NCAA basketball games from 1985 to 2016. This dataset is in a CSV file, and the function we're going to use to read in the file is called **pd.read_csv()**. This function returns a **dataframe** variable. The dataframe is the golden jewel data structure for Pandas. It is defined as \"a two-dimensional size-mutable, potentially heterogeneous tabular data structure with labeled axes (rows and columns)\"."
   ]
  },
  {
   "attachments": {},
   "cell_type": "markdown",
   "metadata": {},
   "source": [
    "Just think of it as a table for now. "
   ]
  },
  {
   "cell_type": "code",
   "execution_count": 2,
   "metadata": {
    "collapsed": false
   },
   "outputs": [],
   "source": [
    "df = load_data_from_google_drive(url='https://drive.google.com/file/d/184JcLbSpArA_uq0DgAv2k892KChJVPHt/view?usp=share_link')"
   ]
  },
  {
   "cell_type": "code",
   "execution_count": 3,
   "metadata": {},
   "outputs": [
    {
     "data": {
      "text/html": [
       "<div>\n",
       "<style scoped>\n",
       "    .dataframe tbody tr th:only-of-type {\n",
       "        vertical-align: middle;\n",
       "    }\n",
       "\n",
       "    .dataframe tbody tr th {\n",
       "        vertical-align: top;\n",
       "    }\n",
       "\n",
       "    .dataframe thead th {\n",
       "        text-align: right;\n",
       "    }\n",
       "</style>\n",
       "<table border=\"1\" class=\"dataframe\">\n",
       "  <thead>\n",
       "    <tr style=\"text-align: right;\">\n",
       "      <th></th>\n",
       "      <th>Season</th>\n",
       "      <th>Daynum</th>\n",
       "      <th>Wteam</th>\n",
       "      <th>Wscore</th>\n",
       "      <th>Lteam</th>\n",
       "      <th>Lscore</th>\n",
       "      <th>Wloc</th>\n",
       "      <th>Numot</th>\n",
       "    </tr>\n",
       "  </thead>\n",
       "  <tbody>\n",
       "    <tr>\n",
       "      <th>0</th>\n",
       "      <td>1985</td>\n",
       "      <td>20</td>\n",
       "      <td>1228</td>\n",
       "      <td>81</td>\n",
       "      <td>1328</td>\n",
       "      <td>64</td>\n",
       "      <td>N</td>\n",
       "      <td>0</td>\n",
       "    </tr>\n",
       "    <tr>\n",
       "      <th>1</th>\n",
       "      <td>1985</td>\n",
       "      <td>25</td>\n",
       "      <td>1106</td>\n",
       "      <td>77</td>\n",
       "      <td>1354</td>\n",
       "      <td>70</td>\n",
       "      <td>H</td>\n",
       "      <td>0</td>\n",
       "    </tr>\n",
       "    <tr>\n",
       "      <th>2</th>\n",
       "      <td>1985</td>\n",
       "      <td>25</td>\n",
       "      <td>1112</td>\n",
       "      <td>63</td>\n",
       "      <td>1223</td>\n",
       "      <td>56</td>\n",
       "      <td>H</td>\n",
       "      <td>0</td>\n",
       "    </tr>\n",
       "    <tr>\n",
       "      <th>3</th>\n",
       "      <td>1985</td>\n",
       "      <td>25</td>\n",
       "      <td>1165</td>\n",
       "      <td>70</td>\n",
       "      <td>1432</td>\n",
       "      <td>54</td>\n",
       "      <td>H</td>\n",
       "      <td>0</td>\n",
       "    </tr>\n",
       "    <tr>\n",
       "      <th>4</th>\n",
       "      <td>1985</td>\n",
       "      <td>25</td>\n",
       "      <td>1192</td>\n",
       "      <td>86</td>\n",
       "      <td>1447</td>\n",
       "      <td>74</td>\n",
       "      <td>H</td>\n",
       "      <td>0</td>\n",
       "    </tr>\n",
       "    <tr>\n",
       "      <th>...</th>\n",
       "      <td>...</td>\n",
       "      <td>...</td>\n",
       "      <td>...</td>\n",
       "      <td>...</td>\n",
       "      <td>...</td>\n",
       "      <td>...</td>\n",
       "      <td>...</td>\n",
       "      <td>...</td>\n",
       "    </tr>\n",
       "    <tr>\n",
       "      <th>145284</th>\n",
       "      <td>2016</td>\n",
       "      <td>132</td>\n",
       "      <td>1114</td>\n",
       "      <td>70</td>\n",
       "      <td>1419</td>\n",
       "      <td>50</td>\n",
       "      <td>N</td>\n",
       "      <td>0</td>\n",
       "    </tr>\n",
       "    <tr>\n",
       "      <th>145285</th>\n",
       "      <td>2016</td>\n",
       "      <td>132</td>\n",
       "      <td>1163</td>\n",
       "      <td>72</td>\n",
       "      <td>1272</td>\n",
       "      <td>58</td>\n",
       "      <td>N</td>\n",
       "      <td>0</td>\n",
       "    </tr>\n",
       "    <tr>\n",
       "      <th>145286</th>\n",
       "      <td>2016</td>\n",
       "      <td>132</td>\n",
       "      <td>1246</td>\n",
       "      <td>82</td>\n",
       "      <td>1401</td>\n",
       "      <td>77</td>\n",
       "      <td>N</td>\n",
       "      <td>1</td>\n",
       "    </tr>\n",
       "    <tr>\n",
       "      <th>145287</th>\n",
       "      <td>2016</td>\n",
       "      <td>132</td>\n",
       "      <td>1277</td>\n",
       "      <td>66</td>\n",
       "      <td>1345</td>\n",
       "      <td>62</td>\n",
       "      <td>N</td>\n",
       "      <td>0</td>\n",
       "    </tr>\n",
       "    <tr>\n",
       "      <th>145288</th>\n",
       "      <td>2016</td>\n",
       "      <td>132</td>\n",
       "      <td>1386</td>\n",
       "      <td>87</td>\n",
       "      <td>1433</td>\n",
       "      <td>74</td>\n",
       "      <td>N</td>\n",
       "      <td>0</td>\n",
       "    </tr>\n",
       "  </tbody>\n",
       "</table>\n",
       "<p>145289 rows × 8 columns</p>\n",
       "</div>"
      ],
      "text/plain": [
       "        Season  Daynum  Wteam  Wscore  Lteam  Lscore Wloc  Numot\n",
       "0         1985      20   1228      81   1328      64    N      0\n",
       "1         1985      25   1106      77   1354      70    H      0\n",
       "2         1985      25   1112      63   1223      56    H      0\n",
       "3         1985      25   1165      70   1432      54    H      0\n",
       "4         1985      25   1192      86   1447      74    H      0\n",
       "...        ...     ...    ...     ...    ...     ...  ...    ...\n",
       "145284    2016     132   1114      70   1419      50    N      0\n",
       "145285    2016     132   1163      72   1272      58    N      0\n",
       "145286    2016     132   1246      82   1401      77    N      1\n",
       "145287    2016     132   1277      66   1345      62    N      0\n",
       "145288    2016     132   1386      87   1433      74    N      0\n",
       "\n",
       "[145289 rows x 8 columns]"
      ]
     },
     "execution_count": 3,
     "metadata": {},
     "output_type": "execute_result"
    }
   ],
   "source": [
    "df"
   ]
  },
  {
   "attachments": {},
   "cell_type": "markdown",
   "metadata": {},
   "source": [
    "# The Basics"
   ]
  },
  {
   "attachments": {},
   "cell_type": "markdown",
   "metadata": {},
   "source": [
    "Now that we have our dataframe in our variable df, let's look at what it contains. We can use the function **head()** to see the first couple rows of the dataframe (or the function **tail()** to see the last few rows)."
   ]
  },
  {
   "cell_type": "code",
   "execution_count": 4,
   "metadata": {
    "collapsed": false
   },
   "outputs": [
    {
     "data": {
      "text/html": [
       "<div>\n",
       "<style scoped>\n",
       "    .dataframe tbody tr th:only-of-type {\n",
       "        vertical-align: middle;\n",
       "    }\n",
       "\n",
       "    .dataframe tbody tr th {\n",
       "        vertical-align: top;\n",
       "    }\n",
       "\n",
       "    .dataframe thead th {\n",
       "        text-align: right;\n",
       "    }\n",
       "</style>\n",
       "<table border=\"1\" class=\"dataframe\">\n",
       "  <thead>\n",
       "    <tr style=\"text-align: right;\">\n",
       "      <th></th>\n",
       "      <th>Season</th>\n",
       "      <th>Daynum</th>\n",
       "      <th>Wteam</th>\n",
       "      <th>Wscore</th>\n",
       "      <th>Lteam</th>\n",
       "      <th>Lscore</th>\n",
       "      <th>Wloc</th>\n",
       "      <th>Numot</th>\n",
       "    </tr>\n",
       "  </thead>\n",
       "  <tbody>\n",
       "    <tr>\n",
       "      <th>0</th>\n",
       "      <td>1985</td>\n",
       "      <td>20</td>\n",
       "      <td>1228</td>\n",
       "      <td>81</td>\n",
       "      <td>1328</td>\n",
       "      <td>64</td>\n",
       "      <td>N</td>\n",
       "      <td>0</td>\n",
       "    </tr>\n",
       "    <tr>\n",
       "      <th>1</th>\n",
       "      <td>1985</td>\n",
       "      <td>25</td>\n",
       "      <td>1106</td>\n",
       "      <td>77</td>\n",
       "      <td>1354</td>\n",
       "      <td>70</td>\n",
       "      <td>H</td>\n",
       "      <td>0</td>\n",
       "    </tr>\n",
       "    <tr>\n",
       "      <th>2</th>\n",
       "      <td>1985</td>\n",
       "      <td>25</td>\n",
       "      <td>1112</td>\n",
       "      <td>63</td>\n",
       "      <td>1223</td>\n",
       "      <td>56</td>\n",
       "      <td>H</td>\n",
       "      <td>0</td>\n",
       "    </tr>\n",
       "    <tr>\n",
       "      <th>3</th>\n",
       "      <td>1985</td>\n",
       "      <td>25</td>\n",
       "      <td>1165</td>\n",
       "      <td>70</td>\n",
       "      <td>1432</td>\n",
       "      <td>54</td>\n",
       "      <td>H</td>\n",
       "      <td>0</td>\n",
       "    </tr>\n",
       "    <tr>\n",
       "      <th>4</th>\n",
       "      <td>1985</td>\n",
       "      <td>25</td>\n",
       "      <td>1192</td>\n",
       "      <td>86</td>\n",
       "      <td>1447</td>\n",
       "      <td>74</td>\n",
       "      <td>H</td>\n",
       "      <td>0</td>\n",
       "    </tr>\n",
       "  </tbody>\n",
       "</table>\n",
       "</div>"
      ],
      "text/plain": [
       "   Season  Daynum  Wteam  Wscore  Lteam  Lscore Wloc  Numot\n",
       "0    1985      20   1228      81   1328      64    N      0\n",
       "1    1985      25   1106      77   1354      70    H      0\n",
       "2    1985      25   1112      63   1223      56    H      0\n",
       "3    1985      25   1165      70   1432      54    H      0\n",
       "4    1985      25   1192      86   1447      74    H      0"
      ]
     },
     "execution_count": 4,
     "metadata": {},
     "output_type": "execute_result"
    }
   ],
   "source": [
    "df.head()"
   ]
  },
  {
   "cell_type": "code",
   "execution_count": 5,
   "metadata": {
    "collapsed": false
   },
   "outputs": [
    {
     "data": {
      "text/html": [
       "<div>\n",
       "<style scoped>\n",
       "    .dataframe tbody tr th:only-of-type {\n",
       "        vertical-align: middle;\n",
       "    }\n",
       "\n",
       "    .dataframe tbody tr th {\n",
       "        vertical-align: top;\n",
       "    }\n",
       "\n",
       "    .dataframe thead th {\n",
       "        text-align: right;\n",
       "    }\n",
       "</style>\n",
       "<table border=\"1\" class=\"dataframe\">\n",
       "  <thead>\n",
       "    <tr style=\"text-align: right;\">\n",
       "      <th></th>\n",
       "      <th>Season</th>\n",
       "      <th>Daynum</th>\n",
       "      <th>Wteam</th>\n",
       "      <th>Wscore</th>\n",
       "      <th>Lteam</th>\n",
       "      <th>Lscore</th>\n",
       "      <th>Wloc</th>\n",
       "      <th>Numot</th>\n",
       "    </tr>\n",
       "  </thead>\n",
       "  <tbody>\n",
       "    <tr>\n",
       "      <th>145284</th>\n",
       "      <td>2016</td>\n",
       "      <td>132</td>\n",
       "      <td>1114</td>\n",
       "      <td>70</td>\n",
       "      <td>1419</td>\n",
       "      <td>50</td>\n",
       "      <td>N</td>\n",
       "      <td>0</td>\n",
       "    </tr>\n",
       "    <tr>\n",
       "      <th>145285</th>\n",
       "      <td>2016</td>\n",
       "      <td>132</td>\n",
       "      <td>1163</td>\n",
       "      <td>72</td>\n",
       "      <td>1272</td>\n",
       "      <td>58</td>\n",
       "      <td>N</td>\n",
       "      <td>0</td>\n",
       "    </tr>\n",
       "    <tr>\n",
       "      <th>145286</th>\n",
       "      <td>2016</td>\n",
       "      <td>132</td>\n",
       "      <td>1246</td>\n",
       "      <td>82</td>\n",
       "      <td>1401</td>\n",
       "      <td>77</td>\n",
       "      <td>N</td>\n",
       "      <td>1</td>\n",
       "    </tr>\n",
       "    <tr>\n",
       "      <th>145287</th>\n",
       "      <td>2016</td>\n",
       "      <td>132</td>\n",
       "      <td>1277</td>\n",
       "      <td>66</td>\n",
       "      <td>1345</td>\n",
       "      <td>62</td>\n",
       "      <td>N</td>\n",
       "      <td>0</td>\n",
       "    </tr>\n",
       "    <tr>\n",
       "      <th>145288</th>\n",
       "      <td>2016</td>\n",
       "      <td>132</td>\n",
       "      <td>1386</td>\n",
       "      <td>87</td>\n",
       "      <td>1433</td>\n",
       "      <td>74</td>\n",
       "      <td>N</td>\n",
       "      <td>0</td>\n",
       "    </tr>\n",
       "  </tbody>\n",
       "</table>\n",
       "</div>"
      ],
      "text/plain": [
       "        Season  Daynum  Wteam  Wscore  Lteam  Lscore Wloc  Numot\n",
       "145284    2016     132   1114      70   1419      50    N      0\n",
       "145285    2016     132   1163      72   1272      58    N      0\n",
       "145286    2016     132   1246      82   1401      77    N      1\n",
       "145287    2016     132   1277      66   1345      62    N      0\n",
       "145288    2016     132   1386      87   1433      74    N      0"
      ]
     },
     "execution_count": 5,
     "metadata": {},
     "output_type": "execute_result"
    }
   ],
   "source": [
    "df.tail()"
   ]
  },
  {
   "attachments": {},
   "cell_type": "markdown",
   "metadata": {},
   "source": [
    "We can see the dimensions of the dataframe using the the **shape** attribute"
   ]
  },
  {
   "cell_type": "code",
   "execution_count": 11,
   "metadata": {
    "collapsed": false
   },
   "outputs": [
    {
     "data": {
      "text/plain": [
       "(145289, 8)"
      ]
     },
     "execution_count": 11,
     "metadata": {},
     "output_type": "execute_result"
    }
   ],
   "source": [
    "df.shape"
   ]
  },
  {
   "attachments": {},
   "cell_type": "markdown",
   "metadata": {
    "collapsed": true
   },
   "source": [
    "We can also extract all the column names as a list, by using the **columns** attribute and can extract the rows with the **index** attribute"
   ]
  },
  {
   "cell_type": "code",
   "execution_count": 12,
   "metadata": {
    "collapsed": false
   },
   "outputs": [
    {
     "data": {
      "text/plain": [
       "['Season', 'Daynum', 'Wteam', 'Wscore', 'Lteam', 'Lscore', 'Wloc', 'Numot']"
      ]
     },
     "execution_count": 12,
     "metadata": {},
     "output_type": "execute_result"
    }
   ],
   "source": [
    "df.columns.tolist()"
   ]
  },
  {
   "attachments": {},
   "cell_type": "markdown",
   "metadata": {},
   "source": [
    "In order to get a better idea of the type of data that we are dealing with, we can call the **describe()** function to see statistics like mean, min, etc about each column of the dataset. "
   ]
  },
  {
   "cell_type": "code",
   "execution_count": 13,
   "metadata": {
    "collapsed": false
   },
   "outputs": [
    {
     "data": {
      "text/html": [
       "<div>\n",
       "<style scoped>\n",
       "    .dataframe tbody tr th:only-of-type {\n",
       "        vertical-align: middle;\n",
       "    }\n",
       "\n",
       "    .dataframe tbody tr th {\n",
       "        vertical-align: top;\n",
       "    }\n",
       "\n",
       "    .dataframe thead th {\n",
       "        text-align: right;\n",
       "    }\n",
       "</style>\n",
       "<table border=\"1\" class=\"dataframe\">\n",
       "  <thead>\n",
       "    <tr style=\"text-align: right;\">\n",
       "      <th></th>\n",
       "      <th>Season</th>\n",
       "      <th>Daynum</th>\n",
       "      <th>Wteam</th>\n",
       "      <th>Wscore</th>\n",
       "      <th>Lteam</th>\n",
       "      <th>Lscore</th>\n",
       "      <th>Numot</th>\n",
       "    </tr>\n",
       "  </thead>\n",
       "  <tbody>\n",
       "    <tr>\n",
       "      <th>count</th>\n",
       "      <td>145289.000000</td>\n",
       "      <td>145289.000000</td>\n",
       "      <td>145289.000000</td>\n",
       "      <td>145289.000000</td>\n",
       "      <td>145289.000000</td>\n",
       "      <td>145289.000000</td>\n",
       "      <td>145289.000000</td>\n",
       "    </tr>\n",
       "    <tr>\n",
       "      <th>mean</th>\n",
       "      <td>2001.574834</td>\n",
       "      <td>75.223816</td>\n",
       "      <td>1286.720646</td>\n",
       "      <td>76.600321</td>\n",
       "      <td>1282.864064</td>\n",
       "      <td>64.497009</td>\n",
       "      <td>0.044387</td>\n",
       "    </tr>\n",
       "    <tr>\n",
       "      <th>std</th>\n",
       "      <td>9.233342</td>\n",
       "      <td>33.287418</td>\n",
       "      <td>104.570275</td>\n",
       "      <td>12.173033</td>\n",
       "      <td>104.829234</td>\n",
       "      <td>11.380625</td>\n",
       "      <td>0.247819</td>\n",
       "    </tr>\n",
       "    <tr>\n",
       "      <th>min</th>\n",
       "      <td>1985.000000</td>\n",
       "      <td>0.000000</td>\n",
       "      <td>1101.000000</td>\n",
       "      <td>34.000000</td>\n",
       "      <td>1101.000000</td>\n",
       "      <td>20.000000</td>\n",
       "      <td>0.000000</td>\n",
       "    </tr>\n",
       "    <tr>\n",
       "      <th>25%</th>\n",
       "      <td>1994.000000</td>\n",
       "      <td>47.000000</td>\n",
       "      <td>1198.000000</td>\n",
       "      <td>68.000000</td>\n",
       "      <td>1191.000000</td>\n",
       "      <td>57.000000</td>\n",
       "      <td>0.000000</td>\n",
       "    </tr>\n",
       "    <tr>\n",
       "      <th>50%</th>\n",
       "      <td>2002.000000</td>\n",
       "      <td>78.000000</td>\n",
       "      <td>1284.000000</td>\n",
       "      <td>76.000000</td>\n",
       "      <td>1280.000000</td>\n",
       "      <td>64.000000</td>\n",
       "      <td>0.000000</td>\n",
       "    </tr>\n",
       "    <tr>\n",
       "      <th>75%</th>\n",
       "      <td>2010.000000</td>\n",
       "      <td>103.000000</td>\n",
       "      <td>1379.000000</td>\n",
       "      <td>84.000000</td>\n",
       "      <td>1375.000000</td>\n",
       "      <td>72.000000</td>\n",
       "      <td>0.000000</td>\n",
       "    </tr>\n",
       "    <tr>\n",
       "      <th>max</th>\n",
       "      <td>2016.000000</td>\n",
       "      <td>132.000000</td>\n",
       "      <td>1464.000000</td>\n",
       "      <td>186.000000</td>\n",
       "      <td>1464.000000</td>\n",
       "      <td>150.000000</td>\n",
       "      <td>6.000000</td>\n",
       "    </tr>\n",
       "  </tbody>\n",
       "</table>\n",
       "</div>"
      ],
      "text/plain": [
       "              Season         Daynum          Wteam         Wscore  \\\n",
       "count  145289.000000  145289.000000  145289.000000  145289.000000   \n",
       "mean     2001.574834      75.223816    1286.720646      76.600321   \n",
       "std         9.233342      33.287418     104.570275      12.173033   \n",
       "min      1985.000000       0.000000    1101.000000      34.000000   \n",
       "25%      1994.000000      47.000000    1198.000000      68.000000   \n",
       "50%      2002.000000      78.000000    1284.000000      76.000000   \n",
       "75%      2010.000000     103.000000    1379.000000      84.000000   \n",
       "max      2016.000000     132.000000    1464.000000     186.000000   \n",
       "\n",
       "               Lteam         Lscore          Numot  \n",
       "count  145289.000000  145289.000000  145289.000000  \n",
       "mean     1282.864064      64.497009       0.044387  \n",
       "std       104.829234      11.380625       0.247819  \n",
       "min      1101.000000      20.000000       0.000000  \n",
       "25%      1191.000000      57.000000       0.000000  \n",
       "50%      1280.000000      64.000000       0.000000  \n",
       "75%      1375.000000      72.000000       0.000000  \n",
       "max      1464.000000     150.000000       6.000000  "
      ]
     },
     "execution_count": 13,
     "metadata": {},
     "output_type": "execute_result"
    }
   ],
   "source": [
    "df.describe()"
   ]
  },
  {
   "attachments": {},
   "cell_type": "markdown",
   "metadata": {},
   "source": [
    "Okay, so now let's looking at information that we want to extract from the dataframe. Let's say I wanted to know the max value of a certain column. The function **max()** will show you the maximum values of all columns"
   ]
  },
  {
   "cell_type": "code",
   "execution_count": 14,
   "metadata": {
    "collapsed": false
   },
   "outputs": [
    {
     "data": {
      "text/plain": [
       "Season    2016\n",
       "Daynum     132\n",
       "Wteam     1464\n",
       "Wscore     186\n",
       "Lteam     1464\n",
       "Lscore     150\n",
       "Wloc         N\n",
       "Numot        6\n",
       "dtype: object"
      ]
     },
     "execution_count": 14,
     "metadata": {},
     "output_type": "execute_result"
    }
   ],
   "source": [
    "df.max()"
   ]
  },
  {
   "attachments": {},
   "cell_type": "markdown",
   "metadata": {},
   "source": [
    "Then, if you'd like to specifically get the max value for a particular column, you pass in the name of the column using the bracket indexing operator"
   ]
  },
  {
   "cell_type": "code",
   "execution_count": 15,
   "metadata": {
    "collapsed": false
   },
   "outputs": [
    {
     "data": {
      "text/plain": [
       "186"
      ]
     },
     "execution_count": 15,
     "metadata": {},
     "output_type": "execute_result"
    }
   ],
   "source": [
    "df['Wscore'].max()"
   ]
  },
  {
   "attachments": {},
   "cell_type": "markdown",
   "metadata": {},
   "source": [
    "If you'd like to find the mean of the Losing teams' score. "
   ]
  },
  {
   "cell_type": "code",
   "execution_count": 16,
   "metadata": {
    "collapsed": false
   },
   "outputs": [
    {
     "data": {
      "text/plain": [
       "64.49700940883343"
      ]
     },
     "execution_count": 16,
     "metadata": {},
     "output_type": "execute_result"
    }
   ],
   "source": [
    "df['Lscore'].mean()"
   ]
  },
  {
   "attachments": {},
   "cell_type": "markdown",
   "metadata": {},
   "source": [
    "But what if that's not enough? Let's say we want to actually see the game(row) where this max score happened. We can call the **argmax()** function to identify the row index"
   ]
  },
  {
   "cell_type": "code",
   "execution_count": 17,
   "metadata": {
    "collapsed": false
   },
   "outputs": [
    {
     "data": {
      "text/plain": [
       "24970"
      ]
     },
     "execution_count": 17,
     "metadata": {},
     "output_type": "execute_result"
    }
   ],
   "source": [
    "df['Wscore'].argmax()"
   ]
  },
  {
   "attachments": {},
   "cell_type": "markdown",
   "metadata": {},
   "source": [
    "One of the most useful functions that you can call on certain columns in a dataframe is the **value_counts()** function. It shows how many times each item appears in the column. This particular command shows the number of games in each season"
   ]
  },
  {
   "cell_type": "code",
   "execution_count": 18,
   "metadata": {
    "collapsed": false
   },
   "outputs": [
    {
     "data": {
      "text/plain": [
       "2016    5369\n",
       "2014    5362\n",
       "2015    5354\n",
       "2013    5320\n",
       "2010    5263\n",
       "2012    5253\n",
       "2009    5249\n",
       "2011    5246\n",
       "2008    5163\n",
       "2007    5043\n",
       "2006    4757\n",
       "2005    4675\n",
       "2003    4616\n",
       "2004    4571\n",
       "2002    4555\n",
       "2000    4519\n",
       "2001    4467\n",
       "1999    4222\n",
       "1998    4167\n",
       "1997    4155\n",
       "1992    4127\n",
       "1991    4123\n",
       "1996    4122\n",
       "1995    4077\n",
       "1994    4060\n",
       "1990    4045\n",
       "1989    4037\n",
       "1993    3982\n",
       "1988    3955\n",
       "1987    3915\n",
       "1986    3783\n",
       "1985    3737\n",
       "Name: Season, dtype: int64"
      ]
     },
     "execution_count": 18,
     "metadata": {},
     "output_type": "execute_result"
    }
   ],
   "source": [
    "df['Season'].value_counts()"
   ]
  },
  {
   "attachments": {},
   "cell_type": "markdown",
   "metadata": {},
   "source": [
    "**Q**: How many unique seasons are there in the dataset? Use the nunique() function."
   ]
  },
  {
   "cell_type": "code",
   "execution_count": 13,
   "metadata": {},
   "outputs": [
    {
     "name": "stdout",
     "output_type": "stream",
     "text": [
      "Number of unique seasons: 32\n"
     ]
    }
   ],
   "source": [
    "# Find the number of unique seasons\n",
    "num_unique_seasons = df['Season'].nunique()\n",
    "\n",
    "# Print the result\n",
    "print(\"Number of unique seasons:\", num_unique_seasons)"
   ]
  },
  {
   "attachments": {},
   "cell_type": "markdown",
   "metadata": {},
   "source": [
    "**Q**: Find the team with the most wins. Use the value_counts() function on the Wteam column."
   ]
  },
  {
   "cell_type": "code",
   "execution_count": 14,
   "metadata": {},
   "outputs": [
    {
     "name": "stdout",
     "output_type": "stream",
     "text": [
      "Team with the most wins: 1181\n"
     ]
    }
   ],
   "source": [
    "# Write your code here\n",
    "# Count the number of wins for each team\n",
    "team_wins = df['Wteam'].value_counts()\n",
    "\n",
    "# Get the team with the most wins\n",
    "team_with_most_wins = team_wins.idxmax()\n",
    "\n",
    "# Print the result\n",
    "print(\"Team with the most wins:\", team_with_most_wins)"
   ]
  },
  {
   "attachments": {},
   "cell_type": "markdown",
   "metadata": {},
   "source": [
    "# Acessing Values"
   ]
  },
  {
   "attachments": {},
   "cell_type": "markdown",
   "metadata": {},
   "source": [
    "Then, in order to get attributes about the game, we need to use the **iloc[]** function. Iloc is definitely one of the more important functions. The main idea is that you want to use it whenever you have the integer index of a certain row that you want to access. As per Pandas documentation, iloc is an \"integer-location based indexing for selection by position.\""
   ]
  },
  {
   "cell_type": "code",
   "execution_count": 19,
   "metadata": {
    "collapsed": false
   },
   "outputs": [
    {
     "data": {
      "text/html": [
       "<div>\n",
       "<style scoped>\n",
       "    .dataframe tbody tr th:only-of-type {\n",
       "        vertical-align: middle;\n",
       "    }\n",
       "\n",
       "    .dataframe tbody tr th {\n",
       "        vertical-align: top;\n",
       "    }\n",
       "\n",
       "    .dataframe thead th {\n",
       "        text-align: right;\n",
       "    }\n",
       "</style>\n",
       "<table border=\"1\" class=\"dataframe\">\n",
       "  <thead>\n",
       "    <tr style=\"text-align: right;\">\n",
       "      <th></th>\n",
       "      <th>Season</th>\n",
       "      <th>Daynum</th>\n",
       "      <th>Wteam</th>\n",
       "      <th>Wscore</th>\n",
       "      <th>Lteam</th>\n",
       "      <th>Lscore</th>\n",
       "      <th>Wloc</th>\n",
       "      <th>Numot</th>\n",
       "    </tr>\n",
       "  </thead>\n",
       "  <tbody>\n",
       "    <tr>\n",
       "      <th>24970</th>\n",
       "      <td>1991</td>\n",
       "      <td>68</td>\n",
       "      <td>1258</td>\n",
       "      <td>186</td>\n",
       "      <td>1109</td>\n",
       "      <td>140</td>\n",
       "      <td>H</td>\n",
       "      <td>0</td>\n",
       "    </tr>\n",
       "  </tbody>\n",
       "</table>\n",
       "</div>"
      ],
      "text/plain": [
       "       Season  Daynum  Wteam  Wscore  Lteam  Lscore Wloc  Numot\n",
       "24970    1991      68   1258     186   1109     140    H      0"
      ]
     },
     "execution_count": 19,
     "metadata": {},
     "output_type": "execute_result"
    }
   ],
   "source": [
    "df.iloc[[df['Wscore'].argmax()]]"
   ]
  },
  {
   "attachments": {},
   "cell_type": "markdown",
   "metadata": {},
   "source": [
    "Let's take this a step further. Let's say you want to know the game with the highest scoring winning team (this is what we just calculated), but you then want to know how many points the losing team scored. "
   ]
  },
  {
   "cell_type": "code",
   "execution_count": 20,
   "metadata": {
    "collapsed": false
   },
   "outputs": [
    {
     "data": {
      "text/plain": [
       "24970    140\n",
       "Name: Lscore, dtype: int64"
      ]
     },
     "execution_count": 20,
     "metadata": {},
     "output_type": "execute_result"
    }
   ],
   "source": [
    "df.iloc[[df['Wscore'].argmax()]]['Lscore']"
   ]
  },
  {
   "attachments": {},
   "cell_type": "markdown",
   "metadata": {},
   "source": [
    "When you see data displayed in the above format, you're dealing with a Pandas **Series** object, not a dataframe object."
   ]
  },
  {
   "cell_type": "code",
   "execution_count": 21,
   "metadata": {
    "collapsed": false
   },
   "outputs": [
    {
     "data": {
      "text/plain": [
       "pandas.core.series.Series"
      ]
     },
     "execution_count": 21,
     "metadata": {},
     "output_type": "execute_result"
    }
   ],
   "source": [
    "type(df.iloc[[df['Wscore'].argmax()]]['Lscore'])"
   ]
  },
  {
   "cell_type": "code",
   "execution_count": 22,
   "metadata": {
    "collapsed": false
   },
   "outputs": [
    {
     "data": {
      "text/plain": [
       "pandas.core.frame.DataFrame"
      ]
     },
     "execution_count": 22,
     "metadata": {},
     "output_type": "execute_result"
    }
   ],
   "source": [
    "type(df.iloc[[df['Wscore'].argmax()]])"
   ]
  },
  {
   "attachments": {},
   "cell_type": "markdown",
   "metadata": {},
   "source": [
    "The following is a summary of the 3 data structures in Pandas (Haven't ever really used Panels yet)\n",
    "\n",
    "![](DataStructures.png)"
   ]
  },
  {
   "attachments": {},
   "cell_type": "markdown",
   "metadata": {},
   "source": [
    "When you want to access values in a Series, you'll want to just treat the Series like a Python dictionary, so you'd access the value according to its key (which is normally an integer index)"
   ]
  },
  {
   "cell_type": "code",
   "execution_count": 23,
   "metadata": {
    "collapsed": false
   },
   "outputs": [
    {
     "data": {
      "text/plain": [
       "140"
      ]
     },
     "execution_count": 23,
     "metadata": {},
     "output_type": "execute_result"
    }
   ],
   "source": [
    "df.iloc[[df['Wscore'].argmax()]]['Lscore'][24970]"
   ]
  },
  {
   "attachments": {},
   "cell_type": "markdown",
   "metadata": {},
   "source": [
    "The other really important function in Pandas is the **loc** function. Contrary to iloc, which is an integer based indexing, loc is a \"Purely label-location based indexer for selection by label\". Since all the games are ordered from 0 to 145288, iloc and loc are going to be pretty interchangable in this type of dataset"
   ]
  },
  {
   "cell_type": "code",
   "execution_count": 24,
   "metadata": {
    "collapsed": false
   },
   "outputs": [
    {
     "data": {
      "text/html": [
       "<div>\n",
       "<style scoped>\n",
       "    .dataframe tbody tr th:only-of-type {\n",
       "        vertical-align: middle;\n",
       "    }\n",
       "\n",
       "    .dataframe tbody tr th {\n",
       "        vertical-align: top;\n",
       "    }\n",
       "\n",
       "    .dataframe thead th {\n",
       "        text-align: right;\n",
       "    }\n",
       "</style>\n",
       "<table border=\"1\" class=\"dataframe\">\n",
       "  <thead>\n",
       "    <tr style=\"text-align: right;\">\n",
       "      <th></th>\n",
       "      <th>Season</th>\n",
       "      <th>Daynum</th>\n",
       "      <th>Wteam</th>\n",
       "      <th>Wscore</th>\n",
       "      <th>Lteam</th>\n",
       "      <th>Lscore</th>\n",
       "      <th>Wloc</th>\n",
       "      <th>Numot</th>\n",
       "    </tr>\n",
       "  </thead>\n",
       "  <tbody>\n",
       "    <tr>\n",
       "      <th>0</th>\n",
       "      <td>1985</td>\n",
       "      <td>20</td>\n",
       "      <td>1228</td>\n",
       "      <td>81</td>\n",
       "      <td>1328</td>\n",
       "      <td>64</td>\n",
       "      <td>N</td>\n",
       "      <td>0</td>\n",
       "    </tr>\n",
       "    <tr>\n",
       "      <th>1</th>\n",
       "      <td>1985</td>\n",
       "      <td>25</td>\n",
       "      <td>1106</td>\n",
       "      <td>77</td>\n",
       "      <td>1354</td>\n",
       "      <td>70</td>\n",
       "      <td>H</td>\n",
       "      <td>0</td>\n",
       "    </tr>\n",
       "    <tr>\n",
       "      <th>2</th>\n",
       "      <td>1985</td>\n",
       "      <td>25</td>\n",
       "      <td>1112</td>\n",
       "      <td>63</td>\n",
       "      <td>1223</td>\n",
       "      <td>56</td>\n",
       "      <td>H</td>\n",
       "      <td>0</td>\n",
       "    </tr>\n",
       "  </tbody>\n",
       "</table>\n",
       "</div>"
      ],
      "text/plain": [
       "   Season  Daynum  Wteam  Wscore  Lteam  Lscore Wloc  Numot\n",
       "0    1985      20   1228      81   1328      64    N      0\n",
       "1    1985      25   1106      77   1354      70    H      0\n",
       "2    1985      25   1112      63   1223      56    H      0"
      ]
     },
     "execution_count": 24,
     "metadata": {},
     "output_type": "execute_result"
    }
   ],
   "source": [
    "df.iloc[:3]"
   ]
  },
  {
   "cell_type": "code",
   "execution_count": 25,
   "metadata": {
    "collapsed": false
   },
   "outputs": [
    {
     "data": {
      "text/html": [
       "<div>\n",
       "<style scoped>\n",
       "    .dataframe tbody tr th:only-of-type {\n",
       "        vertical-align: middle;\n",
       "    }\n",
       "\n",
       "    .dataframe tbody tr th {\n",
       "        vertical-align: top;\n",
       "    }\n",
       "\n",
       "    .dataframe thead th {\n",
       "        text-align: right;\n",
       "    }\n",
       "</style>\n",
       "<table border=\"1\" class=\"dataframe\">\n",
       "  <thead>\n",
       "    <tr style=\"text-align: right;\">\n",
       "      <th></th>\n",
       "      <th>Season</th>\n",
       "      <th>Daynum</th>\n",
       "      <th>Wteam</th>\n",
       "      <th>Wscore</th>\n",
       "      <th>Lteam</th>\n",
       "      <th>Lscore</th>\n",
       "      <th>Wloc</th>\n",
       "      <th>Numot</th>\n",
       "    </tr>\n",
       "  </thead>\n",
       "  <tbody>\n",
       "    <tr>\n",
       "      <th>0</th>\n",
       "      <td>1985</td>\n",
       "      <td>20</td>\n",
       "      <td>1228</td>\n",
       "      <td>81</td>\n",
       "      <td>1328</td>\n",
       "      <td>64</td>\n",
       "      <td>N</td>\n",
       "      <td>0</td>\n",
       "    </tr>\n",
       "    <tr>\n",
       "      <th>1</th>\n",
       "      <td>1985</td>\n",
       "      <td>25</td>\n",
       "      <td>1106</td>\n",
       "      <td>77</td>\n",
       "      <td>1354</td>\n",
       "      <td>70</td>\n",
       "      <td>H</td>\n",
       "      <td>0</td>\n",
       "    </tr>\n",
       "    <tr>\n",
       "      <th>2</th>\n",
       "      <td>1985</td>\n",
       "      <td>25</td>\n",
       "      <td>1112</td>\n",
       "      <td>63</td>\n",
       "      <td>1223</td>\n",
       "      <td>56</td>\n",
       "      <td>H</td>\n",
       "      <td>0</td>\n",
       "    </tr>\n",
       "    <tr>\n",
       "      <th>3</th>\n",
       "      <td>1985</td>\n",
       "      <td>25</td>\n",
       "      <td>1165</td>\n",
       "      <td>70</td>\n",
       "      <td>1432</td>\n",
       "      <td>54</td>\n",
       "      <td>H</td>\n",
       "      <td>0</td>\n",
       "    </tr>\n",
       "  </tbody>\n",
       "</table>\n",
       "</div>"
      ],
      "text/plain": [
       "   Season  Daynum  Wteam  Wscore  Lteam  Lscore Wloc  Numot\n",
       "0    1985      20   1228      81   1328      64    N      0\n",
       "1    1985      25   1106      77   1354      70    H      0\n",
       "2    1985      25   1112      63   1223      56    H      0\n",
       "3    1985      25   1165      70   1432      54    H      0"
      ]
     },
     "execution_count": 25,
     "metadata": {},
     "output_type": "execute_result"
    }
   ],
   "source": [
    "df.loc[:3]"
   ]
  },
  {
   "attachments": {},
   "cell_type": "markdown",
   "metadata": {},
   "source": [
    "Notice the slight difference in that iloc is exclusive of the second number, while loc is inclusive. "
   ]
  },
  {
   "attachments": {},
   "cell_type": "markdown",
   "metadata": {},
   "source": [
    "Below is an example of how you can use loc to acheive the same task as we did previously with iloc"
   ]
  },
  {
   "cell_type": "code",
   "execution_count": 26,
   "metadata": {
    "collapsed": false
   },
   "outputs": [
    {
     "data": {
      "text/plain": [
       "140"
      ]
     },
     "execution_count": 26,
     "metadata": {},
     "output_type": "execute_result"
    }
   ],
   "source": [
    "df.loc[df['Wscore'].argmax(), 'Lscore']"
   ]
  },
  {
   "attachments": {},
   "cell_type": "markdown",
   "metadata": {},
   "source": [
    "A faster version uses the **at()** function. At() is really useful wheneever you know the row label and the column label of the particular value that you want to get. "
   ]
  },
  {
   "cell_type": "code",
   "execution_count": 27,
   "metadata": {
    "collapsed": false
   },
   "outputs": [
    {
     "data": {
      "text/plain": [
       "140"
      ]
     },
     "execution_count": 27,
     "metadata": {},
     "output_type": "execute_result"
    }
   ],
   "source": [
    "df.at[df['Wscore'].argmax(), 'Lscore']"
   ]
  },
  {
   "attachments": {},
   "cell_type": "markdown",
   "metadata": {},
   "source": [
    "If you'd like to see more discussion on how loc and iloc are different, check out this great Stack Overflow post: http://stackoverflow.com/questions/31593201/pandas-iloc-vs-ix-vs-loc-explanation. Just remember that **iloc looks at position** and **loc looks at labels**. Loc becomes very important when your row labels aren't integers. "
   ]
  },
  {
   "attachments": {},
   "cell_type": "markdown",
   "metadata": {},
   "source": [
    "# Sorting"
   ]
  },
  {
   "attachments": {},
   "cell_type": "markdown",
   "metadata": {},
   "source": [
    "Let's say that we want to sort the dataframe in increasing order for the scores of the losing team"
   ]
  },
  {
   "cell_type": "code",
   "execution_count": 28,
   "metadata": {
    "collapsed": false,
    "scrolled": true
   },
   "outputs": [
    {
     "data": {
      "text/html": [
       "<div>\n",
       "<style scoped>\n",
       "    .dataframe tbody tr th:only-of-type {\n",
       "        vertical-align: middle;\n",
       "    }\n",
       "\n",
       "    .dataframe tbody tr th {\n",
       "        vertical-align: top;\n",
       "    }\n",
       "\n",
       "    .dataframe thead th {\n",
       "        text-align: right;\n",
       "    }\n",
       "</style>\n",
       "<table border=\"1\" class=\"dataframe\">\n",
       "  <thead>\n",
       "    <tr style=\"text-align: right;\">\n",
       "      <th></th>\n",
       "      <th>Season</th>\n",
       "      <th>Daynum</th>\n",
       "      <th>Wteam</th>\n",
       "      <th>Wscore</th>\n",
       "      <th>Lteam</th>\n",
       "      <th>Lscore</th>\n",
       "      <th>Wloc</th>\n",
       "      <th>Numot</th>\n",
       "    </tr>\n",
       "  </thead>\n",
       "  <tbody>\n",
       "    <tr>\n",
       "      <th>100027</th>\n",
       "      <td>2008</td>\n",
       "      <td>66</td>\n",
       "      <td>1203</td>\n",
       "      <td>49</td>\n",
       "      <td>1387</td>\n",
       "      <td>20</td>\n",
       "      <td>H</td>\n",
       "      <td>0</td>\n",
       "    </tr>\n",
       "    <tr>\n",
       "      <th>49310</th>\n",
       "      <td>1997</td>\n",
       "      <td>66</td>\n",
       "      <td>1157</td>\n",
       "      <td>61</td>\n",
       "      <td>1204</td>\n",
       "      <td>21</td>\n",
       "      <td>H</td>\n",
       "      <td>0</td>\n",
       "    </tr>\n",
       "    <tr>\n",
       "      <th>89021</th>\n",
       "      <td>2006</td>\n",
       "      <td>44</td>\n",
       "      <td>1284</td>\n",
       "      <td>41</td>\n",
       "      <td>1343</td>\n",
       "      <td>21</td>\n",
       "      <td>A</td>\n",
       "      <td>0</td>\n",
       "    </tr>\n",
       "    <tr>\n",
       "      <th>85042</th>\n",
       "      <td>2005</td>\n",
       "      <td>66</td>\n",
       "      <td>1131</td>\n",
       "      <td>73</td>\n",
       "      <td>1216</td>\n",
       "      <td>22</td>\n",
       "      <td>H</td>\n",
       "      <td>0</td>\n",
       "    </tr>\n",
       "    <tr>\n",
       "      <th>103660</th>\n",
       "      <td>2009</td>\n",
       "      <td>26</td>\n",
       "      <td>1326</td>\n",
       "      <td>59</td>\n",
       "      <td>1359</td>\n",
       "      <td>22</td>\n",
       "      <td>H</td>\n",
       "      <td>0</td>\n",
       "    </tr>\n",
       "  </tbody>\n",
       "</table>\n",
       "</div>"
      ],
      "text/plain": [
       "        Season  Daynum  Wteam  Wscore  Lteam  Lscore Wloc  Numot\n",
       "100027    2008      66   1203      49   1387      20    H      0\n",
       "49310     1997      66   1157      61   1204      21    H      0\n",
       "89021     2006      44   1284      41   1343      21    A      0\n",
       "85042     2005      66   1131      73   1216      22    H      0\n",
       "103660    2009      26   1326      59   1359      22    H      0"
      ]
     },
     "execution_count": 28,
     "metadata": {},
     "output_type": "execute_result"
    }
   ],
   "source": [
    "df.sort_values('Lscore').head()"
   ]
  },
  {
   "attachments": {},
   "cell_type": "markdown",
   "metadata": {},
   "source": [
    "**Q**: Make three dataframes that are sorted by season, winning team, and winning score respectively. Then, Using iloc, select the rows from index 100 to 200 and the columns for season, winning team, and winning score, respectively. "
   ]
  },
  {
   "cell_type": "code",
   "execution_count": 20,
   "metadata": {},
   "outputs": [],
   "source": [
    "# Write your code here\n",
    "df_sorted_by_season = df.sort_values(by='Season').iloc[100:201][['Season', 'Wteam', 'Wscore']]\n",
    "df_sorted_by_winning_team = df.sort_values(by='Wteam').iloc[100:201][['Season', 'Wteam', 'Wscore']]\n",
    "df_sorted_by_winning_score = df.sort_values(by='Wscore').iloc[100:201][['Season', 'Wteam', 'Wscore']]"
   ]
  },
  {
   "attachments": {},
   "cell_type": "markdown",
   "metadata": {},
   "source": [
    "**Q**: From these three subsets you obtained above, find the season and winning team for the game with the highest winning score."
   ]
  },
  {
   "cell_type": "code",
   "execution_count": 24,
   "metadata": {},
   "outputs": [
    {
     "name": "stdout",
     "output_type": "stream",
     "text": [
      "\n",
      "For the DataFrame sorted by winning score:\n",
      "        Season  Wteam\n",
      "90572     2006   1416\n",
      "95782     2007   1420\n",
      "32579     1993   1323\n",
      "134862    2015   1259\n",
      "110748    2010   1316\n",
      "107882    2009   1353\n",
      "135830    2015   1143\n",
      "50806     1997   1439\n",
      "6234      1986   1299\n",
      "103943    2009   1214\n",
      "131773    2014   1296\n",
      "92671     2007   1277\n",
      "139914    2015   1461\n",
      "71318     2002   1232\n",
      "6979      1986   1233\n",
      "77707     2003   1410\n",
      "134035    2014   1430\n",
      "22029     1990   1123\n",
      "91291     2006   1179\n",
      "56995     1999   1200\n",
      "9001      1987   1343\n",
      "34997     1993   1157\n",
      "5338      1986   1451\n",
      "127132    2013   1458\n",
      "6101      1986   1165\n",
      "52406     1998   1281\n",
      "113621    2011   1214\n",
      "80994     2004   1104\n",
      "110068    2010   1343\n",
      "1601      1985   1292\n",
      "137787    2015   1224\n",
      "109270    2010   1396\n",
      "123294    2012   1192\n",
      "135433    2015   1438\n",
      "72338     2002   1443\n",
      "135808    2015   1185\n",
      "129196    2013   1380\n",
      "132791    2014   1155\n"
     ]
    }
   ],
   "source": [
    "# Write your code here\n",
    "max_score_season_team_df_sorted_by_season = df_sorted_by_season[df_sorted_by_season.Wscore == df_sorted_by_season.Wscore.max()][['Season', 'Wteam']]\n",
    "max_score_season_team_df_sorted_by_winning_team = df_sorted_by_winning_team[df_sorted_by_winning_team.Wscore == df_sorted_by_winning_team.Wscore.max()][['Season', 'Wteam']]\n",
    "max_score_season_team_df_sorted_by_winning_score = df_sorted_by_winning_score[df_sorted_by_winning_score.Wscore == df_sorted_by_winning_score.Wscore.max()][['Season', 'Wteam']]\n",
    "\n",
    "print(\"\\nFor the DataFrame sorted by winning score:\")\n",
    "print(max_score_season_team_df_sorted_by_winning_score)"
   ]
  },
  {
   "attachments": {},
   "cell_type": "markdown",
   "metadata": {},
   "source": [
    "# Filtering Rows Conditionally"
   ]
  },
  {
   "attachments": {},
   "cell_type": "markdown",
   "metadata": {},
   "source": [
    "Now, let's say we want to find all of the rows that satisy a particular condition. For example, I want to find all of the games where the winning team scored more than 150 points. The idea behind this command is you want to access the column 'Wscore' of the dataframe df (df['Wscore']), find which entries are above 150 (df['Wscore'] > 150), and then returns only those specific rows in a dataframe format (df[df['Wscore'] > 150])."
   ]
  },
  {
   "cell_type": "code",
   "execution_count": 30,
   "metadata": {
    "collapsed": false
   },
   "outputs": [
    {
     "data": {
      "text/html": [
       "<div>\n",
       "<style scoped>\n",
       "    .dataframe tbody tr th:only-of-type {\n",
       "        vertical-align: middle;\n",
       "    }\n",
       "\n",
       "    .dataframe tbody tr th {\n",
       "        vertical-align: top;\n",
       "    }\n",
       "\n",
       "    .dataframe thead th {\n",
       "        text-align: right;\n",
       "    }\n",
       "</style>\n",
       "<table border=\"1\" class=\"dataframe\">\n",
       "  <thead>\n",
       "    <tr style=\"text-align: right;\">\n",
       "      <th></th>\n",
       "      <th>Season</th>\n",
       "      <th>Daynum</th>\n",
       "      <th>Wteam</th>\n",
       "      <th>Wscore</th>\n",
       "      <th>Lteam</th>\n",
       "      <th>Lscore</th>\n",
       "      <th>Wloc</th>\n",
       "      <th>Numot</th>\n",
       "    </tr>\n",
       "  </thead>\n",
       "  <tbody>\n",
       "    <tr>\n",
       "      <th>5269</th>\n",
       "      <td>1986</td>\n",
       "      <td>75</td>\n",
       "      <td>1258</td>\n",
       "      <td>151</td>\n",
       "      <td>1109</td>\n",
       "      <td>107</td>\n",
       "      <td>H</td>\n",
       "      <td>0</td>\n",
       "    </tr>\n",
       "    <tr>\n",
       "      <th>12046</th>\n",
       "      <td>1988</td>\n",
       "      <td>40</td>\n",
       "      <td>1328</td>\n",
       "      <td>152</td>\n",
       "      <td>1147</td>\n",
       "      <td>84</td>\n",
       "      <td>H</td>\n",
       "      <td>0</td>\n",
       "    </tr>\n",
       "    <tr>\n",
       "      <th>12355</th>\n",
       "      <td>1988</td>\n",
       "      <td>52</td>\n",
       "      <td>1328</td>\n",
       "      <td>151</td>\n",
       "      <td>1173</td>\n",
       "      <td>99</td>\n",
       "      <td>N</td>\n",
       "      <td>0</td>\n",
       "    </tr>\n",
       "    <tr>\n",
       "      <th>16040</th>\n",
       "      <td>1989</td>\n",
       "      <td>40</td>\n",
       "      <td>1328</td>\n",
       "      <td>152</td>\n",
       "      <td>1331</td>\n",
       "      <td>122</td>\n",
       "      <td>H</td>\n",
       "      <td>0</td>\n",
       "    </tr>\n",
       "    <tr>\n",
       "      <th>16853</th>\n",
       "      <td>1989</td>\n",
       "      <td>68</td>\n",
       "      <td>1258</td>\n",
       "      <td>162</td>\n",
       "      <td>1109</td>\n",
       "      <td>144</td>\n",
       "      <td>A</td>\n",
       "      <td>0</td>\n",
       "    </tr>\n",
       "    <tr>\n",
       "      <th>17867</th>\n",
       "      <td>1989</td>\n",
       "      <td>92</td>\n",
       "      <td>1258</td>\n",
       "      <td>181</td>\n",
       "      <td>1109</td>\n",
       "      <td>150</td>\n",
       "      <td>H</td>\n",
       "      <td>0</td>\n",
       "    </tr>\n",
       "    <tr>\n",
       "      <th>19653</th>\n",
       "      <td>1990</td>\n",
       "      <td>30</td>\n",
       "      <td>1328</td>\n",
       "      <td>173</td>\n",
       "      <td>1109</td>\n",
       "      <td>101</td>\n",
       "      <td>H</td>\n",
       "      <td>0</td>\n",
       "    </tr>\n",
       "    <tr>\n",
       "      <th>19971</th>\n",
       "      <td>1990</td>\n",
       "      <td>38</td>\n",
       "      <td>1258</td>\n",
       "      <td>152</td>\n",
       "      <td>1109</td>\n",
       "      <td>137</td>\n",
       "      <td>A</td>\n",
       "      <td>0</td>\n",
       "    </tr>\n",
       "    <tr>\n",
       "      <th>20022</th>\n",
       "      <td>1990</td>\n",
       "      <td>40</td>\n",
       "      <td>1116</td>\n",
       "      <td>166</td>\n",
       "      <td>1109</td>\n",
       "      <td>101</td>\n",
       "      <td>H</td>\n",
       "      <td>0</td>\n",
       "    </tr>\n",
       "    <tr>\n",
       "      <th>22145</th>\n",
       "      <td>1990</td>\n",
       "      <td>97</td>\n",
       "      <td>1258</td>\n",
       "      <td>157</td>\n",
       "      <td>1362</td>\n",
       "      <td>115</td>\n",
       "      <td>H</td>\n",
       "      <td>0</td>\n",
       "    </tr>\n",
       "    <tr>\n",
       "      <th>23582</th>\n",
       "      <td>1991</td>\n",
       "      <td>26</td>\n",
       "      <td>1318</td>\n",
       "      <td>152</td>\n",
       "      <td>1258</td>\n",
       "      <td>123</td>\n",
       "      <td>N</td>\n",
       "      <td>0</td>\n",
       "    </tr>\n",
       "    <tr>\n",
       "      <th>24341</th>\n",
       "      <td>1991</td>\n",
       "      <td>47</td>\n",
       "      <td>1328</td>\n",
       "      <td>172</td>\n",
       "      <td>1258</td>\n",
       "      <td>112</td>\n",
       "      <td>H</td>\n",
       "      <td>0</td>\n",
       "    </tr>\n",
       "    <tr>\n",
       "      <th>24970</th>\n",
       "      <td>1991</td>\n",
       "      <td>68</td>\n",
       "      <td>1258</td>\n",
       "      <td>186</td>\n",
       "      <td>1109</td>\n",
       "      <td>140</td>\n",
       "      <td>H</td>\n",
       "      <td>0</td>\n",
       "    </tr>\n",
       "    <tr>\n",
       "      <th>25656</th>\n",
       "      <td>1991</td>\n",
       "      <td>84</td>\n",
       "      <td>1106</td>\n",
       "      <td>151</td>\n",
       "      <td>1212</td>\n",
       "      <td>97</td>\n",
       "      <td>H</td>\n",
       "      <td>0</td>\n",
       "    </tr>\n",
       "    <tr>\n",
       "      <th>28687</th>\n",
       "      <td>1992</td>\n",
       "      <td>54</td>\n",
       "      <td>1261</td>\n",
       "      <td>159</td>\n",
       "      <td>1319</td>\n",
       "      <td>86</td>\n",
       "      <td>H</td>\n",
       "      <td>0</td>\n",
       "    </tr>\n",
       "    <tr>\n",
       "      <th>35023</th>\n",
       "      <td>1993</td>\n",
       "      <td>112</td>\n",
       "      <td>1380</td>\n",
       "      <td>155</td>\n",
       "      <td>1341</td>\n",
       "      <td>91</td>\n",
       "      <td>A</td>\n",
       "      <td>0</td>\n",
       "    </tr>\n",
       "    <tr>\n",
       "      <th>40060</th>\n",
       "      <td>1995</td>\n",
       "      <td>32</td>\n",
       "      <td>1375</td>\n",
       "      <td>156</td>\n",
       "      <td>1341</td>\n",
       "      <td>114</td>\n",
       "      <td>H</td>\n",
       "      <td>0</td>\n",
       "    </tr>\n",
       "    <tr>\n",
       "      <th>52600</th>\n",
       "      <td>1998</td>\n",
       "      <td>33</td>\n",
       "      <td>1395</td>\n",
       "      <td>153</td>\n",
       "      <td>1410</td>\n",
       "      <td>87</td>\n",
       "      <td>H</td>\n",
       "      <td>0</td>\n",
       "    </tr>\n",
       "  </tbody>\n",
       "</table>\n",
       "</div>"
      ],
      "text/plain": [
       "       Season  Daynum  Wteam  Wscore  Lteam  Lscore Wloc  Numot\n",
       "5269     1986      75   1258     151   1109     107    H      0\n",
       "12046    1988      40   1328     152   1147      84    H      0\n",
       "12355    1988      52   1328     151   1173      99    N      0\n",
       "16040    1989      40   1328     152   1331     122    H      0\n",
       "16853    1989      68   1258     162   1109     144    A      0\n",
       "17867    1989      92   1258     181   1109     150    H      0\n",
       "19653    1990      30   1328     173   1109     101    H      0\n",
       "19971    1990      38   1258     152   1109     137    A      0\n",
       "20022    1990      40   1116     166   1109     101    H      0\n",
       "22145    1990      97   1258     157   1362     115    H      0\n",
       "23582    1991      26   1318     152   1258     123    N      0\n",
       "24341    1991      47   1328     172   1258     112    H      0\n",
       "24970    1991      68   1258     186   1109     140    H      0\n",
       "25656    1991      84   1106     151   1212      97    H      0\n",
       "28687    1992      54   1261     159   1319      86    H      0\n",
       "35023    1993     112   1380     155   1341      91    A      0\n",
       "40060    1995      32   1375     156   1341     114    H      0\n",
       "52600    1998      33   1395     153   1410      87    H      0"
      ]
     },
     "execution_count": 30,
     "metadata": {},
     "output_type": "execute_result"
    }
   ],
   "source": [
    "df[df['Wscore'] > 150]"
   ]
  },
  {
   "attachments": {},
   "cell_type": "markdown",
   "metadata": {},
   "source": [
    "This also works if you have multiple conditions. Let's say we want to find out when the winning team scores more than 150 points and when the losing team scores below 100. "
   ]
  },
  {
   "cell_type": "code",
   "execution_count": 31,
   "metadata": {
    "collapsed": false
   },
   "outputs": [
    {
     "data": {
      "text/html": [
       "<div>\n",
       "<style scoped>\n",
       "    .dataframe tbody tr th:only-of-type {\n",
       "        vertical-align: middle;\n",
       "    }\n",
       "\n",
       "    .dataframe tbody tr th {\n",
       "        vertical-align: top;\n",
       "    }\n",
       "\n",
       "    .dataframe thead th {\n",
       "        text-align: right;\n",
       "    }\n",
       "</style>\n",
       "<table border=\"1\" class=\"dataframe\">\n",
       "  <thead>\n",
       "    <tr style=\"text-align: right;\">\n",
       "      <th></th>\n",
       "      <th>Season</th>\n",
       "      <th>Daynum</th>\n",
       "      <th>Wteam</th>\n",
       "      <th>Wscore</th>\n",
       "      <th>Lteam</th>\n",
       "      <th>Lscore</th>\n",
       "      <th>Wloc</th>\n",
       "      <th>Numot</th>\n",
       "    </tr>\n",
       "  </thead>\n",
       "  <tbody>\n",
       "    <tr>\n",
       "      <th>12046</th>\n",
       "      <td>1988</td>\n",
       "      <td>40</td>\n",
       "      <td>1328</td>\n",
       "      <td>152</td>\n",
       "      <td>1147</td>\n",
       "      <td>84</td>\n",
       "      <td>H</td>\n",
       "      <td>0</td>\n",
       "    </tr>\n",
       "    <tr>\n",
       "      <th>12355</th>\n",
       "      <td>1988</td>\n",
       "      <td>52</td>\n",
       "      <td>1328</td>\n",
       "      <td>151</td>\n",
       "      <td>1173</td>\n",
       "      <td>99</td>\n",
       "      <td>N</td>\n",
       "      <td>0</td>\n",
       "    </tr>\n",
       "    <tr>\n",
       "      <th>25656</th>\n",
       "      <td>1991</td>\n",
       "      <td>84</td>\n",
       "      <td>1106</td>\n",
       "      <td>151</td>\n",
       "      <td>1212</td>\n",
       "      <td>97</td>\n",
       "      <td>H</td>\n",
       "      <td>0</td>\n",
       "    </tr>\n",
       "    <tr>\n",
       "      <th>28687</th>\n",
       "      <td>1992</td>\n",
       "      <td>54</td>\n",
       "      <td>1261</td>\n",
       "      <td>159</td>\n",
       "      <td>1319</td>\n",
       "      <td>86</td>\n",
       "      <td>H</td>\n",
       "      <td>0</td>\n",
       "    </tr>\n",
       "    <tr>\n",
       "      <th>35023</th>\n",
       "      <td>1993</td>\n",
       "      <td>112</td>\n",
       "      <td>1380</td>\n",
       "      <td>155</td>\n",
       "      <td>1341</td>\n",
       "      <td>91</td>\n",
       "      <td>A</td>\n",
       "      <td>0</td>\n",
       "    </tr>\n",
       "    <tr>\n",
       "      <th>52600</th>\n",
       "      <td>1998</td>\n",
       "      <td>33</td>\n",
       "      <td>1395</td>\n",
       "      <td>153</td>\n",
       "      <td>1410</td>\n",
       "      <td>87</td>\n",
       "      <td>H</td>\n",
       "      <td>0</td>\n",
       "    </tr>\n",
       "  </tbody>\n",
       "</table>\n",
       "</div>"
      ],
      "text/plain": [
       "       Season  Daynum  Wteam  Wscore  Lteam  Lscore Wloc  Numot\n",
       "12046    1988      40   1328     152   1147      84    H      0\n",
       "12355    1988      52   1328     151   1173      99    N      0\n",
       "25656    1991      84   1106     151   1212      97    H      0\n",
       "28687    1992      54   1261     159   1319      86    H      0\n",
       "35023    1993     112   1380     155   1341      91    A      0\n",
       "52600    1998      33   1395     153   1410      87    H      0"
      ]
     },
     "execution_count": 31,
     "metadata": {},
     "output_type": "execute_result"
    }
   ],
   "source": [
    "df[(df['Wscore'] > 150) & (df['Lscore'] < 100)]"
   ]
  },
  {
   "attachments": {},
   "cell_type": "markdown",
   "metadata": {},
   "source": [
    "**Q**: Create a new column in the DataFrame called 'ScoreDifference' which is the absolute difference between the winning score and the losing score. Filter the DataFrame to only include games where the 'ScoreDifference' is greater than the average 'ScoreDifference' for all games."
   ]
  },
  {
   "cell_type": "code",
   "execution_count": 27,
   "metadata": {},
   "outputs": [
    {
     "data": {
      "text/html": [
       "<div>\n",
       "<style scoped>\n",
       "    .dataframe tbody tr th:only-of-type {\n",
       "        vertical-align: middle;\n",
       "    }\n",
       "\n",
       "    .dataframe tbody tr th {\n",
       "        vertical-align: top;\n",
       "    }\n",
       "\n",
       "    .dataframe thead th {\n",
       "        text-align: right;\n",
       "    }\n",
       "</style>\n",
       "<table border=\"1\" class=\"dataframe\">\n",
       "  <thead>\n",
       "    <tr style=\"text-align: right;\">\n",
       "      <th></th>\n",
       "      <th>Season</th>\n",
       "      <th>Daynum</th>\n",
       "      <th>Wteam</th>\n",
       "      <th>Wscore</th>\n",
       "      <th>Lteam</th>\n",
       "      <th>Lscore</th>\n",
       "      <th>Wloc</th>\n",
       "      <th>Numot</th>\n",
       "      <th>ScoreDifference</th>\n",
       "    </tr>\n",
       "  </thead>\n",
       "  <tbody>\n",
       "    <tr>\n",
       "      <th>0</th>\n",
       "      <td>1985</td>\n",
       "      <td>20</td>\n",
       "      <td>1228</td>\n",
       "      <td>81</td>\n",
       "      <td>1328</td>\n",
       "      <td>64</td>\n",
       "      <td>N</td>\n",
       "      <td>0</td>\n",
       "      <td>17</td>\n",
       "    </tr>\n",
       "    <tr>\n",
       "      <th>3</th>\n",
       "      <td>1985</td>\n",
       "      <td>25</td>\n",
       "      <td>1165</td>\n",
       "      <td>70</td>\n",
       "      <td>1432</td>\n",
       "      <td>54</td>\n",
       "      <td>H</td>\n",
       "      <td>0</td>\n",
       "      <td>16</td>\n",
       "    </tr>\n",
       "    <tr>\n",
       "      <th>6</th>\n",
       "      <td>1985</td>\n",
       "      <td>25</td>\n",
       "      <td>1228</td>\n",
       "      <td>64</td>\n",
       "      <td>1226</td>\n",
       "      <td>44</td>\n",
       "      <td>N</td>\n",
       "      <td>0</td>\n",
       "      <td>20</td>\n",
       "    </tr>\n",
       "    <tr>\n",
       "      <th>8</th>\n",
       "      <td>1985</td>\n",
       "      <td>25</td>\n",
       "      <td>1260</td>\n",
       "      <td>98</td>\n",
       "      <td>1133</td>\n",
       "      <td>80</td>\n",
       "      <td>H</td>\n",
       "      <td>0</td>\n",
       "      <td>18</td>\n",
       "    </tr>\n",
       "    <tr>\n",
       "      <th>10</th>\n",
       "      <td>1985</td>\n",
       "      <td>25</td>\n",
       "      <td>1307</td>\n",
       "      <td>103</td>\n",
       "      <td>1288</td>\n",
       "      <td>71</td>\n",
       "      <td>H</td>\n",
       "      <td>0</td>\n",
       "      <td>32</td>\n",
       "    </tr>\n",
       "    <tr>\n",
       "      <th>...</th>\n",
       "      <td>...</td>\n",
       "      <td>...</td>\n",
       "      <td>...</td>\n",
       "      <td>...</td>\n",
       "      <td>...</td>\n",
       "      <td>...</td>\n",
       "      <td>...</td>\n",
       "      <td>...</td>\n",
       "      <td>...</td>\n",
       "    </tr>\n",
       "    <tr>\n",
       "      <th>145280</th>\n",
       "      <td>2016</td>\n",
       "      <td>131</td>\n",
       "      <td>1401</td>\n",
       "      <td>71</td>\n",
       "      <td>1261</td>\n",
       "      <td>38</td>\n",
       "      <td>N</td>\n",
       "      <td>0</td>\n",
       "      <td>33</td>\n",
       "    </tr>\n",
       "    <tr>\n",
       "      <th>145282</th>\n",
       "      <td>2016</td>\n",
       "      <td>131</td>\n",
       "      <td>1433</td>\n",
       "      <td>76</td>\n",
       "      <td>1172</td>\n",
       "      <td>54</td>\n",
       "      <td>N</td>\n",
       "      <td>0</td>\n",
       "      <td>22</td>\n",
       "    </tr>\n",
       "    <tr>\n",
       "      <th>145284</th>\n",
       "      <td>2016</td>\n",
       "      <td>132</td>\n",
       "      <td>1114</td>\n",
       "      <td>70</td>\n",
       "      <td>1419</td>\n",
       "      <td>50</td>\n",
       "      <td>N</td>\n",
       "      <td>0</td>\n",
       "      <td>20</td>\n",
       "    </tr>\n",
       "    <tr>\n",
       "      <th>145285</th>\n",
       "      <td>2016</td>\n",
       "      <td>132</td>\n",
       "      <td>1163</td>\n",
       "      <td>72</td>\n",
       "      <td>1272</td>\n",
       "      <td>58</td>\n",
       "      <td>N</td>\n",
       "      <td>0</td>\n",
       "      <td>14</td>\n",
       "    </tr>\n",
       "    <tr>\n",
       "      <th>145288</th>\n",
       "      <td>2016</td>\n",
       "      <td>132</td>\n",
       "      <td>1386</td>\n",
       "      <td>87</td>\n",
       "      <td>1433</td>\n",
       "      <td>74</td>\n",
       "      <td>N</td>\n",
       "      <td>0</td>\n",
       "      <td>13</td>\n",
       "    </tr>\n",
       "  </tbody>\n",
       "</table>\n",
       "<p>57227 rows × 9 columns</p>\n",
       "</div>"
      ],
      "text/plain": [
       "        Season  Daynum  Wteam  Wscore  Lteam  Lscore Wloc  Numot  \\\n",
       "0         1985      20   1228      81   1328      64    N      0   \n",
       "3         1985      25   1165      70   1432      54    H      0   \n",
       "6         1985      25   1228      64   1226      44    N      0   \n",
       "8         1985      25   1260      98   1133      80    H      0   \n",
       "10        1985      25   1307     103   1288      71    H      0   \n",
       "...        ...     ...    ...     ...    ...     ...  ...    ...   \n",
       "145280    2016     131   1401      71   1261      38    N      0   \n",
       "145282    2016     131   1433      76   1172      54    N      0   \n",
       "145284    2016     132   1114      70   1419      50    N      0   \n",
       "145285    2016     132   1163      72   1272      58    N      0   \n",
       "145288    2016     132   1386      87   1433      74    N      0   \n",
       "\n",
       "        ScoreDifference  \n",
       "0                    17  \n",
       "3                    16  \n",
       "6                    20  \n",
       "8                    18  \n",
       "10                   32  \n",
       "...                 ...  \n",
       "145280               33  \n",
       "145282               22  \n",
       "145284               20  \n",
       "145285               14  \n",
       "145288               13  \n",
       "\n",
       "[57227 rows x 9 columns]"
      ]
     },
     "execution_count": 27,
     "metadata": {},
     "output_type": "execute_result"
    }
   ],
   "source": [
    "# Write your code here\n",
    "\n",
    "# Create a new column 'ScoreDifference'\n",
    "df['ScoreDifference'] = abs(df['Wscore'] - df['Lscore'])\n",
    "\n",
    "# Calculate the average 'ScoreDifference'\n",
    "average_score_difference = df['ScoreDifference'].mean()\n",
    "\n",
    "# Filter the DataFrame\n",
    "df_filtered = df[df['ScoreDifference'] > average_score_difference]\n",
    "\n",
    "df_filtered\n"
   ]
  },
  {
   "attachments": {},
   "cell_type": "markdown",
   "metadata": {},
   "source": [
    "**Q**: From this filtered DataFrame, find the season and teams involved in the game with the highest 'ScoreDifference'."
   ]
  },
  {
   "cell_type": "code",
   "execution_count": 29,
   "metadata": {},
   "outputs": [
    {
     "data": {
      "text/html": [
       "<div>\n",
       "<style scoped>\n",
       "    .dataframe tbody tr th:only-of-type {\n",
       "        vertical-align: middle;\n",
       "    }\n",
       "\n",
       "    .dataframe tbody tr th {\n",
       "        vertical-align: top;\n",
       "    }\n",
       "\n",
       "    .dataframe thead th {\n",
       "        text-align: right;\n",
       "    }\n",
       "</style>\n",
       "<table border=\"1\" class=\"dataframe\">\n",
       "  <thead>\n",
       "    <tr style=\"text-align: right;\">\n",
       "      <th></th>\n",
       "      <th>Season</th>\n",
       "      <th>Wteam</th>\n",
       "      <th>Lteam</th>\n",
       "    </tr>\n",
       "  </thead>\n",
       "  <tbody>\n",
       "    <tr>\n",
       "      <th>44653</th>\n",
       "      <td>1996</td>\n",
       "      <td>1409</td>\n",
       "      <td>1341</td>\n",
       "    </tr>\n",
       "  </tbody>\n",
       "</table>\n",
       "</div>"
      ],
      "text/plain": [
       "       Season  Wteam  Lteam\n",
       "44653    1996   1409   1341"
      ]
     },
     "execution_count": 29,
     "metadata": {},
     "output_type": "execute_result"
    }
   ],
   "source": [
    "# Write your code here\n",
    "\n",
    "max_score_difference_game = df_filtered[df_filtered['ScoreDifference'] == df_filtered['ScoreDifference'].max()][['Season', 'Wteam', 'Lteam']]\n",
    "\n",
    "\n",
    "max_score_difference_game"
   ]
  },
  {
   "attachments": {},
   "cell_type": "markdown",
   "metadata": {},
   "source": [
    "# Grouping"
   ]
  },
  {
   "attachments": {},
   "cell_type": "markdown",
   "metadata": {},
   "source": [
    "Another important function in Pandas is **groupby()**. This is a function that allows you to group entries by certain attributes (e.g Grouping entries by Wteam number) and then perform operations on them. The following function groups all the entries (games) with the same Wteam number and finds the mean for each group. "
   ]
  },
  {
   "cell_type": "code",
   "execution_count": 32,
   "metadata": {
    "collapsed": false
   },
   "outputs": [
    {
     "data": {
      "text/plain": [
       "Wteam\n",
       "1101    78.111111\n",
       "1102    69.893204\n",
       "1103    75.839768\n",
       "1104    75.825944\n",
       "1105    74.960894\n",
       "Name: Wscore, dtype: float64"
      ]
     },
     "execution_count": 32,
     "metadata": {},
     "output_type": "execute_result"
    }
   ],
   "source": [
    "df.groupby('Wteam')['Wscore'].mean().head()"
   ]
  },
  {
   "attachments": {},
   "cell_type": "markdown",
   "metadata": {},
   "source": [
    "This next command groups all the games with the same Wteam number and finds where how many times that specific team won at home, on the road, or at a neutral site"
   ]
  },
  {
   "cell_type": "code",
   "execution_count": 33,
   "metadata": {
    "collapsed": false,
    "scrolled": false
   },
   "outputs": [
    {
     "data": {
      "text/plain": [
       "Wteam  Wloc\n",
       "1101   H        12\n",
       "       A         3\n",
       "       N         3\n",
       "1102   H       204\n",
       "       A        73\n",
       "       N        32\n",
       "1103   H       324\n",
       "       A       153\n",
       "       N        41\n",
       "Name: Wloc, dtype: int64"
      ]
     },
     "execution_count": 33,
     "metadata": {},
     "output_type": "execute_result"
    }
   ],
   "source": [
    "df.groupby('Wteam')['Wloc'].value_counts().head(9)"
   ]
  },
  {
   "attachments": {},
   "cell_type": "markdown",
   "metadata": {},
   "source": [
    "Each dataframe has a **values** attribute which is useful because it basically displays your dataframe in a numpy array style format"
   ]
  },
  {
   "cell_type": "code",
   "execution_count": 34,
   "metadata": {
    "collapsed": false
   },
   "outputs": [
    {
     "data": {
      "text/plain": [
       "array([[1985, 20, 1228, ..., 64, 'N', 0],\n",
       "       [1985, 25, 1106, ..., 70, 'H', 0],\n",
       "       [1985, 25, 1112, ..., 56, 'H', 0],\n",
       "       ...,\n",
       "       [2016, 132, 1246, ..., 77, 'N', 1],\n",
       "       [2016, 132, 1277, ..., 62, 'N', 0],\n",
       "       [2016, 132, 1386, ..., 74, 'N', 0]], dtype=object)"
      ]
     },
     "execution_count": 34,
     "metadata": {},
     "output_type": "execute_result"
    }
   ],
   "source": [
    "df.values"
   ]
  },
  {
   "attachments": {},
   "cell_type": "markdown",
   "metadata": {},
   "source": [
    "Now, you can simply just access elements like you would in an array. "
   ]
  },
  {
   "cell_type": "code",
   "execution_count": 35,
   "metadata": {
    "collapsed": false
   },
   "outputs": [
    {
     "data": {
      "text/plain": [
       "1985"
      ]
     },
     "execution_count": 35,
     "metadata": {},
     "output_type": "execute_result"
    }
   ],
   "source": [
    "df.values[0][0]"
   ]
  },
  {
   "attachments": {},
   "cell_type": "markdown",
   "metadata": {},
   "source": [
    "**Q**: Group the DataFrame by season and find the average winning score for each season."
   ]
  },
  {
   "cell_type": "code",
   "execution_count": 31,
   "metadata": {},
   "outputs": [
    {
     "data": {
      "text/plain": [
       "Season\n",
       "1985    74.723040\n",
       "1986    74.813640\n",
       "1987    77.993870\n",
       "1988    79.773704\n",
       "1989    81.728511\n",
       "1990    80.846477\n",
       "1991    82.733932\n",
       "1992    79.992004\n",
       "1993    79.508790\n",
       "1994    81.160345\n",
       "1995    80.096149\n",
       "1996    78.205483\n",
       "1997    76.300842\n",
       "1998    77.229902\n",
       "1999    76.043581\n",
       "2000    76.310467\n",
       "2001    77.088650\n",
       "2002    76.963557\n",
       "2003    75.795061\n",
       "2004    74.971122\n",
       "2005    74.693690\n",
       "2006    74.587555\n",
       "2007    74.829467\n",
       "2008    74.962425\n",
       "2009    74.033721\n",
       "2010    74.652480\n",
       "2011    74.374190\n",
       "2012    73.379973\n",
       "2013    72.840789\n",
       "2014    76.101268\n",
       "2015    72.680799\n",
       "2016    78.295958\n",
       "Name: Wscore, dtype: float64"
      ]
     },
     "execution_count": 31,
     "metadata": {},
     "output_type": "execute_result"
    }
   ],
   "source": [
    "# Write your code here\n",
    "\n",
    "average_winning_score_by_season = df.groupby('Season')['Wscore'].mean()\n",
    "\n",
    "average_winning_score_by_season"
   ]
  },
  {
   "attachments": {},
   "cell_type": "markdown",
   "metadata": {},
   "source": [
    "**Q**: Group the DataFrame by winning team and find the maximum winning score for each team across all seasons."
   ]
  },
  {
   "cell_type": "code",
   "execution_count": 33,
   "metadata": {},
   "outputs": [
    {
     "data": {
      "text/plain": [
       "Wteam\n",
       "1101     95\n",
       "1102    111\n",
       "1103    109\n",
       "1104    114\n",
       "1105    114\n",
       "       ... \n",
       "1460    136\n",
       "1461    112\n",
       "1462    125\n",
       "1463    105\n",
       "1464    115\n",
       "Name: Wscore, Length: 364, dtype: int64"
      ]
     },
     "execution_count": 33,
     "metadata": {},
     "output_type": "execute_result"
    }
   ],
   "source": [
    "# Write your code here\n",
    "\n",
    "max_winning_score_by_team = df.groupby('Wteam')['Wscore'].max()\n",
    "\n",
    "max_winning_score_by_team"
   ]
  },
  {
   "attachments": {},
   "cell_type": "markdown",
   "metadata": {},
   "source": [
    "**Q**: Group the DataFrame by both season and winning team. Find the team with the highest average winning score for each season."
   ]
  },
  {
   "cell_type": "code",
   "execution_count": 35,
   "metadata": {},
   "outputs": [
    {
     "data": {
      "text/plain": [
       "Season\n",
       "1985    (1985, 1328)\n",
       "1986    (1986, 1109)\n",
       "1987    (1987, 1380)\n",
       "1988    (1988, 1258)\n",
       "1989    (1989, 1258)\n",
       "1990    (1990, 1258)\n",
       "1991    (1991, 1380)\n",
       "1992    (1992, 1380)\n",
       "1993    (1993, 1380)\n",
       "1994    (1994, 1380)\n",
       "1995    (1995, 1206)\n",
       "1996    (1996, 1206)\n",
       "1997    (1997, 1254)\n",
       "1998    (1998, 1395)\n",
       "1999    (1999, 1317)\n",
       "2000    (2000, 1395)\n",
       "2001    (2001, 1395)\n",
       "2002    (2002, 1242)\n",
       "2003    (2003, 1395)\n",
       "2004    (2004, 1194)\n",
       "2005    (2005, 1311)\n",
       "2006    (2006, 1190)\n",
       "2007    (2007, 1440)\n",
       "2008    (2008, 1440)\n",
       "2009    (2009, 1377)\n",
       "2010    (2010, 1440)\n",
       "2011    (2011, 1449)\n",
       "2012    (2012, 1370)\n",
       "2013    (2013, 1377)\n",
       "2014    (2014, 1322)\n",
       "2015    (2015, 1322)\n",
       "2016    (2016, 1146)\n",
       "Name: Wscore, dtype: object"
      ]
     },
     "execution_count": 35,
     "metadata": {},
     "output_type": "execute_result"
    }
   ],
   "source": [
    "# Write your code here\n",
    "\n",
    "average_winning_score_by_season_and_team = df.groupby(['Season', 'Wteam'])['Wscore'].mean()\n",
    "highest_average_winning_score_by_season = average_winning_score_by_season_and_team.groupby('Season').idxmax()"
   ]
  },
  {
   "attachments": {},
   "cell_type": "markdown",
   "metadata": {},
   "source": [
    "**Q**: Create a new DataFrame that counts the number of wins for each team in each season. This will involve grouping by both season and winning team, and then using the count() function."
   ]
  },
  {
   "cell_type": "code",
   "execution_count": 38,
   "metadata": {},
   "outputs": [
    {
     "data": {
      "text/html": [
       "<div>\n",
       "<style scoped>\n",
       "    .dataframe tbody tr th:only-of-type {\n",
       "        vertical-align: middle;\n",
       "    }\n",
       "\n",
       "    .dataframe tbody tr th {\n",
       "        vertical-align: top;\n",
       "    }\n",
       "\n",
       "    .dataframe thead th {\n",
       "        text-align: right;\n",
       "    }\n",
       "</style>\n",
       "<table border=\"1\" class=\"dataframe\">\n",
       "  <thead>\n",
       "    <tr style=\"text-align: right;\">\n",
       "      <th></th>\n",
       "      <th>Season</th>\n",
       "      <th>Wteam</th>\n",
       "      <th>Wins</th>\n",
       "    </tr>\n",
       "  </thead>\n",
       "  <tbody>\n",
       "    <tr>\n",
       "      <th>0</th>\n",
       "      <td>1985</td>\n",
       "      <td>1102</td>\n",
       "      <td>5</td>\n",
       "    </tr>\n",
       "    <tr>\n",
       "      <th>1</th>\n",
       "      <td>1985</td>\n",
       "      <td>1103</td>\n",
       "      <td>9</td>\n",
       "    </tr>\n",
       "    <tr>\n",
       "      <th>2</th>\n",
       "      <td>1985</td>\n",
       "      <td>1104</td>\n",
       "      <td>21</td>\n",
       "    </tr>\n",
       "    <tr>\n",
       "      <th>3</th>\n",
       "      <td>1985</td>\n",
       "      <td>1106</td>\n",
       "      <td>10</td>\n",
       "    </tr>\n",
       "    <tr>\n",
       "      <th>4</th>\n",
       "      <td>1985</td>\n",
       "      <td>1108</td>\n",
       "      <td>19</td>\n",
       "    </tr>\n",
       "    <tr>\n",
       "      <th>...</th>\n",
       "      <td>...</td>\n",
       "      <td>...</td>\n",
       "      <td>...</td>\n",
       "    </tr>\n",
       "    <tr>\n",
       "      <th>10167</th>\n",
       "      <td>2016</td>\n",
       "      <td>1460</td>\n",
       "      <td>20</td>\n",
       "    </tr>\n",
       "    <tr>\n",
       "      <th>10168</th>\n",
       "      <td>2016</td>\n",
       "      <td>1461</td>\n",
       "      <td>12</td>\n",
       "    </tr>\n",
       "    <tr>\n",
       "      <th>10169</th>\n",
       "      <td>2016</td>\n",
       "      <td>1462</td>\n",
       "      <td>27</td>\n",
       "    </tr>\n",
       "    <tr>\n",
       "      <th>10170</th>\n",
       "      <td>2016</td>\n",
       "      <td>1463</td>\n",
       "      <td>21</td>\n",
       "    </tr>\n",
       "    <tr>\n",
       "      <th>10171</th>\n",
       "      <td>2016</td>\n",
       "      <td>1464</td>\n",
       "      <td>9</td>\n",
       "    </tr>\n",
       "  </tbody>\n",
       "</table>\n",
       "<p>10172 rows × 3 columns</p>\n",
       "</div>"
      ],
      "text/plain": [
       "       Season  Wteam  Wins\n",
       "0        1985   1102     5\n",
       "1        1985   1103     9\n",
       "2        1985   1104    21\n",
       "3        1985   1106    10\n",
       "4        1985   1108    19\n",
       "...       ...    ...   ...\n",
       "10167    2016   1460    20\n",
       "10168    2016   1461    12\n",
       "10169    2016   1462    27\n",
       "10170    2016   1463    21\n",
       "10171    2016   1464     9\n",
       "\n",
       "[10172 rows x 3 columns]"
      ]
     },
     "execution_count": 38,
     "metadata": {},
     "output_type": "execute_result"
    }
   ],
   "source": [
    "# Write your code here\n",
    "wins_by_team_by_season = df.groupby(['Season', 'Wteam']).size().reset_index(name='Wins')\n",
    "\n",
    "wins_by_team_by_season"
   ]
  },
  {
   "attachments": {},
   "cell_type": "markdown",
   "metadata": {},
   "source": [
    "**Q**: For each season, find the team with the most wins. This will involve creating a DataFrame similar to the one in task 5, and then using the idxmax() function for each season."
   ]
  },
  {
   "cell_type": "code",
   "execution_count": 39,
   "metadata": {},
   "outputs": [
    {
     "data": {
      "text/plain": [
       "Season\n",
       "1985     217\n",
       "1986     342\n",
       "1987     818\n",
       "1988     861\n",
       "1989    1323\n",
       "1990    1551\n",
       "1991    1739\n",
       "1992    2088\n",
       "1993    2423\n",
       "1994    2665\n",
       "1995    2928\n",
       "1996    3357\n",
       "1997    3638\n",
       "1998    3943\n",
       "1999    4201\n",
       "2000    4709\n",
       "2001    4829\n",
       "2002    5121\n",
       "2003    5456\n",
       "2004    5981\n",
       "2005    6165\n",
       "2006    6452\n",
       "2007    6841\n",
       "2008    7209\n",
       "2009    7552\n",
       "2010    7870\n",
       "2011    8217\n",
       "2012    8565\n",
       "2013    8878\n",
       "2014    9462\n",
       "2015    9609\n",
       "2016    9955\n",
       "Name: Wins, dtype: int64"
      ]
     },
     "execution_count": 39,
     "metadata": {},
     "output_type": "execute_result"
    }
   ],
   "source": [
    "# Write your code here\n",
    "team_with_most_wins_by_season = wins_by_team_by_season.groupby('Season')['Wins'].idxmax()\n",
    "team_with_most_wins_by_season"
   ]
  },
  {
   "attachments": {},
   "cell_type": "markdown",
   "metadata": {},
   "source": [
    "**Q**: Group the DataFrame by losing team and find the average losing score for each team across all seasons. Compare this with the average winning score for each team from task 3. Are there teams that have a higher average losing score than winning score?"
   ]
  },
  {
   "cell_type": "code",
   "execution_count": 41,
   "metadata": {},
   "outputs": [
    {
     "data": {
      "text/plain": [
       "Series([], Name: Lscore, dtype: float64)"
      ]
     },
     "execution_count": 41,
     "metadata": {},
     "output_type": "execute_result"
    }
   ],
   "source": [
    "# Write your code here\n",
    "average_losing_score_by_team = df.groupby('Lteam')['Lscore'].mean()\n",
    "teams_with_higher_average_losing_score = average_losing_score_by_team[average_losing_score_by_team > max_winning_score_by_team]\n",
    "\n",
    "teams_with_higher_average_losing_score"
   ]
  },
  {
   "attachments": {},
   "cell_type": "markdown",
   "metadata": {},
   "source": [
    "# Dataframe Iteration"
   ]
  },
  {
   "attachments": {},
   "cell_type": "markdown",
   "metadata": {},
   "source": [
    "In order to iterate through dataframes, we can use the **iterrows()** function. Below is an example of what the first two rows look like. Each row in iterrows is a Series object"
   ]
  },
  {
   "cell_type": "code",
   "execution_count": 64,
   "metadata": {
    "collapsed": false
   },
   "outputs": [
    {
     "name": "stdout",
     "output_type": "stream",
     "text": [
      "Season    1985\n",
      "Daynum      20\n",
      "Wteam     1228\n",
      "Wscore      81\n",
      "Lteam     1328\n",
      "Lscore      64\n",
      "Wloc         N\n",
      "Numot        0\n",
      "Name: 0, dtype: object\n",
      "Season    1985\n",
      "Daynum      25\n",
      "Wteam     1106\n",
      "Wscore      77\n",
      "Lteam     1354\n",
      "Lscore      70\n",
      "Wloc         H\n",
      "Numot        0\n",
      "Name: 1, dtype: object\n"
     ]
    }
   ],
   "source": [
    "for index, row in df.iterrows():\n",
    "    print(row)\n",
    "    if index == 1:\n",
    "        break"
   ]
  },
  {
   "attachments": {},
   "cell_type": "markdown",
   "metadata": {},
   "source": [
    "**Q**: Create a new column 'HighScoringGame' that is 'Yes' if the winning score is greater than 100 and 'No' otherwise. This will require iterating over the rows of the DataFrame and checking the value of the winning score for each row."
   ]
  },
  {
   "cell_type": "code",
   "execution_count": 46,
   "metadata": {},
   "outputs": [],
   "source": [
    "# Write your code here\n",
    "df['HighScoringGame'] = ['Yes' if x > 100 else 'No' for x in df['Wscore']]"
   ]
  },
  {
   "attachments": {},
   "cell_type": "markdown",
   "metadata": {},
   "source": [
    "**Q**: Calculate the total number of games played by each team, whether they won or lost. This will require iterating over the rows of the DataFrame and updating a dictionary that keeps track of the number of games for each team."
   ]
  },
  {
   "cell_type": "code",
   "execution_count": 47,
   "metadata": {},
   "outputs": [
    {
     "name": "stdout",
     "output_type": "stream",
     "text": [
      "Team 1228 played 992 games.\n",
      "Team 1328 played 968 games.\n",
      "Team 1106 played 855 games.\n",
      "Team 1354 played 906 games.\n",
      "Team 1112 played 981 games.\n",
      "Team 1223 played 363 games.\n",
      "Team 1165 played 833 games.\n",
      "Team 1432 played 69 games.\n",
      "Team 1192 played 908 games.\n",
      "Team 1447 played 903 games.\n",
      "Team 1218 played 931 games.\n",
      "Team 1337 played 922 games.\n",
      "Team 1226 played 847 games.\n",
      "Team 1242 played 993 games.\n",
      "Team 1268 played 969 games.\n",
      "Team 1260 played 914 games.\n",
      "Team 1133 played 949 games.\n",
      "Team 1305 played 922 games.\n",
      "Team 1424 played 974 games.\n",
      "Team 1307 played 969 games.\n",
      "Team 1288 played 925 games.\n",
      "Team 1344 played 951 games.\n",
      "Team 1438 played 952 games.\n",
      "Team 1374 played 916 games.\n",
      "Team 1411 played 903 games.\n",
      "Team 1412 played 962 games.\n",
      "Team 1397 played 963 games.\n",
      "Team 1417 played 966 games.\n",
      "Team 1225 played 880 games.\n",
      "Team 1116 played 980 games.\n",
      "Team 1368 played 808 games.\n",
      "Team 1120 played 936 games.\n",
      "Team 1391 played 879 games.\n",
      "Team 1135 played 847 games.\n",
      "Team 1306 played 898 games.\n",
      "Team 1143 played 947 games.\n",
      "Team 1388 played 897 games.\n",
      "Team 1153 played 970 games.\n",
      "Team 1184 played 863 games.\n",
      "Team 1159 played 887 games.\n",
      "Team 1171 played 829 games.\n",
      "Team 1216 played 930 games.\n",
      "Team 1173 played 960 games.\n",
      "Team 1134 played 200 games.\n",
      "Team 1177 played 942 games.\n",
      "Team 1296 played 879 games.\n",
      "Team 1193 played 942 games.\n",
      "Team 1265 played 934 games.\n",
      "Team 1196 played 981 games.\n",
      "Team 1416 played 881 games.\n",
      "Team 1206 played 938 games.\n",
      "Team 1137 played 912 games.\n",
      "Team 1210 played 972 games.\n",
      "Team 1149 played 824 games.\n",
      "Team 1211 played 921 games.\n",
      "Team 1102 played 840 games.\n",
      "Team 1234 played 968 games.\n",
      "Team 1114 played 910 games.\n",
      "Team 1332 played 927 games.\n",
      "Team 1243 played 927 games.\n",
      "Team 1317 played 883 games.\n",
      "Team 1257 played 994 games.\n",
      "Team 1231 played 969 games.\n",
      "Team 1277 played 966 games.\n",
      "Team 1145 played 934 games.\n",
      "Team 1278 played 948 games.\n",
      "Team 1453 played 912 games.\n",
      "Team 1286 played 851 games.\n",
      "Team 1186 played 849 games.\n",
      "Team 1301 played 979 games.\n",
      "Team 1144 played 850 games.\n",
      "Team 1325 played 942 games.\n",
      "Team 1384 played 887 games.\n",
      "Team 1326 played 968 games.\n",
      "Team 1248 played 896 games.\n",
      "Team 1287 played 857 games.\n",
      "Team 1339 played 879 games.\n",
      "Team 1334 played 899 games.\n",
      "Team 1365 played 907 games.\n",
      "Team 1375 played 896 games.\n",
      "Team 1126 played 906 games.\n",
      "Team 1403 played 939 games.\n",
      "Team 1152 played 865 games.\n",
      "Team 1423 played 931 games.\n",
      "Team 1347 played 858 games.\n",
      "Team 1429 played 930 games.\n",
      "Team 1428 played 931 games.\n",
      "Team 1437 played 983 games.\n",
      "Team 1436 played 911 games.\n",
      "Team 1172 played 879 games.\n",
      "Team 1439 played 946 games.\n",
      "Team 1330 played 963 games.\n",
      "Team 1443 played 942 games.\n",
      "Team 1121 played 175 games.\n",
      "Team 1455 played 947 games.\n",
      "Team 1249 played 873 games.\n",
      "Team 1241 played 942 games.\n",
      "Team 1440 played 825 games.\n",
      "Team 1314 played 1010 games.\n",
      "Team 1200 played 922 games.\n",
      "Team 1323 played 950 games.\n",
      "Team 1264 played 928 games.\n",
      "Team 1458 played 951 games.\n",
      "Team 1104 played 975 games.\n",
      "Team 1160 played 928 games.\n",
      "Team 1414 played 922 games.\n",
      "Team 1181 played 1013 games.\n",
      "Team 1387 played 956 games.\n",
      "Team 1183 played 871 games.\n",
      "Team 1247 played 943 games.\n",
      "Team 1284 played 932 games.\n",
      "Team 1402 played 847 games.\n",
      "Team 1276 played 959 games.\n",
      "Team 1178 played 920 games.\n",
      "Team 1364 played 890 games.\n",
      "Team 1338 played 962 games.\n",
      "Team 1290 played 875 games.\n",
      "Team 1376 played 945 games.\n",
      "Team 1378 played 936 games.\n",
      "Team 1202 played 856 games.\n",
      "Team 1396 played 979 games.\n",
      "Team 1180 played 930 games.\n",
      "Team 1398 played 870 games.\n",
      "Team 1399 played 860 games.\n",
      "Team 1155 played 950 games.\n",
      "Team 1258 played 898 games.\n",
      "Team 1448 played 947 games.\n",
      "Team 1464 played 856 games.\n",
      "Team 1124 played 906 games.\n",
      "Team 1341 played 857 games.\n",
      "Team 1130 played 951 games.\n",
      "Team 1254 played 898 games.\n",
      "Team 1204 played 862 games.\n",
      "Team 1151 played 899 games.\n",
      "Team 1233 played 957 games.\n",
      "Team 1220 played 933 games.\n",
      "Team 1246 played 999 games.\n",
      "Team 1405 played 921 games.\n",
      "Team 1280 played 946 games.\n",
      "Team 1238 played 920 games.\n",
      "Team 1308 played 935 games.\n",
      "Team 1431 played 937 games.\n",
      "Team 1253 played 915 games.\n",
      "Team 1363 played 889 games.\n",
      "Team 1348 played 938 games.\n",
      "Team 1373 played 950 games.\n",
      "Team 1379 played 896 games.\n",
      "Team 1270 played 861 games.\n",
      "Team 1409 played 966 games.\n",
      "Team 1331 played 809 games.\n",
      "Team 1444 played 916 games.\n",
      "Team 1434 played 902 games.\n",
      "Team 1451 played 866 games.\n",
      "Team 1139 played 923 games.\n",
      "Team 1442 played 840 games.\n",
      "Team 1154 played 820 games.\n",
      "Team 1456 played 891 games.\n",
      "Team 1229 played 951 games.\n",
      "Team 1227 played 917 games.\n",
      "Team 1259 played 913 games.\n",
      "Team 1406 played 926 games.\n",
      "Team 1261 played 956 games.\n",
      "Team 1272 played 992 games.\n",
      "Team 1117 played 891 games.\n",
      "Team 1273 played 896 games.\n",
      "Team 1163 played 977 games.\n",
      "Team 1318 played 942 games.\n",
      "Team 1360 played 889 games.\n",
      "Team 1393 played 993 games.\n",
      "Team 1419 played 894 games.\n",
      "Team 1418 played 912 games.\n",
      "Team 1281 played 977 games.\n",
      "Team 1161 played 905 games.\n",
      "Team 1109 played 169 games.\n",
      "Team 1309 played 840 games.\n",
      "Team 1298 played 894 games.\n",
      "Team 1321 played 912 games.\n",
      "Team 1285 played 865 games.\n",
      "Team 1271 played 887 games.\n",
      "Team 1353 played 939 games.\n",
      "Team 1351 played 929 games.\n",
      "Team 1359 played 874 games.\n",
      "Team 1267 played 909 games.\n",
      "Team 1361 played 915 games.\n",
      "Team 1386 played 958 games.\n",
      "Team 1400 played 982 games.\n",
      "Team 1322 played 854 games.\n",
      "Team 1433 played 975 games.\n",
      "Team 1187 played 861 games.\n",
      "Team 1245 played 927 games.\n",
      "Team 1111 played 876 games.\n",
      "Team 1150 played 942 games.\n",
      "Team 1119 played 868 games.\n",
      "Team 1141 played 872 games.\n",
      "Team 1221 played 929 games.\n",
      "Team 1122 played 903 games.\n",
      "Team 1185 played 900 games.\n",
      "Team 1199 played 949 games.\n",
      "Team 1201 played 947 games.\n",
      "Team 1212 played 837 games.\n",
      "Team 1197 played 896 games.\n",
      "Team 1140 played 965 games.\n",
      "Team 1292 played 888 games.\n",
      "Team 1162 played 831 games.\n",
      "Team 1319 played 843 games.\n",
      "Team 1239 played 891 games.\n",
      "Team 1320 played 913 games.\n",
      "Team 1371 played 946 games.\n",
      "Team 1349 played 888 games.\n",
      "Team 1222 played 930 games.\n",
      "Team 1382 played 914 games.\n",
      "Team 1383 played 898 games.\n",
      "Team 1385 played 954 games.\n",
      "Team 1390 played 932 games.\n",
      "Team 1425 played 944 games.\n",
      "Team 1435 played 961 games.\n",
      "Team 1463 played 838 games.\n",
      "Team 1441 played 854 games.\n",
      "Team 1449 played 938 games.\n",
      "Team 1123 played 906 games.\n",
      "Team 1103 played 910 games.\n",
      "Team 1129 played 907 games.\n",
      "Team 1209 played 891 games.\n",
      "Team 1156 played 900 games.\n",
      "Team 1336 played 926 games.\n",
      "Team 1174 played 913 games.\n",
      "Team 1343 played 832 games.\n",
      "Team 1232 played 913 games.\n",
      "Team 1203 played 933 games.\n",
      "Team 1110 played 910 games.\n",
      "Team 1335 played 880 games.\n",
      "Team 1283 played 952 games.\n",
      "Team 1235 played 950 games.\n",
      "Team 1166 played 957 games.\n",
      "Team 1311 played 839 games.\n",
      "Team 1256 played 925 games.\n",
      "Team 1147 played 698 games.\n",
      "Team 1250 played 898 games.\n",
      "Team 1266 played 951 games.\n",
      "Team 1452 played 945 games.\n",
      "Team 1269 played 946 games.\n",
      "Team 1208 played 954 games.\n",
      "Team 1310 played 949 games.\n",
      "Team 1329 played 941 games.\n",
      "Team 1333 played 911 games.\n",
      "Team 1345 played 966 games.\n",
      "Team 1263 played 898 games.\n",
      "Team 1352 played 925 games.\n",
      "Team 1380 played 862 games.\n",
      "Team 1446 played 48 games.\n",
      "Team 1427 played 858 games.\n",
      "Team 1113 played 937 games.\n",
      "Team 1408 played 808 games.\n",
      "Team 1410 played 831 games.\n",
      "Team 1350 played 959 games.\n",
      "Team 1450 played 913 games.\n",
      "Team 1462 played 954 games.\n",
      "Team 1131 played 945 games.\n",
      "Team 1190 played 891 games.\n",
      "Team 1168 played 891 games.\n",
      "Team 1179 played 914 games.\n",
      "Team 1304 played 953 games.\n",
      "Team 1224 played 907 games.\n",
      "Team 1356 played 953 games.\n",
      "Team 1426 played 859 games.\n",
      "Team 1215 played 147 games.\n",
      "Team 1132 played 895 games.\n",
      "Team 1217 played 828 games.\n",
      "Team 1389 played 928 games.\n",
      "Team 1395 played 943 games.\n",
      "Team 1461 played 914 games.\n",
      "Team 1279 played 927 games.\n",
      "Team 1275 played 932 games.\n",
      "Team 1293 played 886 games.\n",
      "Team 1191 played 928 games.\n",
      "Team 1299 played 870 games.\n",
      "Team 1401 played 940 games.\n",
      "Team 1175 played 890 games.\n",
      "Team 1327 played 22 games.\n",
      "Team 1207 played 923 games.\n",
      "Team 1108 played 866 games.\n",
      "Team 1182 played 924 games.\n",
      "Team 1274 played 915 games.\n",
      "Team 1362 played 867 games.\n",
      "Team 1164 played 893 games.\n",
      "Team 1118 played 27 games.\n",
      "Team 1420 played 845 games.\n",
      "Team 1457 played 801 games.\n",
      "Team 1148 played 844 games.\n",
      "Team 1372 played 795 games.\n",
      "Team 1157 played 784 games.\n",
      "Team 1421 played 799 games.\n",
      "Team 1358 played 806 games.\n",
      "Team 1460 played 827 games.\n",
      "Team 1198 played 812 games.\n",
      "Team 1291 played 815 games.\n",
      "Team 1381 played 735 games.\n",
      "Team 1251 played 755 games.\n",
      "Team 1282 played 745 games.\n",
      "Team 1169 played 724 games.\n",
      "Team 1302 played 200 games.\n",
      "Team 1454 played 737 games.\n",
      "Team 1170 played 660 games.\n",
      "Team 1138 played 728 games.\n",
      "Team 1158 played 720 games.\n",
      "Team 1422 played 719 games.\n",
      "Team 1369 played 682 games.\n",
      "Team 1404 played 643 games.\n",
      "Team 1194 played 647 games.\n",
      "Team 1407 played 639 games.\n",
      "Team 1142 played 597 games.\n",
      "Team 1214 played 627 games.\n",
      "Team 1459 played 575 games.\n",
      "Team 1240 played 568 games.\n",
      "Team 1313 played 563 games.\n",
      "Team 1115 played 520 games.\n",
      "Team 1176 played 526 games.\n",
      "Team 1346 played 522 games.\n",
      "Team 1237 played 519 games.\n",
      "Team 1340 played 497 games.\n",
      "Team 1107 played 512 games.\n",
      "Team 1357 played 500 games.\n",
      "Team 1324 played 506 games.\n",
      "Team 1189 played 481 games.\n",
      "Team 1125 played 506 games.\n",
      "Team 1105 played 447 games.\n",
      "Team 1392 played 493 games.\n",
      "Team 1219 played 466 games.\n",
      "Team 1127 played 442 games.\n",
      "Team 1289 played 48 games.\n",
      "Team 1415 played 418 games.\n",
      "Team 1236 played 400 games.\n",
      "Team 1394 played 390 games.\n",
      "Team 1205 played 405 games.\n",
      "Team 1128 played 106 games.\n",
      "Team 1252 played 401 games.\n",
      "Team 1366 played 384 games.\n",
      "Team 1294 played 336 games.\n",
      "Team 1255 played 344 games.\n",
      "Team 1430 played 325 games.\n",
      "Team 1413 played 348 games.\n",
      "Team 1355 played 327 games.\n",
      "Team 1244 played 322 games.\n",
      "Team 1295 played 308 games.\n",
      "Team 1316 played 327 games.\n",
      "Team 1445 played 107 games.\n",
      "Team 1312 played 276 games.\n",
      "Team 1146 played 267 games.\n",
      "Team 1167 played 260 games.\n",
      "Team 1300 played 252 games.\n",
      "Team 1367 played 267 games.\n",
      "Team 1342 played 260 games.\n",
      "Team 1195 played 273 games.\n",
      "Team 1188 played 207 games.\n",
      "Team 1377 played 210 games.\n",
      "Team 1315 played 217 games.\n",
      "Team 1136 played 240 games.\n",
      "Team 1370 played 222 games.\n",
      "Team 1303 played 129 games.\n",
      "Team 1297 played 113 games.\n",
      "Team 1213 played 84 games.\n",
      "Team 1262 played 83 games.\n",
      "Team 1101 played 76 games.\n",
      "Team 1230 played 64 games.\n"
     ]
    }
   ],
   "source": [
    "# Write your code here\n",
    "games_played = {}\n",
    "for i, row in df.iterrows():\n",
    "    games_played[row['Wteam']] = games_played.get(row['Wteam'], 0) + 1\n",
    "    games_played[row['Lteam']] = games_played.get(row['Lteam'], 0) + 1\n",
    "\n",
    "for team, games in games_played.items():\n",
    "    print(f'Team {team} played {games} games.')\n",
    "\n"
   ]
  },
  {
   "attachments": {},
   "cell_type": "markdown",
   "metadata": {},
   "source": [
    "**Q**: For each season, find the game with the highest score difference (winning score - losing score). This will require iterating over the rows of the DataFrame, keeping track of the highest score difference for each season, and updating it if a game with a higher score difference is found."
   ]
  },
  {
   "cell_type": "code",
   "execution_count": 48,
   "metadata": {},
   "outputs": [
    {
     "name": "stdout",
     "output_type": "stream",
     "text": [
      "The game with the highest score difference in season 1985 is at index 236 with a score difference of 60.\n",
      "The game with the highest score difference in season 1986 is at index 4731 with a score difference of 84.\n",
      "The game with the highest score difference in season 1987 is at index 8240 with a score difference of 73.\n",
      "The game with the highest score difference in season 1988 is at index 12046 with a score difference of 68.\n",
      "The game with the highest score difference in season 1989 is at index 16677 with a score difference of 70.\n",
      "The game with the highest score difference in season 1990 is at index 19502 with a score difference of 76.\n",
      "The game with the highest score difference in season 1991 is at index 25161 with a score difference of 68.\n",
      "The game with the highest score difference in season 1992 is at index 27997 with a score difference of 82.\n",
      "The game with the highest score difference in season 1993 is at index 33858 with a score difference of 81.\n",
      "The game with the highest score difference in season 1994 is at index 36404 with a score difference of 69.\n",
      "The game with the highest score difference in season 1995 is at index 39858 with a score difference of 74.\n",
      "The game with the highest score difference in season 1996 is at index 44653 with a score difference of 91.\n",
      "The game with the highest score difference in season 1997 is at index 49033 with a score difference of 80.\n",
      "The game with the highest score difference in season 1998 is at index 52600 with a score difference of 66.\n",
      "The game with the highest score difference in season 1999 is at index 57618 with a score difference of 75.\n",
      "The game with the highest score difference in season 2000 is at index 60616 with a score difference of 75.\n",
      "The game with the highest score difference in season 2001 is at index 65999 with a score difference of 75.\n",
      "The game with the highest score difference in season 2002 is at index 70737 with a score difference of 59.\n",
      "The game with the highest score difference in season 2003 is at index 74791 with a score difference of 72.\n",
      "The game with the highest score difference in season 2004 is at index 79181 with a score difference of 70.\n",
      "The game with the highest score difference in season 2005 is at index 83372 with a score difference of 64.\n",
      "The game with the highest score difference in season 2006 is at index 89542 with a score difference of 72.\n",
      "The game with the highest score difference in season 2007 is at index 94507 with a score difference of 74.\n",
      "The game with the highest score difference in season 2008 is at index 97737 with a score difference of 70.\n",
      "The game with the highest score difference in season 2009 is at index 103723 with a score difference of 68.\n",
      "The game with the highest score difference in season 2010 is at index 108405 with a score difference of 75.\n",
      "The game with the highest score difference in season 2011 is at index 114015 with a score difference of 69.\n",
      "The game with the highest score difference in season 2012 is at index 118699 with a score difference of 62.\n",
      "The game with the highest score difference in season 2013 is at index 124057 with a score difference of 58.\n",
      "The game with the highest score difference in season 2014 is at index 131373 with a score difference of 74.\n",
      "The game with the highest score difference in season 2015 is at index 134590 with a score difference of 69.\n",
      "The game with the highest score difference in season 2016 is at index 140040 with a score difference of 73.\n"
     ]
    }
   ],
   "source": [
    "# Write your code here\n",
    "highest_score_difference_by_season = {}\n",
    "for i, row in df.iterrows():\n",
    "    score_difference = row['Wscore'] - row['Lscore']\n",
    "    if row['Season'] not in highest_score_difference_by_season or score_difference > highest_score_difference_by_season[row['Season']][1]:\n",
    "        highest_score_difference_by_season[row['Season']] = (i, score_difference)\n",
    "\n",
    "\n",
    "for season, (index, score_difference) in highest_score_difference_by_season.items():\n",
    "    print(f'The game with the highest score difference in season {season} is at index {index} with a score difference of {score_difference}.')"
   ]
  },
  {
   "attachments": {},
   "cell_type": "markdown",
   "metadata": {},
   "source": [
    "Remember, iterating over a DataFrame should generally be avoided if a vectorized operation can be used instead, as vectorized operations are usually much faster. However, these tasks are designed to give practice with DataFrame iteration for cases where it might be necessary."
   ]
  },
  {
   "attachments": {},
   "cell_type": "markdown",
   "metadata": {},
   "source": [
    "Vectorized Operation Example: Create a new column 'HighScoringGame' in the DataFrame using a vectorized operation. This column should contain 'Yes' if the winning score is greater than 100 and 'No' otherwise. Use the np.where function from the numpy library for this task."
   ]
  },
  {
   "cell_type": "code",
   "execution_count": 69,
   "metadata": {},
   "outputs": [],
   "source": [
    "import numpy as np\n",
    "df['HighScoringGame'] = np.where(df['Wscore'] > 100, 'Yes', 'No')"
   ]
  },
  {
   "attachments": {},
   "cell_type": "markdown",
   "metadata": {},
   "source": [
    "**Q**: Vectorized Operation: Calculate the total number of games played by each team, whether they won or lost. Instead of iterating over the DataFrame, use the value_counts() function on the winning team and losing team columns separately, and then add the two Series together."
   ]
  },
  {
   "cell_type": "code",
   "execution_count": 49,
   "metadata": {},
   "outputs": [
    {
     "name": "stdout",
     "output_type": "stream",
     "text": [
      "1101     76\n",
      "1102    840\n",
      "1103    910\n",
      "1104    975\n",
      "1105    447\n",
      "       ... \n",
      "1460    827\n",
      "1461    914\n",
      "1462    954\n",
      "1463    838\n",
      "1464    856\n",
      "Name: count, Length: 364, dtype: int64\n"
     ]
    }
   ],
   "source": [
    "# Write your code here\n",
    "\n",
    "games_played_vectorized = df['Wteam'].value_counts() + df['Lteam'].value_counts()\n",
    "print(games_played_vectorized)"
   ]
  },
  {
   "attachments": {},
   "cell_type": "markdown",
   "metadata": {},
   "source": [
    "**Q**: For each season, find the game with the highest score difference (winning score - losing score). Instead of iterating over the DataFrame, create a new column 'ScoreDifference' using vectorized subtraction, then use the groupby() function and idxmax() function to find the game with the highest score difference for each season."
   ]
  },
  {
   "cell_type": "code",
   "execution_count": 50,
   "metadata": {},
   "outputs": [
    {
     "name": "stdout",
     "output_type": "stream",
     "text": [
      "        Season  Daynum  Wteam  Wscore  Lteam  Lscore Wloc  Numot  \\\n",
      "236       1985      33   1361     128   1288      68    H      0   \n",
      "4731      1986      60   1314     129   1264      45    N      0   \n",
      "8240      1987      51   1155     112   1118      39    H      0   \n",
      "12046     1988      40   1328     152   1147      84    H      0   \n",
      "16677     1989      64   1242     115   1135      45    H      0   \n",
      "19502     1990      26   1181     130   1217      54    H      0   \n",
      "25161     1991      73   1163     115   1148      47    H      0   \n",
      "27997     1992      30   1116     128   1126      46    H      0   \n",
      "33858     1993      86   1328     146   1197      65    H      0   \n",
      "36404     1994      47   1228     121   1152      52    H      0   \n",
      "39858     1995      26   1246     124   1404      50    H      0   \n",
      "44653     1996      48   1409     141   1341      50    H      0   \n",
      "49033     1997      56   1278     114   1106      34    H      0   \n",
      "52600     1998      33   1395     153   1410      87    H      0   \n",
      "57618     1999      58   1268     132   1317      57    H      0   \n",
      "60616     2000      19   1261     112   1212      37    H      0   \n",
      "65999     2001      41   1196     125   1197      50    H      0   \n",
      "70737     2002      50   1328     109   1183      50    H      0   \n",
      "74791     2003      33   1403     107   1311      35    H      0   \n",
      "79181     2004      29   1328      94   1115      24    H      0   \n",
      "83372     2005      18   1403     119   1421      55    H      0   \n",
      "89542     2006      60   1400     110   1341      38    H      0   \n",
      "94507     2007      59   1401     101   1212      27    H      0   \n",
      "97737     2008       4   1182     129   1224      59    H      0   \n",
      "103723    2009      27   1314     116   1421      48    H      0   \n",
      "108405    2010      15   1397     124   1421      49    H      0   \n",
      "114015    2011      22   1388     121   1152      52    H      0   \n",
      "118699    2012      11   1345      96   1296      34    H      0   \n",
      "124057    2013       7   1235      98   1105      40    H      0   \n",
      "131373    2014      61   1256     126   1255      52    H      0   \n",
      "134590    2015      11   1181     113   1342      44    H      0   \n",
      "140040    2016      12   1139     144   1154      71    H      0   \n",
      "\n",
      "        ScoreDifference HighScoringGame  \n",
      "236                  60             Yes  \n",
      "4731                 84             Yes  \n",
      "8240                 73             Yes  \n",
      "12046                68             Yes  \n",
      "16677                70             Yes  \n",
      "19502                76             Yes  \n",
      "25161                68             Yes  \n",
      "27997                82             Yes  \n",
      "33858                81             Yes  \n",
      "36404                69             Yes  \n",
      "39858                74             Yes  \n",
      "44653                91             Yes  \n",
      "49033                80             Yes  \n",
      "52600                66             Yes  \n",
      "57618                75             Yes  \n",
      "60616                75             Yes  \n",
      "65999                75             Yes  \n",
      "70737                59             Yes  \n",
      "74791                72             Yes  \n",
      "79181                70              No  \n",
      "83372                64             Yes  \n",
      "89542                72             Yes  \n",
      "94507                74             Yes  \n",
      "97737                70             Yes  \n",
      "103723               68             Yes  \n",
      "108405               75             Yes  \n",
      "114015               69             Yes  \n",
      "118699               62              No  \n",
      "124057               58              No  \n",
      "131373               74             Yes  \n",
      "134590               69             Yes  \n",
      "140040               73             Yes  \n"
     ]
    }
   ],
   "source": [
    "# Write your code here\n",
    "\n",
    "df['ScoreDifference'] = df['Wscore'] - df['Lscore']\n",
    "highest_score_difference_game_by_season = df.groupby('Season')['ScoreDifference'].idxmax()\n",
    "\n",
    "print(df.loc[highest_score_difference_game_by_season])"
   ]
  },
  {
   "attachments": {},
   "cell_type": "markdown",
   "metadata": {},
   "source": [
    "# Extracting Rows and Columns"
   ]
  },
  {
   "attachments": {},
   "cell_type": "markdown",
   "metadata": {},
   "source": [
    "The bracket indexing operator is one way to extract certain columns from a dataframe."
   ]
  },
  {
   "cell_type": "code",
   "execution_count": 38,
   "metadata": {
    "collapsed": false,
    "scrolled": true
   },
   "outputs": [
    {
     "data": {
      "text/html": [
       "<div>\n",
       "<style scoped>\n",
       "    .dataframe tbody tr th:only-of-type {\n",
       "        vertical-align: middle;\n",
       "    }\n",
       "\n",
       "    .dataframe tbody tr th {\n",
       "        vertical-align: top;\n",
       "    }\n",
       "\n",
       "    .dataframe thead th {\n",
       "        text-align: right;\n",
       "    }\n",
       "</style>\n",
       "<table border=\"1\" class=\"dataframe\">\n",
       "  <thead>\n",
       "    <tr style=\"text-align: right;\">\n",
       "      <th></th>\n",
       "      <th>Wscore</th>\n",
       "      <th>Lscore</th>\n",
       "    </tr>\n",
       "  </thead>\n",
       "  <tbody>\n",
       "    <tr>\n",
       "      <th>0</th>\n",
       "      <td>81</td>\n",
       "      <td>64</td>\n",
       "    </tr>\n",
       "    <tr>\n",
       "      <th>1</th>\n",
       "      <td>77</td>\n",
       "      <td>70</td>\n",
       "    </tr>\n",
       "    <tr>\n",
       "      <th>2</th>\n",
       "      <td>63</td>\n",
       "      <td>56</td>\n",
       "    </tr>\n",
       "    <tr>\n",
       "      <th>3</th>\n",
       "      <td>70</td>\n",
       "      <td>54</td>\n",
       "    </tr>\n",
       "    <tr>\n",
       "      <th>4</th>\n",
       "      <td>86</td>\n",
       "      <td>74</td>\n",
       "    </tr>\n",
       "  </tbody>\n",
       "</table>\n",
       "</div>"
      ],
      "text/plain": [
       "   Wscore  Lscore\n",
       "0      81      64\n",
       "1      77      70\n",
       "2      63      56\n",
       "3      70      54\n",
       "4      86      74"
      ]
     },
     "execution_count": 38,
     "metadata": {},
     "output_type": "execute_result"
    }
   ],
   "source": [
    "df[['Wscore', 'Lscore']].head()"
   ]
  },
  {
   "attachments": {},
   "cell_type": "markdown",
   "metadata": {},
   "source": [
    "Notice that you can acheive the same result by using the loc function. Loc is a veryyyy versatile function that can help you in a lot of accessing and extracting tasks. "
   ]
  },
  {
   "cell_type": "code",
   "execution_count": 39,
   "metadata": {
    "collapsed": false
   },
   "outputs": [
    {
     "data": {
      "text/html": [
       "<div>\n",
       "<style scoped>\n",
       "    .dataframe tbody tr th:only-of-type {\n",
       "        vertical-align: middle;\n",
       "    }\n",
       "\n",
       "    .dataframe tbody tr th {\n",
       "        vertical-align: top;\n",
       "    }\n",
       "\n",
       "    .dataframe thead th {\n",
       "        text-align: right;\n",
       "    }\n",
       "</style>\n",
       "<table border=\"1\" class=\"dataframe\">\n",
       "  <thead>\n",
       "    <tr style=\"text-align: right;\">\n",
       "      <th></th>\n",
       "      <th>Wscore</th>\n",
       "      <th>Lscore</th>\n",
       "    </tr>\n",
       "  </thead>\n",
       "  <tbody>\n",
       "    <tr>\n",
       "      <th>0</th>\n",
       "      <td>81</td>\n",
       "      <td>64</td>\n",
       "    </tr>\n",
       "    <tr>\n",
       "      <th>1</th>\n",
       "      <td>77</td>\n",
       "      <td>70</td>\n",
       "    </tr>\n",
       "    <tr>\n",
       "      <th>2</th>\n",
       "      <td>63</td>\n",
       "      <td>56</td>\n",
       "    </tr>\n",
       "    <tr>\n",
       "      <th>3</th>\n",
       "      <td>70</td>\n",
       "      <td>54</td>\n",
       "    </tr>\n",
       "    <tr>\n",
       "      <th>4</th>\n",
       "      <td>86</td>\n",
       "      <td>74</td>\n",
       "    </tr>\n",
       "  </tbody>\n",
       "</table>\n",
       "</div>"
      ],
      "text/plain": [
       "   Wscore  Lscore\n",
       "0      81      64\n",
       "1      77      70\n",
       "2      63      56\n",
       "3      70      54\n",
       "4      86      74"
      ]
     },
     "execution_count": 39,
     "metadata": {},
     "output_type": "execute_result"
    }
   ],
   "source": [
    "df.loc[:, ['Wscore', 'Lscore']].head()"
   ]
  },
  {
   "attachments": {},
   "cell_type": "markdown",
   "metadata": {},
   "source": [
    "Note the difference is the return types when you use brackets and when you use double brackets. "
   ]
  },
  {
   "cell_type": "code",
   "execution_count": 40,
   "metadata": {
    "collapsed": false
   },
   "outputs": [
    {
     "data": {
      "text/plain": [
       "pandas.core.series.Series"
      ]
     },
     "execution_count": 40,
     "metadata": {},
     "output_type": "execute_result"
    }
   ],
   "source": [
    "type(df['Wscore'])"
   ]
  },
  {
   "cell_type": "code",
   "execution_count": 41,
   "metadata": {
    "collapsed": false
   },
   "outputs": [
    {
     "data": {
      "text/plain": [
       "pandas.core.frame.DataFrame"
      ]
     },
     "execution_count": 41,
     "metadata": {},
     "output_type": "execute_result"
    }
   ],
   "source": [
    "type(df[['Wscore']])"
   ]
  },
  {
   "attachments": {},
   "cell_type": "markdown",
   "metadata": {},
   "source": [
    "You've seen before that you can access columns through df['col name']. You can access rows by using slicing operations. "
   ]
  },
  {
   "cell_type": "code",
   "execution_count": 42,
   "metadata": {
    "collapsed": false
   },
   "outputs": [
    {
     "data": {
      "text/html": [
       "<div>\n",
       "<style scoped>\n",
       "    .dataframe tbody tr th:only-of-type {\n",
       "        vertical-align: middle;\n",
       "    }\n",
       "\n",
       "    .dataframe tbody tr th {\n",
       "        vertical-align: top;\n",
       "    }\n",
       "\n",
       "    .dataframe thead th {\n",
       "        text-align: right;\n",
       "    }\n",
       "</style>\n",
       "<table border=\"1\" class=\"dataframe\">\n",
       "  <thead>\n",
       "    <tr style=\"text-align: right;\">\n",
       "      <th></th>\n",
       "      <th>Season</th>\n",
       "      <th>Daynum</th>\n",
       "      <th>Wteam</th>\n",
       "      <th>Wscore</th>\n",
       "      <th>Lteam</th>\n",
       "      <th>Lscore</th>\n",
       "      <th>Wloc</th>\n",
       "      <th>Numot</th>\n",
       "    </tr>\n",
       "  </thead>\n",
       "  <tbody>\n",
       "    <tr>\n",
       "      <th>0</th>\n",
       "      <td>1985</td>\n",
       "      <td>20</td>\n",
       "      <td>1228</td>\n",
       "      <td>81</td>\n",
       "      <td>1328</td>\n",
       "      <td>64</td>\n",
       "      <td>N</td>\n",
       "      <td>0</td>\n",
       "    </tr>\n",
       "    <tr>\n",
       "      <th>1</th>\n",
       "      <td>1985</td>\n",
       "      <td>25</td>\n",
       "      <td>1106</td>\n",
       "      <td>77</td>\n",
       "      <td>1354</td>\n",
       "      <td>70</td>\n",
       "      <td>H</td>\n",
       "      <td>0</td>\n",
       "    </tr>\n",
       "    <tr>\n",
       "      <th>2</th>\n",
       "      <td>1985</td>\n",
       "      <td>25</td>\n",
       "      <td>1112</td>\n",
       "      <td>63</td>\n",
       "      <td>1223</td>\n",
       "      <td>56</td>\n",
       "      <td>H</td>\n",
       "      <td>0</td>\n",
       "    </tr>\n",
       "  </tbody>\n",
       "</table>\n",
       "</div>"
      ],
      "text/plain": [
       "   Season  Daynum  Wteam  Wscore  Lteam  Lscore Wloc  Numot\n",
       "0    1985      20   1228      81   1328      64    N      0\n",
       "1    1985      25   1106      77   1354      70    H      0\n",
       "2    1985      25   1112      63   1223      56    H      0"
      ]
     },
     "execution_count": 42,
     "metadata": {},
     "output_type": "execute_result"
    }
   ],
   "source": [
    "df[0:3]"
   ]
  },
  {
   "attachments": {},
   "cell_type": "markdown",
   "metadata": {},
   "source": [
    "Here's an equivalent using iloc"
   ]
  },
  {
   "cell_type": "code",
   "execution_count": 43,
   "metadata": {
    "collapsed": false
   },
   "outputs": [
    {
     "data": {
      "text/html": [
       "<div>\n",
       "<style scoped>\n",
       "    .dataframe tbody tr th:only-of-type {\n",
       "        vertical-align: middle;\n",
       "    }\n",
       "\n",
       "    .dataframe tbody tr th {\n",
       "        vertical-align: top;\n",
       "    }\n",
       "\n",
       "    .dataframe thead th {\n",
       "        text-align: right;\n",
       "    }\n",
       "</style>\n",
       "<table border=\"1\" class=\"dataframe\">\n",
       "  <thead>\n",
       "    <tr style=\"text-align: right;\">\n",
       "      <th></th>\n",
       "      <th>Season</th>\n",
       "      <th>Daynum</th>\n",
       "      <th>Wteam</th>\n",
       "      <th>Wscore</th>\n",
       "      <th>Lteam</th>\n",
       "      <th>Lscore</th>\n",
       "      <th>Wloc</th>\n",
       "      <th>Numot</th>\n",
       "    </tr>\n",
       "  </thead>\n",
       "  <tbody>\n",
       "    <tr>\n",
       "      <th>0</th>\n",
       "      <td>1985</td>\n",
       "      <td>20</td>\n",
       "      <td>1228</td>\n",
       "      <td>81</td>\n",
       "      <td>1328</td>\n",
       "      <td>64</td>\n",
       "      <td>N</td>\n",
       "      <td>0</td>\n",
       "    </tr>\n",
       "    <tr>\n",
       "      <th>1</th>\n",
       "      <td>1985</td>\n",
       "      <td>25</td>\n",
       "      <td>1106</td>\n",
       "      <td>77</td>\n",
       "      <td>1354</td>\n",
       "      <td>70</td>\n",
       "      <td>H</td>\n",
       "      <td>0</td>\n",
       "    </tr>\n",
       "    <tr>\n",
       "      <th>2</th>\n",
       "      <td>1985</td>\n",
       "      <td>25</td>\n",
       "      <td>1112</td>\n",
       "      <td>63</td>\n",
       "      <td>1223</td>\n",
       "      <td>56</td>\n",
       "      <td>H</td>\n",
       "      <td>0</td>\n",
       "    </tr>\n",
       "  </tbody>\n",
       "</table>\n",
       "</div>"
      ],
      "text/plain": [
       "   Season  Daynum  Wteam  Wscore  Lteam  Lscore Wloc  Numot\n",
       "0    1985      20   1228      81   1328      64    N      0\n",
       "1    1985      25   1106      77   1354      70    H      0\n",
       "2    1985      25   1112      63   1223      56    H      0"
      ]
     },
     "execution_count": 43,
     "metadata": {},
     "output_type": "execute_result"
    }
   ],
   "source": [
    "df.iloc[0:3,:]"
   ]
  },
  {
   "attachments": {},
   "cell_type": "markdown",
   "metadata": {},
   "source": [
    "# Data Cleaning"
   ]
  },
  {
   "attachments": {},
   "cell_type": "markdown",
   "metadata": {},
   "source": [
    "One of the big jobs of doing well in Kaggle competitions is that of data cleaning. A lot of times, the CSV file you're given (especially like in the Titanic dataset), you'll have a lot of missing values in the dataset, which you have to identify. The following **isnull** function will figure out if there are any missing values in the dataframe, and will then sum up the total for each column. In this case, we have a pretty clean dataset."
   ]
  },
  {
   "cell_type": "code",
   "execution_count": 44,
   "metadata": {
    "collapsed": false
   },
   "outputs": [
    {
     "data": {
      "text/plain": [
       "Season    0\n",
       "Daynum    0\n",
       "Wteam     0\n",
       "Wscore    0\n",
       "Lteam     0\n",
       "Lscore    0\n",
       "Wloc      0\n",
       "Numot     0\n",
       "dtype: int64"
      ]
     },
     "execution_count": 44,
     "metadata": {},
     "output_type": "execute_result"
    }
   ],
   "source": [
    "df.isnull().sum()"
   ]
  },
  {
   "attachments": {},
   "cell_type": "markdown",
   "metadata": {},
   "source": [
    "If you do end up having missing values in your datasets, be sure to get familiar with these two functions. \n",
    "* **dropna()** - This function allows you to drop all(or some) of the rows that have missing values. \n",
    "* **fillna()** - This function allows you replace the rows that have missing values with the value that you pass in."
   ]
  },
  {
   "attachments": {},
   "cell_type": "markdown",
   "metadata": {},
   "source": [
    "# Other Useful Functions"
   ]
  },
  {
   "attachments": {},
   "cell_type": "markdown",
   "metadata": {},
   "source": [
    "* **drop()** - This function removes the column or row that you pass in (You also have the specify the axis). \n",
    "* **agg()** - The aggregate function lets you compute summary statistics about each group\n",
    "* **apply()** - Lets you apply a specific function to any/all elements in a Dataframe or Series\n",
    "* **get_dummies()** - Helpful for turning categorical data into one hot vectors.\n",
    "* **drop_duplicates()** - Lets you remove identical rows"
   ]
  },
  {
   "attachments": {},
   "cell_type": "markdown",
   "metadata": {
    "collapsed": true
   },
   "source": [
    "# Lots of Other Great Resources"
   ]
  },
  {
   "attachments": {},
   "cell_type": "markdown",
   "metadata": {},
   "source": [
    "Pandas has been around for a while and there are a lot of other good resources if you're still interested on getting the most out of this library. \n",
    "* http://pandas.pydata.org/pandas-docs/stable/10min.html\n",
    "* https://www.datacamp.com/community/tutorials/pandas-tutorial-dataframe-python\n",
    "* http://www.gregreda.com/2013/10/26/intro-to-pandas-data-structures/\n",
    "* https://www.dataquest.io/blog/pandas-python-tutorial/\n",
    "* https://drive.google.com/file/d/0ByIrJAE4KMTtTUtiVExiUGVkRkE/view\n",
    "* https://www.youtube.com/playlist?list=PL5-da3qGB5ICCsgW1MxlZ0Hq8LL5U3u9y"
   ]
  }
 ],
 "metadata": {
  "anaconda-cloud": {},
  "kernelspec": {
   "display_name": "base",
   "language": "python",
   "name": "python3"
  },
  "language_info": {
   "codemirror_mode": {
    "name": "ipython",
    "version": 3
   },
   "file_extension": ".py",
   "mimetype": "text/x-python",
   "name": "python",
   "nbconvert_exporter": "python",
   "pygments_lexer": "ipython3",
   "version": "3.9.13"
  }
 },
 "nbformat": 4,
 "nbformat_minor": 1
}
